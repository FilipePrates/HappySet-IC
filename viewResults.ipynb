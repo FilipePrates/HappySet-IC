{
 "cells": [
  {
   "cell_type": "code",
   "execution_count": 68,
   "metadata": {},
   "outputs": [],
   "source": [
    "import pandas as pd\n",
    "import numpy as np\n",
    "import pandas as pd\n",
    "import matplotlib.pyplot as plt\n",
    "import matplotlib.colors as mcolors\n",
    "import kaleido\n",
    "import seaborn as sns\n",
    "import plotly.express as px\n",
    "import plotly.graph_objects as go\n",
    "from plotly.colors import sample_colorscale"
   ]
  },
  {
   "cell_type": "code",
   "execution_count": 2,
   "metadata": {},
   "outputs": [],
   "source": [
    "# for graphClass in [\"star\", \"cubic\", \"bipartite\", \"BA\", \"lollipop\"]:\n",
    "#     GraphsResults6p7_4(graphClass)"
   ]
  },
  {
   "cell_type": "code",
   "execution_count": 3,
   "metadata": {},
   "outputs": [],
   "source": [
    "def GraphsResults3():\n",
    "    df3 = pd.read_csv(r'output/results3.csv')\n",
    "    df3['k_ratio'] = df3['k'] / df3['n']\n",
    "    dfnow = df3[df3['status'] == 101]\n",
    "\n",
    "    for graphClass in [\"star\", \"cubic\", \"bipartite\", \"BA\", \"lollipop\"]:\n",
    "        filtered_df = dfnow[dfnow['graph_class'] == graphClass]\n",
    "        fig = px.scatter(filtered_df, x='n', y='result_time', \n",
    "                        color='k_ratio', symbol='k_ratio', \n",
    "                        color_continuous_scale=px.colors.sequential.Viridis, \n",
    "                        title=f'{graphClass} graphs - Result time vs N and Class', \n",
    "                        labels={'n': 'Numero de nós', 'result_time': 'Result Time', 'k_ratio': 'Parameters'},\n",
    "                        template='plotly_dark')\n",
    "\n",
    "        fig.update_xaxes(type='log', range=[0, 4.3], title_text='Numero de nós')\n",
    "        fig.update_yaxes(type='log', range=[-2.5, 2.5], title_text='Result Time')\n",
    "\n",
    "        fig.update_layout(\n",
    "            title=dict(\n",
    "                text=f'{graphClass} graphs - Result time vs N and Class',\n",
    "                x=0.5,\n",
    "                xanchor='center'\n",
    "            ),\n",
    "            legend=dict(\n",
    "                title='Parameters',\n",
    "                x=1.05,\n",
    "                y=1,\n",
    "                borderwidth=1\n",
    "            ),\n",
    "            margin=dict(l=50, r=50, t=50, b=50),\n",
    "            hovermode='closest',    \n",
    "            template='plotly_dark',\n",
    "            coloraxis_showscale=False\n",
    "        )\n",
    "\n",
    "        fig.update_traces(marker=dict(line=dict(width=1, color='DarkSlateGrey'), size=20),\n",
    "                        selector=dict(mode='markers'))\n",
    "\n",
    "        fig.update_layout(legend_title=dict(font=dict(size=12)))\n",
    "        \n",
    "\n",
    "        fig.show()"
   ]
  },
  {
   "cell_type": "code",
   "execution_count": 4,
   "metadata": {},
   "outputs": [],
   "source": [
    "def GraphsResults4():\n",
    "    df3 = pd.read_csv(r'results4.csv')\n",
    "    df3['k_ratio'] = df3['k'] / df3['n']\n",
    "    dfnow = df3[df3['status'] == 101]\n",
    "\n",
    "    for graphClass in [\"star\", \"cubic\", \"bipartite\", \"BA\", \"lollipop\"]:\n",
    "        filtered_df = dfnow[dfnow['graph_class'] == graphClass]\n",
    "        fig = px.scatter(filtered_df, x='n', y='result_time', \n",
    "                        color='k_ratio', symbol='k_ratio', \n",
    "                        color_continuous_scale=px.colors.sequential.Viridis, \n",
    "                        title=f'{graphClass} graphs - Result time vs N and Class', \n",
    "                        labels={'n': 'Numero de nós', 'result_time': 'Result Time', 'k_ratio': 'Parameters'},\n",
    "                        template='plotly_dark')\n",
    "\n",
    "        fig.update_xaxes(type='log', range=[0, 4.5], title_text='Numero de nós')\n",
    "        fig.update_yaxes(type='log', range=[-2.5, 3.1], title_text='Result Time')\n",
    "\n",
    "        fig.update_layout(\n",
    "            title=dict(\n",
    "                text=f'{graphClass} graphs - Result time vs N and Class',\n",
    "                x=0.5,\n",
    "                xanchor='center'\n",
    "            ),\n",
    "            legend=dict(\n",
    "                title='Parameters',\n",
    "                x=1.05,\n",
    "                y=1,\n",
    "                borderwidth=1\n",
    "            ),\n",
    "            margin=dict(l=50, r=50, t=50, b=50),\n",
    "            hovermode='closest',    \n",
    "            template='plotly_dark',\n",
    "            coloraxis_showscale=False\n",
    "        )\n",
    "\n",
    "        fig.update_traces(marker=dict(line=dict(width=1, color='DarkSlateGrey'), size=20),\n",
    "                        selector=dict(mode='markers'))\n",
    "\n",
    "        fig.update_layout(legend_title=dict(font=dict(size=12)))\n",
    "        \n",
    "\n",
    "        fig.show()"
   ]
  },
  {
   "cell_type": "code",
   "execution_count": 5,
   "metadata": {},
   "outputs": [],
   "source": [
    "def GraphsResults4_1():\n",
    "    df3 = pd.read_csv(r'output/results4.csv')\n",
    "    df3['k_ratio'] = df3['k'] / df3['n']\n",
    "    dfnow = df3[df3['status'] == 101]\n",
    "\n",
    "    for graphClass in [\"star\", \"cubic\", \"bipartite\", \"BA\", \"lollipop\"]:\n",
    "        filtered_df = dfnow[dfnow['graph_class'] == graphClass]\n",
    "        fig = px.violin(filtered_df, x='k_ratio', y='result_time', \n",
    "                        #  color='n',\n",
    "                        #    symbol='n', \n",
    "                        #  color_continuous_scale=px.colors.sequential.Sunsetdark, \n",
    "                        title=f'{graphClass} graphs - Result time vs N and Class', \n",
    "                        labels={'n': 'Numero de nós', 'result_time': 'Result Time', 'k_ratio': 'Parameters'},\n",
    "                        template='plotly_dark')\n",
    "\n",
    "        # fig.update_xaxes(type='log', range=[0, 4.5], title_text='Numero de nós')\n",
    "        fig.update_yaxes(type='log', range=[-2.5, 3.1], title_text='Result Time')\n",
    "\n",
    "        fig.update_layout(\n",
    "            title=dict(\n",
    "                text=f'{graphClass} graphs - Result time vs N and Class',\n",
    "                x=0.5,\n",
    "                xanchor='center'\n",
    "            ),\n",
    "            legend=dict(\n",
    "                title='Parameters',\n",
    "                x=1.05,\n",
    "                y=1,\n",
    "                borderwidth=1\n",
    "            ),\n",
    "            margin=dict(l=50, r=50, t=50, b=50),\n",
    "            hovermode='closest',    \n",
    "            template='plotly_dark',\n",
    "            coloraxis_showscale=False\n",
    "        )\n",
    "\n",
    "        fig.update_traces(marker=dict(line=dict(width=1, color='DarkSlateGrey'), size=20),\n",
    "                        selector=dict(mode='markers'))\n",
    "\n",
    "        fig.update_layout(legend_title=dict(font=dict(size=12)))\n",
    "        \n",
    "\n",
    "        fig.show()"
   ]
  },
  {
   "cell_type": "code",
   "execution_count": 6,
   "metadata": {},
   "outputs": [],
   "source": [
    "def GraphsResults5():\n",
    "    df3 = pd.read_csv(r'results5.csv')\n",
    "    df3['k_ratio'] = df3['k'] / df3['n']\n",
    "    filtered_df = df3[df3['status'] == 101]\n",
    "    filtered_df = filtered_df[filtered_df['k_ratio'] > 0]\n",
    "\n",
    "    fig = px.line(filtered_df, x='k_ratio', y='result_time', \n",
    "                        color='n',\n",
    "                        symbol='n', \n",
    "                        # color_continuous_scale=px.colors.sequential.Viridis, \n",
    "                        title=f'Barabási-Albert graphs Max Happy Set - Result time vs K and N', \n",
    "                        labels={'n': 'Numero de nós', 'result_time': 'Result Time', 'k_ratio': 'k/N ratio'},\n",
    "                        template='plotly_dark')\n",
    "\n",
    "    # fig.update_xaxes(type='log', range=[0, 4.5], title_text='Numero de nós')\n",
    "    fig.update_yaxes(type='log', range=[-2.5, 3.5], title_text='Result Time')\n",
    "\n",
    "    fig.update_layout(\n",
    "        title=dict(\n",
    "            text='Barabási-Albert graphs Max Happy Set - Result time vs K and N',\n",
    "            x=0.5,\n",
    "            xanchor='center'\n",
    "        ),\n",
    "        legend=dict(\n",
    "            title='Number of Nodes',\n",
    "            x=1.05,\n",
    "            y=1,\n",
    "            borderwidth=1\n",
    "        ),\n",
    "        margin=dict(l=50, r=50, t=50, b=50),\n",
    "        hovermode='closest',    \n",
    "        template='plotly_dark',\n",
    "        # coloraxis_showscale=False\n",
    "    )\n",
    "\n",
    "    fig.update_traces(marker=dict(line=dict(width=1, color='DarkSlateGrey'), size=20),\n",
    "                        selector=dict(mode='markers'))\n",
    "\n",
    "    fig.update_layout(legend_title=dict(font=dict(size=12)))\n",
    "\n",
    "\n",
    "    fig.show()"
   ]
  },
  {
   "cell_type": "code",
   "execution_count": 7,
   "metadata": {},
   "outputs": [],
   "source": [
    "def GraphsResults6p7():\n",
    "    df1 = pd.read_csv(r'output/results6.csv')\n",
    "    df2 = pd.read_csv(r'results7.csv')\n",
    "    df3 = pd.concat([df1,df2])\n",
    "    f_df = df3[df3['status'] == 101]\n",
    "    f_df['k_ratio'] = f_df['k'] / f_df['n']\n",
    "    f_df = f_df[f_df['k_ratio'] > 0]\n",
    "    for graphClass in [\"star\", \"cubic\", \"bipartite\", \"BA\", \"lollipop\"]:\n",
    "        n_color_steps = np.log2(f_df[f_df['graph_class']==graphClass][\"n\"].max())\n",
    "        if n_color_steps > 2:\n",
    "            fig = px.line(f_df[f_df['graph_class']==graphClass], x='k_ratio', y='result_time', \n",
    "                                color='n',\n",
    "                                # symbol='n', \n",
    "                                # Darkmint_r\n",
    "                                color_discrete_sequence = px.colors.sample_colorscale('Ylorrd_r', int(n_color_steps)-1), \n",
    "                                title=f'{graphClass} graphs Max Happy Set - Result time vs K and N', \n",
    "                                labels={'n': 'Numero de nós', 'result_time': 'Result Time', 'k_ratio': 'k/N ratio'},\n",
    "                                template='plotly_dark')\n",
    "\n",
    "            # fig.update_xaxes(type='log', range=[0, 4.5], title_text='Numero de nós')\n",
    "            fig.update_yaxes(type='log', range=[-2.5, 3.6], title_text='Result Time')\n",
    "\n",
    "            fig.update_layout(\n",
    "                title=dict(\n",
    "                    text=f'{graphClass} graphs Max Happy Set - Result time vs K and N',\n",
    "                    x=0.5,\n",
    "                    xanchor='center'\n",
    "                ),\n",
    "                legend=dict(\n",
    "                    title='Number of Nodes',\n",
    "                    x=1.05,\n",
    "                    y=1,\n",
    "                    borderwidth=1\n",
    "                ),\n",
    "                margin=dict(l=50, r=50, t=50, b=50),\n",
    "                hovermode='closest',    \n",
    "                template='plotly_dark',\n",
    "                # coloraxis_showscale=False\n",
    "            )\n",
    "\n",
    "            fig.update_traces(marker=dict(line=dict(width=1, color='DarkSlateGrey'), size=20),\n",
    "                                selector=dict(mode='markers'))\n",
    "\n",
    "            fig.update_layout(legend_title=dict(font=dict(size=12)))\n",
    "\n",
    "\n",
    "            fig.show()"
   ]
  },
  {
   "cell_type": "code",
   "execution_count": 8,
   "metadata": {},
   "outputs": [],
   "source": [
    "def GraphsResults6p7_1():\n",
    "    df1 = pd.read_csv(r'output/results6.csv')\n",
    "    df2 = pd.read_csv(r'results7.csv')\n",
    "    df3 = pd.concat([df1,df2])\n",
    "    f_df = df3[df3['status'] == 101]\n",
    "    f_df['k_ratio'] = (f_df['k'] / f_df['n']).round(3)\n",
    "    f_df = f_df[f_df['k_ratio'] > 0].copy()\n",
    "\n",
    "    for graphClass in [\"star\", \"cubic\", \"bipartite\", \"BA\", \"lollipop\"]:\n",
    "        fig = px.scatter(f_df[f_df['graph_class']==graphClass], x='n', y='result_time',\n",
    "                            color='k_ratio',\n",
    "                            # Darkmint_r\n",
    "                            color_continuous_scale = px.colors.sequential.thermal, \n",
    "                            title=f'{graphClass} graphs Max Happy Set - Result time vs N and K', \n",
    "                            labels={'n': 'Numero de nós', 'result_time': 'Result Time', 'k_ratio': 'k/N ratio'},\n",
    "                            template='plotly_dark')\n",
    "\n",
    "        fig.update_xaxes(type='log', range=[0, 4.5], title_text='Numero de nós')\n",
    "        fig.update_yaxes(type='log', range=[-2.5, 3.6], title_text='Result Time')\n",
    "\n",
    "        fig.update_layout(\n",
    "            title=dict(\n",
    "                text=f'{graphClass} graphs Max Happy Set - Result time vs K and N',\n",
    "                x=0.5,\n",
    "                xanchor='center'\n",
    "            ),\n",
    "            legend=dict(\n",
    "                title='k/N Ratio',\n",
    "                x=1,\n",
    "                y=1,\n",
    "                borderwidth=1\n",
    "            ),\n",
    "            margin=dict(l=50, r=50, t=50, b=50),\n",
    "            hovermode='closest',    \n",
    "            template='plotly_dark',\n",
    "        )\n",
    "\n",
    "        # fig.update_traces(marker=dict(line=dict(width=1, color='DarkSlateGrey'), size=20),\n",
    "        #                     selector=dict(mode='markers'))\n",
    "\n",
    "        fig.update_layout(legend_title=dict(font=dict(size=12)))\n",
    "\n",
    "\n",
    "        fig.show()"
   ]
  },
  {
   "cell_type": "code",
   "execution_count": 269,
   "metadata": {},
   "outputs": [],
   "source": [
    "def GraphsResults6p7_2():\n",
    "    df1 = pd.read_csv(r'output/results6.csv')\n",
    "    df2 = pd.read_csv(r'results7.csv')\n",
    "    df3 = pd.concat([df1,df2])\n",
    "    f_df = df3[df3['status'] == 101]\n",
    "    f_df['k_ratio'] = (f_df['k'] / f_df['n']).round(3)\n",
    "    f_df = f_df[f_df['k_ratio'] > 0].copy()\n",
    "    f_df['log_n'] = np.log2(f_df['n'])\n",
    "    \n",
    "    # eu não sei pq mas precisa disso\n",
    "    colors = sample_colorscale(px.colors.sequential.ice, 1000)\n",
    "    color_discrete_map = {str(value): colors[i] for i, value in enumerate(range(1, 17))}\n",
    "    f_df[\"color\"] = f_df['log_n'].map(lambda x: color_discrete_map[str(int(x))])\n",
    "\n",
    "    for graphClass in [\"star\", \"cubic\", \"bipartite\", \"BA\", \"lollipop\"]:\n",
    "        class_df = f_df[f_df['graph_class'] == graphClass].copy()\n",
    "        fig = px.scatter_3d(class_df, x='n', y='k_ratio', z='result_time',\n",
    "                            color='color',\n",
    "                            color_discrete_sequence=sample_colorscale(px.colors.qualitative.Prism_r, 10),\n",
    "                            title=f'{graphClass} graphs Max Happy Set - Result time vs N and K', \n",
    "                            labels={'n': 'Numero de nós', 'result_time': 'Result Time', 'k_ratio': 'k/N ratio'},\n",
    "                            template='plotly_dark')\n",
    "\n",
    "\n",
    "        fig.update_layout(\n",
    "            scene=dict(\n",
    "                xaxis=dict(title='Número de nós', type='log', range=[0, 4.5]),\n",
    "                zaxis=dict(title='Result Time', type='log', range=[-2.5, 3.6]),\n",
    "                yaxis=dict(title='k/N ratio', type='linear')\n",
    "            ),\n",
    "            title=dict(\n",
    "                text=f'{graphClass} graphs Max Happy Set - Result time vs K and N',\n",
    "                x=0.5,\n",
    "                xanchor='center'\n",
    "            ),\n",
    "            legend=dict(\n",
    "                title='k/N Ratio',\n",
    "                x=1,\n",
    "                y=1,\n",
    "                borderwidth=1,\n",
    "            ),\n",
    "            margin=dict(l=50, r=50, t=50, b=50),\n",
    "            hovermode='closest',\n",
    "            template='plotly_dark',\n",
    "        )\n",
    "\n",
    "        fig.update_layout(legend_title=dict(font=dict(size=12)))\n",
    "\n",
    "\n",
    "        fig.show()"
   ]
  },
  {
   "cell_type": "code",
   "execution_count": 270,
   "metadata": {},
   "outputs": [],
   "source": [
    "def GraphsResults6p7_3():\n",
    "    df1 = pd.read_csv(r'output/results6.csv')\n",
    "    df2 = pd.read_csv(r'results7.csv')\n",
    "    df3 = pd.concat([df1,df2])\n",
    "    df3['k_ratio'] = (df3['k'] / df3['n']).round(3)\n",
    "    df3 = df3[df3['k_ratio'] > 0].copy()\n",
    "    dfnow = df3[df3['status'] == 101]\n",
    "\n",
    "    for graphClass in [\"star\", \"cubic\", \"bipartite\", \"BA\", \"lollipop\"]:\n",
    "        filtered_df = dfnow[dfnow['graph_class'] == graphClass]\n",
    "        fig = px.scatter(filtered_df, x='n', y='result_time', \n",
    "                        color='k_ratio', \n",
    "                        color_continuous_scale=px.colors.sequential.Viridis, \n",
    "                        title=f'{graphClass} graphs - Result time vs N and K', \n",
    "                        labels={'n': 'Numero de nós', 'result_time': 'Result Time', 'k_ratio': 'k/N Ratio'},\n",
    "                        template='plotly_dark',opacity=0.5)\n",
    "\n",
    "        fig.update_xaxes(type='log', range=[0, 4.5], title_text='Numero de nós')\n",
    "        fig.update_yaxes(type='log', range=[-2.5, 3.6], title_text='Result Time')\n",
    "\n",
    "        fig.update_layout(\n",
    "            title=dict(\n",
    "                text=f'{graphClass} graphs - Result time vs N and K',\n",
    "                x=0.5,\n",
    "                xanchor='center'\n",
    "            ),\n",
    "            legend=dict(\n",
    "                title='k/N Ratio',\n",
    "                x=1.05,\n",
    "                y=1,\n",
    "                borderwidth=1\n",
    "            ),\n",
    "            margin=dict(l=50, r=50, t=50, b=50),\n",
    "            hovermode='closest',    \n",
    "            template='plotly_dark',\n",
    "        )\n",
    "\n",
    "        fig.update_traces(marker=dict(line=dict(width=1, color='DarkSlateGrey'), size=20),\n",
    "                        selector=dict(mode='markers'))\n",
    "\n",
    "        fig.update_layout(legend_title=dict(font=dict(size=12)))\n",
    "        \n",
    "\n",
    "        fig.show()"
   ]
  },
  {
   "cell_type": "code",
   "execution_count": 271,
   "metadata": {},
   "outputs": [],
   "source": [
    "def GraphsResults6p7_4(graphClass):\n",
    "    df1 = pd.read_csv(r'output/results6.csv')\n",
    "    df2 = pd.read_csv(r'results7.csv')\n",
    "    df3 = pd.concat([df1,df2])\n",
    "    f_df = df3[df3['status'] == 101]\n",
    "    f_df = f_df[f_df['graph_class'] == graphClass].copy()\n",
    "    f_df['log_result_time'] = np.log(f_df['result_time'])\n",
    "    maxn = f_df['n'].max()\n",
    "    if graphClass == 'BA': graphClass = 'Barabási-Albert'\n",
    "\n",
    "    for n in range(3, int(np.log2(maxn))+1):\n",
    "        num_vertices = 2**n\n",
    "        fig = px.scatter(f_df[f_df['n'] == num_vertices], x='k', y='result_time',\n",
    "                            color='log_result_time',\n",
    "                            # Darkmint_r\n",
    "                            color_continuous_scale = px.colors.sequential.Viridis, \n",
    "                            title=f'{graphClass} N = {num_vertices} Max Happy Set - Result time vs K', \n",
    "                            labels={'n': 'Numero de nós', 'result_time': 'Result Time', 'k': 'K', 'log_result_time': 'Log(Result Time)'},\n",
    "                            template='plotly_dark')\n",
    "\n",
    "        fig.update_xaxes(type='linear', range=[0, num_vertices],title_text='K')\n",
    "        fig.update_yaxes(type='log', range=[-3.6, 3.6], title_text='Result Time')\n",
    "\n",
    "        fig.update_layout(\n",
    "            title=dict(\n",
    "                text=f'{graphClass} N = {num_vertices} Max Happy Set - Result time vs K',\n",
    "                x=0.5,\n",
    "                xanchor='center'\n",
    "            ),\n",
    "            legend=dict(\n",
    "                title='k/N Ratio',\n",
    "                x=1,\n",
    "                y=1,\n",
    "                borderwidth=1\n",
    "            ),\n",
    "            margin=dict(l=50, r=50, t=50, b=50),\n",
    "            hovermode='closest',\n",
    "            template='plotly_dark',\n",
    "        )\n",
    "        fig.update_traces(marker=dict(line=dict(width=1, color='DarkSlateGrey'), size=20),\n",
    "                        selector=dict(mode='markers'))\n",
    "\n",
    "        fig.update_layout(legend_title=dict(font=dict(size=12)))\n",
    "\n",
    "\n",
    "        fig.show()"
   ]
  },
  {
   "cell_type": "code",
   "execution_count": 272,
   "metadata": {},
   "outputs": [],
   "source": [
    "def GraphsResults6p7_5():\n",
    "    df1 = pd.read_csv(r'output/results6.csv')\n",
    "    df2 = pd.read_csv(r'results7.csv')\n",
    "    df3 = pd.concat([df1,df2])\n",
    "    f_df = df3[df3['status'] == 101]\n",
    "    f_df['k_ratio'] = (f_df['k'] / f_df['n']).round(3)\n",
    "    f_df = f_df[f_df['k_ratio'] > 0].copy()\n",
    "    f_df['log_result_time'] = np.log2(f_df['result_time'])\n",
    "    for graphClass in [\"star\", \"cubic\", \"bipartite\", \"BA\", \"lollipop\"]:\n",
    "        class_df = f_df[f_df['graph_class'] == graphClass].copy()\n",
    "        fig = px.scatter_3d(class_df, x='n', y='result_time', z='k_ratio',\n",
    "                            color='log_result_time',\n",
    "                            # Darkmint_r\n",
    "                            color_discrete_sequence = px.colors.sequential.deep_r, \n",
    "                            title=f'{graphClass} graphs Max Happy Set - Result time vs N and K', \n",
    "                            labels={'n': 'Numero de nós', 'result_time': 'Result Time', 'k_ratio': 'k/N ratio'},\n",
    "                            template='plotly_dark')\n",
    "\n",
    "\n",
    "        fig.update_layout(\n",
    "            scene=dict(\n",
    "                xaxis=dict(title='Número de nós', type='log', range=[0, 4.5]),\n",
    "                yaxis=dict(title='Result Time', type='log', range=[-2.5, 3.6]),\n",
    "                zaxis=dict(title='k/N ratio', type='linear')\n",
    "            ),\n",
    "            title=dict(\n",
    "                text=f'{graphClass} graphs Max Happy Set - Result time vs K and N',\n",
    "                x=0.5,\n",
    "                xanchor='center'\n",
    "            ),\n",
    "            legend=dict(\n",
    "                title='k/N Ratio',\n",
    "                x=1,\n",
    "                y=1,\n",
    "                borderwidth=1\n",
    "            ),\n",
    "            margin=dict(l=50, r=50, t=50, b=50),\n",
    "            hovermode='closest',\n",
    "            template='plotly_dark',\n",
    "        )\n",
    "\n",
    "        fig.update_layout(legend_title=dict(font=dict(size=12)))\n",
    "\n",
    "\n",
    "        fig.show()"
   ]
  },
  {
   "cell_type": "code",
   "execution_count": 273,
   "metadata": {},
   "outputs": [
    {
     "ename": "FileNotFoundError",
     "evalue": "[Errno 2] No such file or directory: 'graphs/cubic/cubic_8.txt'",
     "output_type": "error",
     "traceback": [
      "\u001b[0;31m---------------------------------------------------------------------------\u001b[0m",
      "\u001b[0;31mFileNotFoundError\u001b[0m                         Traceback (most recent call last)",
      "Cell \u001b[0;32mIn[273], line 26\u001b[0m\n\u001b[1;32m     23\u001b[0m         \u001b[38;5;28;01mreturn\u001b[39;00m \u001b[38;5;28;01mTrue\u001b[39;00m\n\u001b[1;32m     25\u001b[0m file_path \u001b[38;5;241m=\u001b[39m \u001b[38;5;124m\"\u001b[39m\u001b[38;5;124mgraphs/cubic/cubic_8.txt\u001b[39m\u001b[38;5;124m\"\u001b[39m\n\u001b[0;32m---> 26\u001b[0m is_cubic \u001b[38;5;241m=\u001b[39m \u001b[43mis_cubic_graph\u001b[49m\u001b[43m(\u001b[49m\u001b[43mfile_path\u001b[49m\u001b[43m)\u001b[49m\n\u001b[1;32m     28\u001b[0m \u001b[38;5;28;01mif\u001b[39;00m is_cubic:\n\u001b[1;32m     29\u001b[0m     \u001b[38;5;28mprint\u001b[39m(\u001b[38;5;124m\"\u001b[39m\u001b[38;5;124mThe graph in the file is cubic.\u001b[39m\u001b[38;5;124m\"\u001b[39m)\n",
      "Cell \u001b[0;32mIn[273], line 2\u001b[0m, in \u001b[0;36mis_cubic_graph\u001b[0;34m(filename)\u001b[0m\n\u001b[1;32m      1\u001b[0m \u001b[38;5;28;01mdef\u001b[39;00m \u001b[38;5;21mis_cubic_graph\u001b[39m(filename):\n\u001b[0;32m----> 2\u001b[0m     \u001b[38;5;28;01mwith\u001b[39;00m \u001b[38;5;28;43mopen\u001b[39;49m\u001b[43m(\u001b[49m\u001b[43mfilename\u001b[49m\u001b[43m,\u001b[49m\u001b[43m \u001b[49m\u001b[38;5;124;43m'\u001b[39;49m\u001b[38;5;124;43mr\u001b[39;49m\u001b[38;5;124;43m'\u001b[39;49m\u001b[43m)\u001b[49m \u001b[38;5;28;01mas\u001b[39;00m file:\n\u001b[1;32m      3\u001b[0m         \u001b[38;5;66;03m# Read the first line for the number of nodes and edges\u001b[39;00m\n\u001b[1;32m      4\u001b[0m         first_line \u001b[38;5;241m=\u001b[39m file\u001b[38;5;241m.\u001b[39mreadline()\u001b[38;5;241m.\u001b[39mstrip()\u001b[38;5;241m.\u001b[39msplit()\n\u001b[1;32m      5\u001b[0m         num_nodes \u001b[38;5;241m=\u001b[39m \u001b[38;5;28mint\u001b[39m(first_line[\u001b[38;5;241m0\u001b[39m])\n",
      "File \u001b[0;32m~/.local/lib/python3.10/site-packages/IPython/core/interactiveshell.py:324\u001b[0m, in \u001b[0;36m_modified_open\u001b[0;34m(file, *args, **kwargs)\u001b[0m\n\u001b[1;32m    317\u001b[0m \u001b[38;5;28;01mif\u001b[39;00m file \u001b[38;5;129;01min\u001b[39;00m {\u001b[38;5;241m0\u001b[39m, \u001b[38;5;241m1\u001b[39m, \u001b[38;5;241m2\u001b[39m}:\n\u001b[1;32m    318\u001b[0m     \u001b[38;5;28;01mraise\u001b[39;00m \u001b[38;5;167;01mValueError\u001b[39;00m(\n\u001b[1;32m    319\u001b[0m         \u001b[38;5;124mf\u001b[39m\u001b[38;5;124m\"\u001b[39m\u001b[38;5;124mIPython won\u001b[39m\u001b[38;5;124m'\u001b[39m\u001b[38;5;124mt let you open fd=\u001b[39m\u001b[38;5;132;01m{\u001b[39;00mfile\u001b[38;5;132;01m}\u001b[39;00m\u001b[38;5;124m by default \u001b[39m\u001b[38;5;124m\"\u001b[39m\n\u001b[1;32m    320\u001b[0m         \u001b[38;5;124m\"\u001b[39m\u001b[38;5;124mas it is likely to crash IPython. If you know what you are doing, \u001b[39m\u001b[38;5;124m\"\u001b[39m\n\u001b[1;32m    321\u001b[0m         \u001b[38;5;124m\"\u001b[39m\u001b[38;5;124myou can use builtins\u001b[39m\u001b[38;5;124m'\u001b[39m\u001b[38;5;124m open.\u001b[39m\u001b[38;5;124m\"\u001b[39m\n\u001b[1;32m    322\u001b[0m     )\n\u001b[0;32m--> 324\u001b[0m \u001b[38;5;28;01mreturn\u001b[39;00m \u001b[43mio_open\u001b[49m\u001b[43m(\u001b[49m\u001b[43mfile\u001b[49m\u001b[43m,\u001b[49m\u001b[43m \u001b[49m\u001b[38;5;241;43m*\u001b[39;49m\u001b[43margs\u001b[49m\u001b[43m,\u001b[49m\u001b[43m \u001b[49m\u001b[38;5;241;43m*\u001b[39;49m\u001b[38;5;241;43m*\u001b[39;49m\u001b[43mkwargs\u001b[49m\u001b[43m)\u001b[49m\n",
      "\u001b[0;31mFileNotFoundError\u001b[0m: [Errno 2] No such file or directory: 'graphs/cubic/cubic_8.txt'"
     ]
    }
   ],
   "source": [
    "def is_cubic_graph(filename):\n",
    "    with open(filename, 'r') as file:\n",
    "        # Read the first line for the number of nodes and edges\n",
    "        first_line = file.readline().strip().split()\n",
    "        num_nodes = int(first_line[0])\n",
    "        num_edges = int(first_line[1])\n",
    "        \n",
    "        # Initialize a dictionary to keep track of the degree of each node\n",
    "        degrees = {i: 0 for i in range(num_nodes)}\n",
    "        \n",
    "        # Read the edges from the file\n",
    "        for line in file:\n",
    "            if line.strip().lower() == 'end':\n",
    "                break\n",
    "            node1, node2 = map(int, line.strip().split())\n",
    "            degrees[node1] += 1\n",
    "            degrees[node2] += 1\n",
    "        print(degrees)\n",
    "        # Check if every node has a degree of 3\n",
    "        for degree in degrees.values():\n",
    "            if degree != 3:\n",
    "                return False\n",
    "        return True\n",
    "    \n",
    "file_path = \"graphs/cubic/cubic_8.txt\"\n",
    "is_cubic = is_cubic_graph(file_path)\n",
    "\n",
    "if is_cubic:\n",
    "    print(\"The graph in the file is cubic.\")\n",
    "else:\n",
    "    print(\"The graph in the file is not cubic.\")"
   ]
  },
  {
   "cell_type": "markdown",
   "metadata": {},
   "source": [
    "# Análises Gráficas"
   ]
  },
  {
   "cell_type": "code",
   "execution_count": 274,
   "metadata": {},
   "outputs": [
    {
     "name": "stderr",
     "output_type": "stream",
     "text": [
      "/tmp/ipykernel_163817/1697587813.py:6: SettingWithCopyWarning:\n",
      "\n",
      "\n",
      "A value is trying to be set on a copy of a slice from a DataFrame.\n",
      "Try using .loc[row_indexer,col_indexer] = value instead\n",
      "\n",
      "See the caveats in the documentation: https://pandas.pydata.org/pandas-docs/stable/user_guide/indexing.html#returning-a-view-versus-a-copy\n",
      "\n"
     ]
    },
    {
     "data": {
      "application/vnd.plotly.v1+json": {
       "config": {
        "plotlyServerURL": "https://plot.ly"
       },
       "data": [
        {
         "hovertemplate": "color=rgb(3, 5, 18)<br>Numero de nós=%{x}<br>k/N ratio=%{y}<br>Result Time=%{z}<extra></extra>",
         "legendgroup": "rgb(3, 5, 18)",
         "marker": {
          "color": "rgb(102, 102, 102)",
          "symbol": "circle"
         },
         "mode": "markers",
         "name": "rgb(3, 5, 18)",
         "scene": "scene",
         "showlegend": true,
         "type": "scatter3d",
         "x": [
          4,
          4,
          4
         ],
         "y": [
          0.25,
          0.5,
          0.75
         ],
         "z": [
          0.0143485069274902,
          0.0290422439575195,
          0.0237681865692138
         ]
        },
        {
         "hovertemplate": "color=rgb(3, 5, 19)<br>Numero de nós=%{x}<br>k/N ratio=%{y}<br>Result Time=%{z}<extra></extra>",
         "legendgroup": "rgb(3, 5, 19)",
         "marker": {
          "color": "rgb(115, 63, 112)",
          "symbol": "circle"
         },
         "mode": "markers",
         "name": "rgb(3, 5, 19)",
         "scene": "scene",
         "showlegend": true,
         "type": "scatter3d",
         "x": [
          8,
          8,
          8,
          8,
          8,
          8,
          8
         ],
         "y": [
          0.125,
          0.25,
          0.375,
          0.5,
          0.625,
          0.75,
          0.875
         ],
         "z": [
          0.0121364593505859,
          0.0205788612365722,
          0.0233001708984375,
          0.0240588188171386,
          0.0219447612762451,
          0.0237293243408203,
          0.0164680480957031
         ]
        },
        {
         "hovertemplate": "color=rgb(4, 6, 19)<br>Numero de nós=%{x}<br>k/N ratio=%{y}<br>Result Time=%{z}<extra></extra>",
         "legendgroup": "rgb(4, 6, 19)",
         "marker": {
          "color": "rgb(160, 58, 99)",
          "symbol": "circle"
         },
         "mode": "markers",
         "name": "rgb(4, 6, 19)",
         "scene": "scene",
         "showlegend": true,
         "type": "scatter3d",
         "x": [
          16,
          16,
          16,
          16,
          16,
          16,
          16,
          16,
          16,
          16,
          16,
          16,
          16,
          16,
          16,
          32,
          32,
          32,
          32,
          32,
          32,
          32,
          32,
          32,
          32,
          32,
          32,
          32,
          32,
          32,
          32,
          32,
          32,
          32,
          32,
          32,
          32,
          32,
          32,
          32,
          32,
          32,
          32,
          32,
          32,
          32
         ],
         "y": [
          0.062,
          0.125,
          0.188,
          0.25,
          0.312,
          0.375,
          0.438,
          0.5,
          0.562,
          0.625,
          0.688,
          0.75,
          0.812,
          0.875,
          0.938,
          0.031,
          0.062,
          0.094,
          0.125,
          0.156,
          0.188,
          0.219,
          0.25,
          0.281,
          0.312,
          0.344,
          0.375,
          0.406,
          0.438,
          0.469,
          0.5,
          0.531,
          0.562,
          0.594,
          0.625,
          0.656,
          0.688,
          0.719,
          0.75,
          0.781,
          0.812,
          0.844,
          0.875,
          0.906,
          0.938,
          0.969
         ],
         "z": [
          0.022864818572998,
          0.0344343185424804,
          0.0468220710754394,
          0.0621345043182373,
          0.0655477046966552,
          0.0544931888580322,
          0.0358204841613769,
          0.0415410995483398,
          0.047908067703247,
          0.0349125862121582,
          0.0276474952697753,
          0.027977705001831,
          0.0300490856170654,
          0.0298829078674316,
          0.034102439880371,
          0.0210957527160644,
          0.0329077243804931,
          0.0274944305419921,
          0.0261788368225097,
          0.0246355533599853,
          0.0324440002441406,
          0.0321185588836669,
          0.0396406650543212,
          0.0350143909454345,
          0.036832571029663,
          0.0312721729278564,
          0.0310125350952148,
          0.025496482849121,
          0.0314359664916992,
          0.0288150310516357,
          0.0293753147125244,
          0.0280730724334716,
          0.0286808013916015,
          0.0302686691284179,
          0.0311841964721679,
          0.0305614471435546,
          0.0263822078704834,
          0.0232372283935546,
          0.0269618034362792,
          0.0424587726593017,
          0.0331397056579589,
          0.0454790592193603,
          0.0826804637908935,
          0.0555064678192138,
          0.1012353897094726,
          0.0690793991088867
         ]
        },
        {
         "hovertemplate": "color=rgb(4, 6, 20)<br>Numero de nós=%{x}<br>k/N ratio=%{y}<br>Result Time=%{z}<extra></extra>",
         "legendgroup": "rgb(4, 6, 20)",
         "marker": {
          "color": "rgb(211, 95, 43)",
          "symbol": "circle"
         },
         "mode": "markers",
         "name": "rgb(4, 6, 20)",
         "scene": "scene",
         "showlegend": true,
         "type": "scatter3d",
         "x": [
          64,
          64,
          64,
          64,
          64,
          64,
          64,
          64,
          64,
          64,
          64,
          64,
          64,
          64,
          64,
          64,
          64,
          64,
          64,
          64,
          64,
          128,
          128,
          128,
          128,
          128,
          128,
          128,
          128,
          128,
          128,
          128,
          128,
          128,
          128,
          128,
          128,
          128,
          128,
          128,
          128,
          128
         ],
         "y": [
          0.047,
          0.094,
          0.141,
          0.188,
          0.234,
          0.281,
          0.328,
          0.375,
          0.422,
          0.469,
          0.516,
          0.562,
          0.609,
          0.656,
          0.703,
          0.75,
          0.797,
          0.844,
          0.891,
          0.938,
          0.984,
          0.047,
          0.094,
          0.141,
          0.188,
          0.234,
          0.281,
          0.328,
          0.375,
          0.422,
          0.469,
          0.516,
          0.562,
          0.609,
          0.656,
          0.703,
          0.75,
          0.797,
          0.844,
          0.891,
          0.938,
          0.984
         ],
         "z": [
          0.0683977603912353,
          0.0648488998413086,
          0.0603988170623779,
          0.0457077026367187,
          0.0358121395111084,
          0.0306789875030517,
          0.0317630767822265,
          0.0330004692077636,
          0.0264115333557128,
          0.0290346145629882,
          0.0293555259704589,
          0.0383338928222656,
          0.0479860305786132,
          0.0436599254608154,
          0.0409839153289794,
          0.0413234233856201,
          0.0512323379516601,
          0.0473790168762207,
          0.0434010028839111,
          0.0605707168579101,
          0.0621728897094726,
          0.052182912826538,
          0.1130859851837158,
          0.0995111465454101,
          0.0996401309967041,
          0.0965712070465087,
          0.0936803817749023,
          0.0612297058105468,
          0.0549943447113037,
          0.0524728298187255,
          0.0578374862670898,
          0.0343108177185058,
          0.0338132381439209,
          0.0435914993286132,
          0.0426468849182128,
          0.0482470989227294,
          0.0425670146942138,
          0.049471378326416,
          0.0381708145141601,
          0.0447888374328613,
          0.0416338443756103,
          0.0441257953643798
         ]
        },
        {
         "hovertemplate": "color=rgb(5, 7, 21)<br>Numero de nós=%{x}<br>k/N ratio=%{y}<br>Result Time=%{z}<extra></extra>",
         "legendgroup": "rgb(5, 7, 21)",
         "marker": {
          "color": "rgb(230, 146, 6)",
          "symbol": "circle"
         },
         "mode": "markers",
         "name": "rgb(5, 7, 21)",
         "scene": "scene",
         "showlegend": true,
         "type": "scatter3d",
         "x": [
          256,
          256,
          256,
          256,
          256,
          256,
          256,
          256,
          256,
          256,
          256,
          256,
          256,
          256,
          256,
          256,
          256,
          256,
          256,
          256,
          256,
          512,
          512,
          512,
          512,
          512,
          512,
          512,
          512,
          512,
          512,
          512,
          512,
          512,
          512,
          512,
          512,
          512,
          512,
          512,
          512,
          1024,
          1024,
          1024,
          1024,
          1024,
          1024,
          1024,
          1024,
          1024,
          1024,
          1024,
          1024,
          1024,
          1024,
          1024,
          1024,
          1024,
          1024,
          1024,
          1024
         ],
         "y": [
          0.047,
          0.094,
          0.141,
          0.188,
          0.234,
          0.281,
          0.328,
          0.375,
          0.422,
          0.469,
          0.516,
          0.562,
          0.609,
          0.656,
          0.703,
          0.75,
          0.797,
          0.844,
          0.891,
          0.938,
          0.984,
          0.049,
          0.098,
          0.146,
          0.195,
          0.244,
          0.293,
          0.342,
          0.391,
          0.439,
          0.488,
          0.537,
          0.586,
          0.635,
          0.684,
          0.732,
          0.781,
          0.83,
          0.879,
          0.928,
          0.977,
          0.05,
          0.1,
          0.149,
          0.199,
          0.249,
          0.299,
          0.349,
          0.398,
          0.448,
          0.498,
          0.548,
          0.598,
          0.647,
          0.697,
          0.747,
          0.797,
          0.847,
          0.896,
          0.946,
          0.996
         ],
         "z": [
          0.1011297702789306,
          0.1520795822143554,
          0.0966286659240722,
          0.1008272171020507,
          0.0600302219390869,
          0.060654878616333,
          0.0627403259277343,
          0.0600371360778808,
          0.0982017517089843,
          0.0743169784545898,
          0.0896422863006591,
          0.0734586715698242,
          0.0758273601531982,
          0.0885486602783203,
          0.1007506847381591,
          0.1499197483062744,
          0.0866072177886962,
          0.1189286708831787,
          0.0626914501190185,
          0.0633258819580078,
          0.0744538307189941,
          0.1418774127960205,
          0.1184337139129638,
          0.1122064590454101,
          0.109853982925415,
          0.1493780612945556,
          0.1497783660888672,
          0.1473486423492431,
          0.1295464038848877,
          0.1029615402221679,
          0.1251940727233886,
          0.1719422340393066,
          0.1672368049621582,
          0.124335765838623,
          0.0970339775085449,
          0.1066818237304687,
          0.0946860313415527,
          0.091433048248291,
          0.0894567966461181,
          0.1079866886138916,
          0.1030128002166748,
          0.21864914894104,
          0.2105855941772461,
          0.2746038436889648,
          0.2234232425689697,
          0.1706233024597168,
          0.1779243946075439,
          0.1734750270843505,
          0.1888494491577148,
          0.169095754623413,
          0.1778221130371093,
          0.1879768371582031,
          0.1822035312652588,
          0.2341654300689697,
          0.1788873672485351,
          0.1886703968048095,
          0.3256568908691406,
          0.1958248615264892,
          0.1837913990020752,
          0.2032577991485595,
          0.194422960281372
         ]
        },
        {
         "hovertemplate": "color=rgb(5, 7, 22)<br>Numero de nós=%{x}<br>k/N ratio=%{y}<br>Result Time=%{z}<extra></extra>",
         "legendgroup": "rgb(5, 7, 22)",
         "marker": {
          "color": "rgb(169, 174, 44)",
          "symbol": "circle"
         },
         "mode": "markers",
         "name": "rgb(5, 7, 22)",
         "scene": "scene",
         "showlegend": true,
         "type": "scatter3d",
         "x": [
          2048,
          2048,
          2048,
          2048,
          2048,
          2048,
          2048,
          2048,
          2048,
          2048,
          2048,
          2048,
          2048,
          2048,
          2048,
          2048,
          2048,
          2048,
          2048,
          2048
         ],
         "y": [
          0.05,
          0.1,
          0.149,
          0.199,
          0.249,
          0.299,
          0.349,
          0.398,
          0.448,
          0.498,
          0.548,
          0.598,
          0.647,
          0.697,
          0.747,
          0.797,
          0.847,
          0.896,
          0.946,
          0.996
         ],
         "z": [
          0.5031282901763916,
          0.6004314422607422,
          0.4534270763397217,
          0.4638130664825439,
          0.5759952068328857,
          0.5588140487670898,
          0.5209617614746094,
          0.5161283016204834,
          0.5545680522918701,
          0.7147679328918457,
          0.5059401988983154,
          0.6732747554779053,
          0.5394771099090576,
          0.6413626670837402,
          0.964496374130249,
          0.5913147926330566,
          0.6112992763519287,
          0.6349332332611084,
          0.5484769344329834,
          0.6824970245361328
         ]
        },
        {
         "hovertemplate": "color=rgb(6, 7, 22)<br>Numero de nós=%{x}<br>k/N ratio=%{y}<br>Result Time=%{z}<extra></extra>",
         "legendgroup": "rgb(6, 7, 22)",
         "marker": {
          "color": "rgb(48, 147, 80)",
          "symbol": "circle"
         },
         "mode": "markers",
         "name": "rgb(6, 7, 22)",
         "scene": "scene",
         "showlegend": true,
         "type": "scatter3d",
         "x": [
          4096,
          4096,
          4096,
          4096,
          4096,
          4096,
          4096,
          4096,
          4096,
          4096,
          4096,
          4096,
          4096,
          4096,
          4096,
          4096,
          4096,
          4096,
          4096,
          4096
         ],
         "y": [
          0.05,
          0.1,
          0.149,
          0.199,
          0.249,
          0.299,
          0.349,
          0.398,
          0.448,
          0.498,
          0.548,
          0.598,
          0.647,
          0.697,
          0.747,
          0.797,
          0.847,
          0.896,
          0.946,
          0.996
         ],
         "z": [
          1.8711304664611816,
          2.3491759300231934,
          2.304408550262451,
          1.9466187953948972,
          2.324828863143921,
          1.9903833866119385,
          1.875008583068848,
          2.155174016952514,
          1.8606781959533687,
          2.08432674407959,
          1.8635380268096924,
          2.8129773139953613,
          2.026355743408203,
          1.968639850616455,
          1.9665205478668213,
          1.892153263092041,
          1.8246150016784668,
          1.7340145111083984,
          1.7824485301971436,
          2.6200592517852783
         ]
        },
        {
         "hovertemplate": "color=rgb(6, 8, 22)<br>Numero de nós=%{x}<br>k/N ratio=%{y}<br>Result Time=%{z}<extra></extra>",
         "legendgroup": "rgb(6, 8, 22)",
         "marker": {
          "color": "rgb(47, 159, 147)",
          "symbol": "circle"
         },
         "mode": "markers",
         "name": "rgb(6, 8, 22)",
         "scene": "scene",
         "showlegend": true,
         "type": "scatter3d",
         "x": [
          8192,
          8192,
          8192,
          8192,
          8192,
          8192,
          8192,
          8192,
          8192,
          8192,
          8192,
          8192,
          8192,
          8192,
          8192,
          8192,
          8192,
          8192,
          8192,
          8192
         ],
         "y": [
          0.05,
          0.1,
          0.15,
          0.2,
          0.25,
          0.3,
          0.349,
          0.399,
          0.449,
          0.499,
          0.549,
          0.599,
          0.649,
          0.699,
          0.749,
          0.799,
          0.849,
          0.899,
          0.949,
          0.999
         ],
         "z": [
          8.018031597137451,
          8.24848198890686,
          7.446671009063721,
          8.528137922286987,
          8.061949968338013,
          7.360220432281494,
          9.24883246421814,
          7.835740327835083,
          8.385938167572021,
          7.366467475891113,
          7.517125368118286,
          9.093518018722534,
          10.91800093650818,
          8.359580993652344,
          7.845977306365967,
          7.314606428146362,
          7.062350511550903,
          6.853113412857056,
          6.96296501159668,
          10.158906698226929
         ]
        },
        {
         "hovertemplate": "color=rgb(6, 8, 23)<br>Numero de nós=%{x}<br>k/N ratio=%{y}<br>Result Time=%{z}<extra></extra>",
         "legendgroup": "rgb(6, 8, 23)",
         "marker": {
          "color": "rgb(32, 112, 152)",
          "symbol": "circle"
         },
         "mode": "markers",
         "name": "rgb(6, 8, 23)",
         "scene": "scene",
         "showlegend": true,
         "type": "scatter3d",
         "x": [
          16384,
          16384,
          16384,
          16384,
          16384,
          16384,
          16384,
          16384,
          16384,
          16384,
          16384,
          16384,
          16384,
          16384,
          16384,
          16384,
          16384,
          16384,
          16384,
          16384
         ],
         "y": [
          0.05,
          0.1,
          0.15,
          0.2,
          0.25,
          0.3,
          0.35,
          0.4,
          0.45,
          0.5,
          0.55,
          0.6,
          0.65,
          0.7,
          0.75,
          0.8,
          0.85,
          0.9,
          0.95,
          1
         ],
         "z": [
          33.27527594566345,
          34.44489312171936,
          34.56563949584961,
          36.57064771652222,
          29.616273164749146,
          32.20330214500427,
          38.99644660949707,
          35.7360258102417,
          33.16252279281616,
          42.428783893585205,
          40.91156578063965,
          40.07273268699646,
          39.13676452636719,
          37.75830960273743,
          37.79422998428345,
          35.12148904800415,
          32.69582676887512,
          31.66444206237793,
          29.010741233825684,
          47.26106405258179
         ]
        }
       ],
       "layout": {
        "hovermode": "closest",
        "legend": {
         "borderwidth": 1,
         "title": {
          "font": {
           "size": 12
          },
          "text": "k/N Ratio"
         },
         "tracegroupgap": 0,
         "x": 1,
         "y": 1
        },
        "margin": {
         "b": 50,
         "l": 50,
         "r": 50,
         "t": 50
        },
        "scene": {
         "domain": {
          "x": [
           0,
           1
          ],
          "y": [
           0,
           1
          ]
         },
         "xaxis": {
          "range": [
           0,
           4.5
          ],
          "title": {
           "text": "Número de nós"
          },
          "type": "log"
         },
         "yaxis": {
          "title": {
           "text": "k/N ratio"
          },
          "type": "linear"
         },
         "zaxis": {
          "range": [
           -2.5,
           3.6
          ],
          "title": {
           "text": "Result Time"
          },
          "type": "log"
         }
        },
        "template": {
         "data": {
          "bar": [
           {
            "error_x": {
             "color": "#f2f5fa"
            },
            "error_y": {
             "color": "#f2f5fa"
            },
            "marker": {
             "line": {
              "color": "rgb(17,17,17)",
              "width": 0.5
             },
             "pattern": {
              "fillmode": "overlay",
              "size": 10,
              "solidity": 0.2
             }
            },
            "type": "bar"
           }
          ],
          "barpolar": [
           {
            "marker": {
             "line": {
              "color": "rgb(17,17,17)",
              "width": 0.5
             },
             "pattern": {
              "fillmode": "overlay",
              "size": 10,
              "solidity": 0.2
             }
            },
            "type": "barpolar"
           }
          ],
          "carpet": [
           {
            "aaxis": {
             "endlinecolor": "#A2B1C6",
             "gridcolor": "#506784",
             "linecolor": "#506784",
             "minorgridcolor": "#506784",
             "startlinecolor": "#A2B1C6"
            },
            "baxis": {
             "endlinecolor": "#A2B1C6",
             "gridcolor": "#506784",
             "linecolor": "#506784",
             "minorgridcolor": "#506784",
             "startlinecolor": "#A2B1C6"
            },
            "type": "carpet"
           }
          ],
          "choropleth": [
           {
            "colorbar": {
             "outlinewidth": 0,
             "ticks": ""
            },
            "type": "choropleth"
           }
          ],
          "contour": [
           {
            "colorbar": {
             "outlinewidth": 0,
             "ticks": ""
            },
            "colorscale": [
             [
              0,
              "#0d0887"
             ],
             [
              0.1111111111111111,
              "#46039f"
             ],
             [
              0.2222222222222222,
              "#7201a8"
             ],
             [
              0.3333333333333333,
              "#9c179e"
             ],
             [
              0.4444444444444444,
              "#bd3786"
             ],
             [
              0.5555555555555556,
              "#d8576b"
             ],
             [
              0.6666666666666666,
              "#ed7953"
             ],
             [
              0.7777777777777778,
              "#fb9f3a"
             ],
             [
              0.8888888888888888,
              "#fdca26"
             ],
             [
              1,
              "#f0f921"
             ]
            ],
            "type": "contour"
           }
          ],
          "contourcarpet": [
           {
            "colorbar": {
             "outlinewidth": 0,
             "ticks": ""
            },
            "type": "contourcarpet"
           }
          ],
          "heatmap": [
           {
            "colorbar": {
             "outlinewidth": 0,
             "ticks": ""
            },
            "colorscale": [
             [
              0,
              "#0d0887"
             ],
             [
              0.1111111111111111,
              "#46039f"
             ],
             [
              0.2222222222222222,
              "#7201a8"
             ],
             [
              0.3333333333333333,
              "#9c179e"
             ],
             [
              0.4444444444444444,
              "#bd3786"
             ],
             [
              0.5555555555555556,
              "#d8576b"
             ],
             [
              0.6666666666666666,
              "#ed7953"
             ],
             [
              0.7777777777777778,
              "#fb9f3a"
             ],
             [
              0.8888888888888888,
              "#fdca26"
             ],
             [
              1,
              "#f0f921"
             ]
            ],
            "type": "heatmap"
           }
          ],
          "heatmapgl": [
           {
            "colorbar": {
             "outlinewidth": 0,
             "ticks": ""
            },
            "colorscale": [
             [
              0,
              "#0d0887"
             ],
             [
              0.1111111111111111,
              "#46039f"
             ],
             [
              0.2222222222222222,
              "#7201a8"
             ],
             [
              0.3333333333333333,
              "#9c179e"
             ],
             [
              0.4444444444444444,
              "#bd3786"
             ],
             [
              0.5555555555555556,
              "#d8576b"
             ],
             [
              0.6666666666666666,
              "#ed7953"
             ],
             [
              0.7777777777777778,
              "#fb9f3a"
             ],
             [
              0.8888888888888888,
              "#fdca26"
             ],
             [
              1,
              "#f0f921"
             ]
            ],
            "type": "heatmapgl"
           }
          ],
          "histogram": [
           {
            "marker": {
             "pattern": {
              "fillmode": "overlay",
              "size": 10,
              "solidity": 0.2
             }
            },
            "type": "histogram"
           }
          ],
          "histogram2d": [
           {
            "colorbar": {
             "outlinewidth": 0,
             "ticks": ""
            },
            "colorscale": [
             [
              0,
              "#0d0887"
             ],
             [
              0.1111111111111111,
              "#46039f"
             ],
             [
              0.2222222222222222,
              "#7201a8"
             ],
             [
              0.3333333333333333,
              "#9c179e"
             ],
             [
              0.4444444444444444,
              "#bd3786"
             ],
             [
              0.5555555555555556,
              "#d8576b"
             ],
             [
              0.6666666666666666,
              "#ed7953"
             ],
             [
              0.7777777777777778,
              "#fb9f3a"
             ],
             [
              0.8888888888888888,
              "#fdca26"
             ],
             [
              1,
              "#f0f921"
             ]
            ],
            "type": "histogram2d"
           }
          ],
          "histogram2dcontour": [
           {
            "colorbar": {
             "outlinewidth": 0,
             "ticks": ""
            },
            "colorscale": [
             [
              0,
              "#0d0887"
             ],
             [
              0.1111111111111111,
              "#46039f"
             ],
             [
              0.2222222222222222,
              "#7201a8"
             ],
             [
              0.3333333333333333,
              "#9c179e"
             ],
             [
              0.4444444444444444,
              "#bd3786"
             ],
             [
              0.5555555555555556,
              "#d8576b"
             ],
             [
              0.6666666666666666,
              "#ed7953"
             ],
             [
              0.7777777777777778,
              "#fb9f3a"
             ],
             [
              0.8888888888888888,
              "#fdca26"
             ],
             [
              1,
              "#f0f921"
             ]
            ],
            "type": "histogram2dcontour"
           }
          ],
          "mesh3d": [
           {
            "colorbar": {
             "outlinewidth": 0,
             "ticks": ""
            },
            "type": "mesh3d"
           }
          ],
          "parcoords": [
           {
            "line": {
             "colorbar": {
              "outlinewidth": 0,
              "ticks": ""
             }
            },
            "type": "parcoords"
           }
          ],
          "pie": [
           {
            "automargin": true,
            "type": "pie"
           }
          ],
          "scatter": [
           {
            "marker": {
             "line": {
              "color": "#283442"
             }
            },
            "type": "scatter"
           }
          ],
          "scatter3d": [
           {
            "line": {
             "colorbar": {
              "outlinewidth": 0,
              "ticks": ""
             }
            },
            "marker": {
             "colorbar": {
              "outlinewidth": 0,
              "ticks": ""
             }
            },
            "type": "scatter3d"
           }
          ],
          "scattercarpet": [
           {
            "marker": {
             "colorbar": {
              "outlinewidth": 0,
              "ticks": ""
             }
            },
            "type": "scattercarpet"
           }
          ],
          "scattergeo": [
           {
            "marker": {
             "colorbar": {
              "outlinewidth": 0,
              "ticks": ""
             }
            },
            "type": "scattergeo"
           }
          ],
          "scattergl": [
           {
            "marker": {
             "line": {
              "color": "#283442"
             }
            },
            "type": "scattergl"
           }
          ],
          "scattermapbox": [
           {
            "marker": {
             "colorbar": {
              "outlinewidth": 0,
              "ticks": ""
             }
            },
            "type": "scattermapbox"
           }
          ],
          "scatterpolar": [
           {
            "marker": {
             "colorbar": {
              "outlinewidth": 0,
              "ticks": ""
             }
            },
            "type": "scatterpolar"
           }
          ],
          "scatterpolargl": [
           {
            "marker": {
             "colorbar": {
              "outlinewidth": 0,
              "ticks": ""
             }
            },
            "type": "scatterpolargl"
           }
          ],
          "scatterternary": [
           {
            "marker": {
             "colorbar": {
              "outlinewidth": 0,
              "ticks": ""
             }
            },
            "type": "scatterternary"
           }
          ],
          "surface": [
           {
            "colorbar": {
             "outlinewidth": 0,
             "ticks": ""
            },
            "colorscale": [
             [
              0,
              "#0d0887"
             ],
             [
              0.1111111111111111,
              "#46039f"
             ],
             [
              0.2222222222222222,
              "#7201a8"
             ],
             [
              0.3333333333333333,
              "#9c179e"
             ],
             [
              0.4444444444444444,
              "#bd3786"
             ],
             [
              0.5555555555555556,
              "#d8576b"
             ],
             [
              0.6666666666666666,
              "#ed7953"
             ],
             [
              0.7777777777777778,
              "#fb9f3a"
             ],
             [
              0.8888888888888888,
              "#fdca26"
             ],
             [
              1,
              "#f0f921"
             ]
            ],
            "type": "surface"
           }
          ],
          "table": [
           {
            "cells": {
             "fill": {
              "color": "#506784"
             },
             "line": {
              "color": "rgb(17,17,17)"
             }
            },
            "header": {
             "fill": {
              "color": "#2a3f5f"
             },
             "line": {
              "color": "rgb(17,17,17)"
             }
            },
            "type": "table"
           }
          ]
         },
         "layout": {
          "annotationdefaults": {
           "arrowcolor": "#f2f5fa",
           "arrowhead": 0,
           "arrowwidth": 1
          },
          "autotypenumbers": "strict",
          "coloraxis": {
           "colorbar": {
            "outlinewidth": 0,
            "ticks": ""
           }
          },
          "colorscale": {
           "diverging": [
            [
             0,
             "#8e0152"
            ],
            [
             0.1,
             "#c51b7d"
            ],
            [
             0.2,
             "#de77ae"
            ],
            [
             0.3,
             "#f1b6da"
            ],
            [
             0.4,
             "#fde0ef"
            ],
            [
             0.5,
             "#f7f7f7"
            ],
            [
             0.6,
             "#e6f5d0"
            ],
            [
             0.7,
             "#b8e186"
            ],
            [
             0.8,
             "#7fbc41"
            ],
            [
             0.9,
             "#4d9221"
            ],
            [
             1,
             "#276419"
            ]
           ],
           "sequential": [
            [
             0,
             "#0d0887"
            ],
            [
             0.1111111111111111,
             "#46039f"
            ],
            [
             0.2222222222222222,
             "#7201a8"
            ],
            [
             0.3333333333333333,
             "#9c179e"
            ],
            [
             0.4444444444444444,
             "#bd3786"
            ],
            [
             0.5555555555555556,
             "#d8576b"
            ],
            [
             0.6666666666666666,
             "#ed7953"
            ],
            [
             0.7777777777777778,
             "#fb9f3a"
            ],
            [
             0.8888888888888888,
             "#fdca26"
            ],
            [
             1,
             "#f0f921"
            ]
           ],
           "sequentialminus": [
            [
             0,
             "#0d0887"
            ],
            [
             0.1111111111111111,
             "#46039f"
            ],
            [
             0.2222222222222222,
             "#7201a8"
            ],
            [
             0.3333333333333333,
             "#9c179e"
            ],
            [
             0.4444444444444444,
             "#bd3786"
            ],
            [
             0.5555555555555556,
             "#d8576b"
            ],
            [
             0.6666666666666666,
             "#ed7953"
            ],
            [
             0.7777777777777778,
             "#fb9f3a"
            ],
            [
             0.8888888888888888,
             "#fdca26"
            ],
            [
             1,
             "#f0f921"
            ]
           ]
          },
          "colorway": [
           "#636efa",
           "#EF553B",
           "#00cc96",
           "#ab63fa",
           "#FFA15A",
           "#19d3f3",
           "#FF6692",
           "#B6E880",
           "#FF97FF",
           "#FECB52"
          ],
          "font": {
           "color": "#f2f5fa"
          },
          "geo": {
           "bgcolor": "rgb(17,17,17)",
           "lakecolor": "rgb(17,17,17)",
           "landcolor": "rgb(17,17,17)",
           "showlakes": true,
           "showland": true,
           "subunitcolor": "#506784"
          },
          "hoverlabel": {
           "align": "left"
          },
          "hovermode": "closest",
          "mapbox": {
           "style": "dark"
          },
          "paper_bgcolor": "rgb(17,17,17)",
          "plot_bgcolor": "rgb(17,17,17)",
          "polar": {
           "angularaxis": {
            "gridcolor": "#506784",
            "linecolor": "#506784",
            "ticks": ""
           },
           "bgcolor": "rgb(17,17,17)",
           "radialaxis": {
            "gridcolor": "#506784",
            "linecolor": "#506784",
            "ticks": ""
           }
          },
          "scene": {
           "xaxis": {
            "backgroundcolor": "rgb(17,17,17)",
            "gridcolor": "#506784",
            "gridwidth": 2,
            "linecolor": "#506784",
            "showbackground": true,
            "ticks": "",
            "zerolinecolor": "#C8D4E3"
           },
           "yaxis": {
            "backgroundcolor": "rgb(17,17,17)",
            "gridcolor": "#506784",
            "gridwidth": 2,
            "linecolor": "#506784",
            "showbackground": true,
            "ticks": "",
            "zerolinecolor": "#C8D4E3"
           },
           "zaxis": {
            "backgroundcolor": "rgb(17,17,17)",
            "gridcolor": "#506784",
            "gridwidth": 2,
            "linecolor": "#506784",
            "showbackground": true,
            "ticks": "",
            "zerolinecolor": "#C8D4E3"
           }
          },
          "shapedefaults": {
           "line": {
            "color": "#f2f5fa"
           }
          },
          "sliderdefaults": {
           "bgcolor": "#C8D4E3",
           "bordercolor": "rgb(17,17,17)",
           "borderwidth": 1,
           "tickwidth": 0
          },
          "ternary": {
           "aaxis": {
            "gridcolor": "#506784",
            "linecolor": "#506784",
            "ticks": ""
           },
           "baxis": {
            "gridcolor": "#506784",
            "linecolor": "#506784",
            "ticks": ""
           },
           "bgcolor": "rgb(17,17,17)",
           "caxis": {
            "gridcolor": "#506784",
            "linecolor": "#506784",
            "ticks": ""
           }
          },
          "title": {
           "x": 0.05
          },
          "updatemenudefaults": {
           "bgcolor": "#506784",
           "borderwidth": 0
          },
          "xaxis": {
           "automargin": true,
           "gridcolor": "#283442",
           "linecolor": "#506784",
           "ticks": "",
           "title": {
            "standoff": 15
           },
           "zerolinecolor": "#283442",
           "zerolinewidth": 2
          },
          "yaxis": {
           "automargin": true,
           "gridcolor": "#283442",
           "linecolor": "#506784",
           "ticks": "",
           "title": {
            "standoff": 15
           },
           "zerolinecolor": "#283442",
           "zerolinewidth": 2
          }
         }
        },
        "title": {
         "text": "star graphs Max Happy Set - Result time vs K and N",
         "x": 0.5,
         "xanchor": "center"
        }
       }
      }
     },
     "metadata": {},
     "output_type": "display_data"
    },
    {
     "data": {
      "application/vnd.plotly.v1+json": {
       "config": {
        "plotlyServerURL": "https://plot.ly"
       },
       "data": [
        {
         "hovertemplate": "color=rgb(3, 5, 18)<br>Numero de nós=%{x}<br>k/N ratio=%{y}<br>Result Time=%{z}<extra></extra>",
         "legendgroup": "rgb(3, 5, 18)",
         "marker": {
          "color": "rgb(102, 102, 102)",
          "symbol": "circle"
         },
         "mode": "markers",
         "name": "rgb(3, 5, 18)",
         "scene": "scene",
         "showlegend": true,
         "type": "scatter3d",
         "x": [
          4,
          4,
          4
         ],
         "y": [
          0.25,
          0.5,
          0.75
         ],
         "z": [
          0.0090470314025878,
          0.0190885066986084,
          0.0085895061492919
         ]
        },
        {
         "hovertemplate": "color=rgb(3, 5, 19)<br>Numero de nós=%{x}<br>k/N ratio=%{y}<br>Result Time=%{z}<extra></extra>",
         "legendgroup": "rgb(3, 5, 19)",
         "marker": {
          "color": "rgb(115, 63, 112)",
          "symbol": "circle"
         },
         "mode": "markers",
         "name": "rgb(3, 5, 19)",
         "scene": "scene",
         "showlegend": true,
         "type": "scatter3d",
         "x": [
          8,
          8,
          8,
          8,
          8,
          8,
          8
         ],
         "y": [
          0.125,
          0.25,
          0.375,
          0.5,
          0.625,
          0.75,
          0.875
         ],
         "z": [
          0.0094649791717529,
          0.0157625675201416,
          0.0136237144470214,
          0.0183830261230468,
          0.0517933368682861,
          0.0281257629394531,
          0.0179862976074218
         ]
        },
        {
         "hovertemplate": "color=rgb(4, 6, 19)<br>Numero de nós=%{x}<br>k/N ratio=%{y}<br>Result Time=%{z}<extra></extra>",
         "legendgroup": "rgb(4, 6, 19)",
         "marker": {
          "color": "rgb(160, 58, 99)",
          "symbol": "circle"
         },
         "mode": "markers",
         "name": "rgb(4, 6, 19)",
         "scene": "scene",
         "showlegend": true,
         "type": "scatter3d",
         "x": [
          16,
          16,
          16,
          16,
          16,
          16,
          16,
          16,
          16,
          16,
          16,
          16,
          16,
          16,
          16,
          32,
          32,
          32,
          32,
          32,
          32,
          32,
          32,
          32,
          32,
          32,
          32,
          32,
          32,
          32,
          32,
          32,
          32,
          32,
          32,
          32,
          32,
          32,
          32,
          32,
          32,
          32,
          32,
          32,
          32,
          32
         ],
         "y": [
          0.062,
          0.125,
          0.188,
          0.25,
          0.312,
          0.375,
          0.438,
          0.5,
          0.562,
          0.625,
          0.688,
          0.75,
          0.812,
          0.875,
          0.938,
          0.031,
          0.062,
          0.094,
          0.125,
          0.156,
          0.188,
          0.219,
          0.25,
          0.281,
          0.312,
          0.344,
          0.375,
          0.406,
          0.438,
          0.469,
          0.5,
          0.531,
          0.562,
          0.594,
          0.625,
          0.656,
          0.688,
          0.719,
          0.75,
          0.781,
          0.812,
          0.844,
          0.875,
          0.906,
          0.938,
          0.969
         ],
         "z": [
          0.0148773193359375,
          0.016982078552246,
          0.0169699192047119,
          0.0345957279205322,
          0.0629465579986572,
          0.0489990711212158,
          0.0472452640533447,
          0.0598540306091308,
          0.0423097610473632,
          0.0447728633880615,
          0.1051623821258544,
          0.0733356475830078,
          0.1043097972869873,
          0.1564254760742187,
          0.048591136932373,
          0.0339891910552978,
          0.0216763019561767,
          0.0192720890045166,
          0.0860106945037841,
          0.0744047164916992,
          0.0830719470977783,
          0.072174072265625,
          0.0559895038604736,
          0.0654659271240234,
          0.0522358417510986,
          0.1100044250488281,
          0.0720922946929931,
          0.0591671466827392,
          0.0503416061401367,
          0.150205373764038,
          0.051405906677246,
          0.085658311843872,
          0.0418200492858886,
          0.1405513286590576,
          0.0593724250793457,
          0.1163475513458252,
          0.1223399639129638,
          0.1404561996459961,
          0.1101424694061279,
          0.2237005233764648,
          0.0722792148590087,
          0.1157567501068115,
          0.0633573532104492,
          0.062119722366333,
          0.0515997409820556,
          0.0250225067138671
         ]
        },
        {
         "hovertemplate": "color=rgb(4, 6, 20)<br>Numero de nós=%{x}<br>k/N ratio=%{y}<br>Result Time=%{z}<extra></extra>",
         "legendgroup": "rgb(4, 6, 20)",
         "marker": {
          "color": "rgb(211, 95, 43)",
          "symbol": "circle"
         },
         "mode": "markers",
         "name": "rgb(4, 6, 20)",
         "scene": "scene",
         "showlegend": true,
         "type": "scatter3d",
         "x": [
          64,
          64,
          64,
          64,
          64,
          64,
          64,
          64,
          64,
          64,
          64,
          64,
          64,
          64,
          64,
          64,
          64,
          64,
          64,
          64,
          64,
          128,
          128,
          128,
          128,
          128,
          128,
          128,
          128,
          128,
          128,
          128,
          128,
          128,
          128,
          128,
          128,
          128,
          128,
          128,
          128,
          128
         ],
         "y": [
          0.047,
          0.094,
          0.141,
          0.188,
          0.234,
          0.281,
          0.328,
          0.375,
          0.422,
          0.469,
          0.516,
          0.562,
          0.609,
          0.656,
          0.703,
          0.75,
          0.797,
          0.844,
          0.891,
          0.938,
          0.984,
          0.047,
          0.094,
          0.141,
          0.188,
          0.234,
          0.281,
          0.328,
          0.375,
          0.422,
          0.469,
          0.516,
          0.562,
          0.609,
          0.656,
          0.703,
          0.75,
          0.797,
          0.844,
          0.891,
          0.938,
          0.984
         ],
         "z": [
          0.0164990425109863,
          0.0931999683380127,
          0.0984606742858886,
          0.0869548320770263,
          0.1671686172485351,
          0.1516640186309814,
          0.1743571758270263,
          0.0665047168731689,
          0.1975436210632324,
          0.0751078128814697,
          0.1603610515594482,
          0.0702190399169921,
          0.2218294143676757,
          0.0840463638305664,
          0.1886055469512939,
          0.2947838306427002,
          0.125319242477417,
          0.1093676090240478,
          0.1627216339111328,
          0.1045060157775878,
          0.0254428386688232,
          0.2467560768127441,
          0.232426643371582,
          0.2594966888427734,
          0.1788015365600586,
          0.2729551792144775,
          0.189751386642456,
          0.163654088973999,
          0.173546552658081,
          0.2208120822906494,
          0.3775527477264404,
          0.2968292236328125,
          0.1755461692810058,
          0.1510560512542724,
          0.2290694713592529,
          0.1994824409484863,
          0.1909165382385254,
          0.2467951774597168,
          0.2396588325500488,
          0.2524442672729492,
          0.2322080135345459,
          0.5945374965667725
         ]
        },
        {
         "hovertemplate": "color=rgb(5, 7, 21)<br>Numero de nós=%{x}<br>k/N ratio=%{y}<br>Result Time=%{z}<extra></extra>",
         "legendgroup": "rgb(5, 7, 21)",
         "marker": {
          "color": "rgb(230, 146, 6)",
          "symbol": "circle"
         },
         "mode": "markers",
         "name": "rgb(5, 7, 21)",
         "scene": "scene",
         "showlegend": true,
         "type": "scatter3d",
         "x": [
          256,
          256,
          256,
          256,
          256,
          256,
          256,
          256,
          256,
          256,
          256,
          256,
          256,
          256,
          256,
          256,
          256,
          256,
          256,
          256,
          256,
          512,
          512,
          512,
          512,
          512,
          512,
          512,
          512,
          512,
          512,
          512,
          512,
          512,
          512,
          512,
          512,
          512,
          512,
          512,
          512,
          1024,
          1024,
          1024,
          1024,
          1024,
          1024,
          1024,
          1024,
          1024,
          1024,
          1024,
          1024,
          1024,
          1024,
          1024,
          1024,
          1024,
          1024,
          1024,
          1024
         ],
         "y": [
          0.047,
          0.094,
          0.141,
          0.188,
          0.234,
          0.281,
          0.328,
          0.375,
          0.422,
          0.469,
          0.516,
          0.562,
          0.609,
          0.656,
          0.703,
          0.75,
          0.797,
          0.844,
          0.891,
          0.938,
          0.984,
          0.049,
          0.098,
          0.146,
          0.195,
          0.244,
          0.293,
          0.342,
          0.391,
          0.439,
          0.488,
          0.537,
          0.586,
          0.635,
          0.684,
          0.732,
          0.781,
          0.83,
          0.879,
          0.928,
          0.977,
          0.05,
          0.1,
          0.149,
          0.199,
          0.249,
          0.299,
          0.349,
          0.398,
          0.448,
          0.498,
          0.548,
          0.598,
          0.647,
          0.697,
          0.747,
          0.797,
          0.847,
          0.896,
          0.946,
          0.996
         ],
         "z": [
          0.4573566913604736,
          0.4516928195953369,
          0.4747762680053711,
          0.4738023281097412,
          0.3867037296295166,
          0.3848583698272705,
          0.4112160205841064,
          0.5678651332855225,
          0.3385298252105713,
          0.3387594223022461,
          0.3305528163909912,
          0.299856424331665,
          0.4366915225982666,
          0.3911597728729248,
          0.4272022247314453,
          0.5983967781066895,
          0.8441042900085449,
          0.7161176204681396,
          0.7052042484283447,
          0.723196268081665,
          1.0574321746826172,
          1.2885346412658691,
          0.7375059127807617,
          0.8329050540924072,
          1.003453493118286,
          0.681269645690918,
          0.5762405395507812,
          0.5609021186828613,
          0.7656848430633545,
          0.9176368713378906,
          1.9942693710327148,
          0.5234642028808594,
          2.3816018104553223,
          3.221587896347046,
          3.324328899383545,
          4.6000587940216064,
          5.41105842590332,
          7.377034425735474,
          3.815974950790405,
          2.191622495651245,
          4.342181921005249,
          3.64418363571167,
          2.1618008613586426,
          2.1331865787506104,
          2.1266489028930664,
          2.2246015071868896,
          2.4197990894317627,
          2.128151655197144,
          4.601922512054443,
          6.32283353805542,
          2.5085549354553223,
          6.282514333724976,
          7.992056369781494,
          5.691530227661133,
          10.745245933532717,
          20.82856512069702,
          12.849676847457886,
          21.847150087356567,
          16.34960412979126,
          9.424170017242432,
          20.61923050880432
         ]
        },
        {
         "hovertemplate": "color=rgb(5, 7, 22)<br>Numero de nós=%{x}<br>k/N ratio=%{y}<br>Result Time=%{z}<extra></extra>",
         "legendgroup": "rgb(5, 7, 22)",
         "marker": {
          "color": "rgb(169, 174, 44)",
          "symbol": "circle"
         },
         "mode": "markers",
         "name": "rgb(5, 7, 22)",
         "scene": "scene",
         "showlegend": true,
         "type": "scatter3d",
         "x": [
          2048,
          2048,
          2048,
          2048,
          2048,
          2048,
          2048,
          2048,
          2048,
          2048,
          2048,
          2048,
          2048,
          2048,
          2048,
          2048,
          2048,
          2048,
          2048,
          2048
         ],
         "y": [
          0.05,
          0.1,
          0.149,
          0.199,
          0.249,
          0.299,
          0.349,
          0.398,
          0.448,
          0.498,
          0.548,
          0.598,
          0.647,
          0.697,
          0.747,
          0.797,
          0.847,
          0.896,
          0.946,
          0.996
         ],
         "z": [
          9.9245707988739,
          9.054880142211914,
          8.742637872695923,
          8.537748336791992,
          6.916344404220581,
          8.808516263961792,
          7.462917804718018,
          7.208829402923584,
          9.285370826721191,
          6.845008373260498,
          9.462986707687378,
          67.73400568962097,
          25.85887575149536,
          71.26275420188904,
          162.0050859451294,
          130.21923995018005,
          51.36026835441589,
          110.921311378479,
          68.7969012260437,
          263.6417670249939
         ]
        },
        {
         "hovertemplate": "color=rgb(6, 7, 22)<br>Numero de nós=%{x}<br>k/N ratio=%{y}<br>Result Time=%{z}<extra></extra>",
         "legendgroup": "rgb(6, 7, 22)",
         "marker": {
          "color": "rgb(48, 147, 80)",
          "symbol": "circle"
         },
         "mode": "markers",
         "name": "rgb(6, 7, 22)",
         "scene": "scene",
         "showlegend": true,
         "type": "scatter3d",
         "x": [
          4096,
          4096,
          4096,
          4096,
          4096,
          4096,
          4096,
          4096,
          4096,
          4096,
          4096,
          4096,
          4096,
          4096,
          4096,
          4096,
          4096,
          4096,
          4096
         ],
         "y": [
          0.05,
          0.1,
          0.149,
          0.199,
          0.249,
          0.299,
          0.349,
          0.398,
          0.448,
          0.498,
          0.548,
          0.598,
          0.647,
          0.697,
          0.747,
          0.797,
          0.847,
          0.896,
          0.946
         ],
         "z": [
          40.74706673622131,
          47.43436455726624,
          30.651606798172,
          31.94688034057617,
          32.89976906776428,
          26.443076610565186,
          38.43180990219116,
          29.600197792053223,
          75.95559430122375,
          28.351898431777958,
          28.06574249267578,
          26.827642917633057,
          138.12294697761536,
          126.62769174575806,
          508.7677431106568,
          523.8810613155365,
          209.90425300598145,
          607.0963816642761,
          382.6587810516357
         ]
        }
       ],
       "layout": {
        "hovermode": "closest",
        "legend": {
         "borderwidth": 1,
         "title": {
          "font": {
           "size": 12
          },
          "text": "k/N Ratio"
         },
         "tracegroupgap": 0,
         "x": 1,
         "y": 1
        },
        "margin": {
         "b": 50,
         "l": 50,
         "r": 50,
         "t": 50
        },
        "scene": {
         "domain": {
          "x": [
           0,
           1
          ],
          "y": [
           0,
           1
          ]
         },
         "xaxis": {
          "range": [
           0,
           4.5
          ],
          "title": {
           "text": "Número de nós"
          },
          "type": "log"
         },
         "yaxis": {
          "title": {
           "text": "k/N ratio"
          },
          "type": "linear"
         },
         "zaxis": {
          "range": [
           -2.5,
           3.6
          ],
          "title": {
           "text": "Result Time"
          },
          "type": "log"
         }
        },
        "template": {
         "data": {
          "bar": [
           {
            "error_x": {
             "color": "#f2f5fa"
            },
            "error_y": {
             "color": "#f2f5fa"
            },
            "marker": {
             "line": {
              "color": "rgb(17,17,17)",
              "width": 0.5
             },
             "pattern": {
              "fillmode": "overlay",
              "size": 10,
              "solidity": 0.2
             }
            },
            "type": "bar"
           }
          ],
          "barpolar": [
           {
            "marker": {
             "line": {
              "color": "rgb(17,17,17)",
              "width": 0.5
             },
             "pattern": {
              "fillmode": "overlay",
              "size": 10,
              "solidity": 0.2
             }
            },
            "type": "barpolar"
           }
          ],
          "carpet": [
           {
            "aaxis": {
             "endlinecolor": "#A2B1C6",
             "gridcolor": "#506784",
             "linecolor": "#506784",
             "minorgridcolor": "#506784",
             "startlinecolor": "#A2B1C6"
            },
            "baxis": {
             "endlinecolor": "#A2B1C6",
             "gridcolor": "#506784",
             "linecolor": "#506784",
             "minorgridcolor": "#506784",
             "startlinecolor": "#A2B1C6"
            },
            "type": "carpet"
           }
          ],
          "choropleth": [
           {
            "colorbar": {
             "outlinewidth": 0,
             "ticks": ""
            },
            "type": "choropleth"
           }
          ],
          "contour": [
           {
            "colorbar": {
             "outlinewidth": 0,
             "ticks": ""
            },
            "colorscale": [
             [
              0,
              "#0d0887"
             ],
             [
              0.1111111111111111,
              "#46039f"
             ],
             [
              0.2222222222222222,
              "#7201a8"
             ],
             [
              0.3333333333333333,
              "#9c179e"
             ],
             [
              0.4444444444444444,
              "#bd3786"
             ],
             [
              0.5555555555555556,
              "#d8576b"
             ],
             [
              0.6666666666666666,
              "#ed7953"
             ],
             [
              0.7777777777777778,
              "#fb9f3a"
             ],
             [
              0.8888888888888888,
              "#fdca26"
             ],
             [
              1,
              "#f0f921"
             ]
            ],
            "type": "contour"
           }
          ],
          "contourcarpet": [
           {
            "colorbar": {
             "outlinewidth": 0,
             "ticks": ""
            },
            "type": "contourcarpet"
           }
          ],
          "heatmap": [
           {
            "colorbar": {
             "outlinewidth": 0,
             "ticks": ""
            },
            "colorscale": [
             [
              0,
              "#0d0887"
             ],
             [
              0.1111111111111111,
              "#46039f"
             ],
             [
              0.2222222222222222,
              "#7201a8"
             ],
             [
              0.3333333333333333,
              "#9c179e"
             ],
             [
              0.4444444444444444,
              "#bd3786"
             ],
             [
              0.5555555555555556,
              "#d8576b"
             ],
             [
              0.6666666666666666,
              "#ed7953"
             ],
             [
              0.7777777777777778,
              "#fb9f3a"
             ],
             [
              0.8888888888888888,
              "#fdca26"
             ],
             [
              1,
              "#f0f921"
             ]
            ],
            "type": "heatmap"
           }
          ],
          "heatmapgl": [
           {
            "colorbar": {
             "outlinewidth": 0,
             "ticks": ""
            },
            "colorscale": [
             [
              0,
              "#0d0887"
             ],
             [
              0.1111111111111111,
              "#46039f"
             ],
             [
              0.2222222222222222,
              "#7201a8"
             ],
             [
              0.3333333333333333,
              "#9c179e"
             ],
             [
              0.4444444444444444,
              "#bd3786"
             ],
             [
              0.5555555555555556,
              "#d8576b"
             ],
             [
              0.6666666666666666,
              "#ed7953"
             ],
             [
              0.7777777777777778,
              "#fb9f3a"
             ],
             [
              0.8888888888888888,
              "#fdca26"
             ],
             [
              1,
              "#f0f921"
             ]
            ],
            "type": "heatmapgl"
           }
          ],
          "histogram": [
           {
            "marker": {
             "pattern": {
              "fillmode": "overlay",
              "size": 10,
              "solidity": 0.2
             }
            },
            "type": "histogram"
           }
          ],
          "histogram2d": [
           {
            "colorbar": {
             "outlinewidth": 0,
             "ticks": ""
            },
            "colorscale": [
             [
              0,
              "#0d0887"
             ],
             [
              0.1111111111111111,
              "#46039f"
             ],
             [
              0.2222222222222222,
              "#7201a8"
             ],
             [
              0.3333333333333333,
              "#9c179e"
             ],
             [
              0.4444444444444444,
              "#bd3786"
             ],
             [
              0.5555555555555556,
              "#d8576b"
             ],
             [
              0.6666666666666666,
              "#ed7953"
             ],
             [
              0.7777777777777778,
              "#fb9f3a"
             ],
             [
              0.8888888888888888,
              "#fdca26"
             ],
             [
              1,
              "#f0f921"
             ]
            ],
            "type": "histogram2d"
           }
          ],
          "histogram2dcontour": [
           {
            "colorbar": {
             "outlinewidth": 0,
             "ticks": ""
            },
            "colorscale": [
             [
              0,
              "#0d0887"
             ],
             [
              0.1111111111111111,
              "#46039f"
             ],
             [
              0.2222222222222222,
              "#7201a8"
             ],
             [
              0.3333333333333333,
              "#9c179e"
             ],
             [
              0.4444444444444444,
              "#bd3786"
             ],
             [
              0.5555555555555556,
              "#d8576b"
             ],
             [
              0.6666666666666666,
              "#ed7953"
             ],
             [
              0.7777777777777778,
              "#fb9f3a"
             ],
             [
              0.8888888888888888,
              "#fdca26"
             ],
             [
              1,
              "#f0f921"
             ]
            ],
            "type": "histogram2dcontour"
           }
          ],
          "mesh3d": [
           {
            "colorbar": {
             "outlinewidth": 0,
             "ticks": ""
            },
            "type": "mesh3d"
           }
          ],
          "parcoords": [
           {
            "line": {
             "colorbar": {
              "outlinewidth": 0,
              "ticks": ""
             }
            },
            "type": "parcoords"
           }
          ],
          "pie": [
           {
            "automargin": true,
            "type": "pie"
           }
          ],
          "scatter": [
           {
            "marker": {
             "line": {
              "color": "#283442"
             }
            },
            "type": "scatter"
           }
          ],
          "scatter3d": [
           {
            "line": {
             "colorbar": {
              "outlinewidth": 0,
              "ticks": ""
             }
            },
            "marker": {
             "colorbar": {
              "outlinewidth": 0,
              "ticks": ""
             }
            },
            "type": "scatter3d"
           }
          ],
          "scattercarpet": [
           {
            "marker": {
             "colorbar": {
              "outlinewidth": 0,
              "ticks": ""
             }
            },
            "type": "scattercarpet"
           }
          ],
          "scattergeo": [
           {
            "marker": {
             "colorbar": {
              "outlinewidth": 0,
              "ticks": ""
             }
            },
            "type": "scattergeo"
           }
          ],
          "scattergl": [
           {
            "marker": {
             "line": {
              "color": "#283442"
             }
            },
            "type": "scattergl"
           }
          ],
          "scattermapbox": [
           {
            "marker": {
             "colorbar": {
              "outlinewidth": 0,
              "ticks": ""
             }
            },
            "type": "scattermapbox"
           }
          ],
          "scatterpolar": [
           {
            "marker": {
             "colorbar": {
              "outlinewidth": 0,
              "ticks": ""
             }
            },
            "type": "scatterpolar"
           }
          ],
          "scatterpolargl": [
           {
            "marker": {
             "colorbar": {
              "outlinewidth": 0,
              "ticks": ""
             }
            },
            "type": "scatterpolargl"
           }
          ],
          "scatterternary": [
           {
            "marker": {
             "colorbar": {
              "outlinewidth": 0,
              "ticks": ""
             }
            },
            "type": "scatterternary"
           }
          ],
          "surface": [
           {
            "colorbar": {
             "outlinewidth": 0,
             "ticks": ""
            },
            "colorscale": [
             [
              0,
              "#0d0887"
             ],
             [
              0.1111111111111111,
              "#46039f"
             ],
             [
              0.2222222222222222,
              "#7201a8"
             ],
             [
              0.3333333333333333,
              "#9c179e"
             ],
             [
              0.4444444444444444,
              "#bd3786"
             ],
             [
              0.5555555555555556,
              "#d8576b"
             ],
             [
              0.6666666666666666,
              "#ed7953"
             ],
             [
              0.7777777777777778,
              "#fb9f3a"
             ],
             [
              0.8888888888888888,
              "#fdca26"
             ],
             [
              1,
              "#f0f921"
             ]
            ],
            "type": "surface"
           }
          ],
          "table": [
           {
            "cells": {
             "fill": {
              "color": "#506784"
             },
             "line": {
              "color": "rgb(17,17,17)"
             }
            },
            "header": {
             "fill": {
              "color": "#2a3f5f"
             },
             "line": {
              "color": "rgb(17,17,17)"
             }
            },
            "type": "table"
           }
          ]
         },
         "layout": {
          "annotationdefaults": {
           "arrowcolor": "#f2f5fa",
           "arrowhead": 0,
           "arrowwidth": 1
          },
          "autotypenumbers": "strict",
          "coloraxis": {
           "colorbar": {
            "outlinewidth": 0,
            "ticks": ""
           }
          },
          "colorscale": {
           "diverging": [
            [
             0,
             "#8e0152"
            ],
            [
             0.1,
             "#c51b7d"
            ],
            [
             0.2,
             "#de77ae"
            ],
            [
             0.3,
             "#f1b6da"
            ],
            [
             0.4,
             "#fde0ef"
            ],
            [
             0.5,
             "#f7f7f7"
            ],
            [
             0.6,
             "#e6f5d0"
            ],
            [
             0.7,
             "#b8e186"
            ],
            [
             0.8,
             "#7fbc41"
            ],
            [
             0.9,
             "#4d9221"
            ],
            [
             1,
             "#276419"
            ]
           ],
           "sequential": [
            [
             0,
             "#0d0887"
            ],
            [
             0.1111111111111111,
             "#46039f"
            ],
            [
             0.2222222222222222,
             "#7201a8"
            ],
            [
             0.3333333333333333,
             "#9c179e"
            ],
            [
             0.4444444444444444,
             "#bd3786"
            ],
            [
             0.5555555555555556,
             "#d8576b"
            ],
            [
             0.6666666666666666,
             "#ed7953"
            ],
            [
             0.7777777777777778,
             "#fb9f3a"
            ],
            [
             0.8888888888888888,
             "#fdca26"
            ],
            [
             1,
             "#f0f921"
            ]
           ],
           "sequentialminus": [
            [
             0,
             "#0d0887"
            ],
            [
             0.1111111111111111,
             "#46039f"
            ],
            [
             0.2222222222222222,
             "#7201a8"
            ],
            [
             0.3333333333333333,
             "#9c179e"
            ],
            [
             0.4444444444444444,
             "#bd3786"
            ],
            [
             0.5555555555555556,
             "#d8576b"
            ],
            [
             0.6666666666666666,
             "#ed7953"
            ],
            [
             0.7777777777777778,
             "#fb9f3a"
            ],
            [
             0.8888888888888888,
             "#fdca26"
            ],
            [
             1,
             "#f0f921"
            ]
           ]
          },
          "colorway": [
           "#636efa",
           "#EF553B",
           "#00cc96",
           "#ab63fa",
           "#FFA15A",
           "#19d3f3",
           "#FF6692",
           "#B6E880",
           "#FF97FF",
           "#FECB52"
          ],
          "font": {
           "color": "#f2f5fa"
          },
          "geo": {
           "bgcolor": "rgb(17,17,17)",
           "lakecolor": "rgb(17,17,17)",
           "landcolor": "rgb(17,17,17)",
           "showlakes": true,
           "showland": true,
           "subunitcolor": "#506784"
          },
          "hoverlabel": {
           "align": "left"
          },
          "hovermode": "closest",
          "mapbox": {
           "style": "dark"
          },
          "paper_bgcolor": "rgb(17,17,17)",
          "plot_bgcolor": "rgb(17,17,17)",
          "polar": {
           "angularaxis": {
            "gridcolor": "#506784",
            "linecolor": "#506784",
            "ticks": ""
           },
           "bgcolor": "rgb(17,17,17)",
           "radialaxis": {
            "gridcolor": "#506784",
            "linecolor": "#506784",
            "ticks": ""
           }
          },
          "scene": {
           "xaxis": {
            "backgroundcolor": "rgb(17,17,17)",
            "gridcolor": "#506784",
            "gridwidth": 2,
            "linecolor": "#506784",
            "showbackground": true,
            "ticks": "",
            "zerolinecolor": "#C8D4E3"
           },
           "yaxis": {
            "backgroundcolor": "rgb(17,17,17)",
            "gridcolor": "#506784",
            "gridwidth": 2,
            "linecolor": "#506784",
            "showbackground": true,
            "ticks": "",
            "zerolinecolor": "#C8D4E3"
           },
           "zaxis": {
            "backgroundcolor": "rgb(17,17,17)",
            "gridcolor": "#506784",
            "gridwidth": 2,
            "linecolor": "#506784",
            "showbackground": true,
            "ticks": "",
            "zerolinecolor": "#C8D4E3"
           }
          },
          "shapedefaults": {
           "line": {
            "color": "#f2f5fa"
           }
          },
          "sliderdefaults": {
           "bgcolor": "#C8D4E3",
           "bordercolor": "rgb(17,17,17)",
           "borderwidth": 1,
           "tickwidth": 0
          },
          "ternary": {
           "aaxis": {
            "gridcolor": "#506784",
            "linecolor": "#506784",
            "ticks": ""
           },
           "baxis": {
            "gridcolor": "#506784",
            "linecolor": "#506784",
            "ticks": ""
           },
           "bgcolor": "rgb(17,17,17)",
           "caxis": {
            "gridcolor": "#506784",
            "linecolor": "#506784",
            "ticks": ""
           }
          },
          "title": {
           "x": 0.05
          },
          "updatemenudefaults": {
           "bgcolor": "#506784",
           "borderwidth": 0
          },
          "xaxis": {
           "automargin": true,
           "gridcolor": "#283442",
           "linecolor": "#506784",
           "ticks": "",
           "title": {
            "standoff": 15
           },
           "zerolinecolor": "#283442",
           "zerolinewidth": 2
          },
          "yaxis": {
           "automargin": true,
           "gridcolor": "#283442",
           "linecolor": "#506784",
           "ticks": "",
           "title": {
            "standoff": 15
           },
           "zerolinecolor": "#283442",
           "zerolinewidth": 2
          }
         }
        },
        "title": {
         "text": "cubic graphs Max Happy Set - Result time vs K and N",
         "x": 0.5,
         "xanchor": "center"
        }
       }
      }
     },
     "metadata": {},
     "output_type": "display_data"
    },
    {
     "data": {
      "application/vnd.plotly.v1+json": {
       "config": {
        "plotlyServerURL": "https://plot.ly"
       },
       "data": [
        {
         "hovertemplate": "color=rgb(3, 5, 18)<br>Numero de nós=%{x}<br>k/N ratio=%{y}<br>Result Time=%{z}<extra></extra>",
         "legendgroup": "rgb(3, 5, 18)",
         "marker": {
          "color": "rgb(102, 102, 102)",
          "symbol": "circle"
         },
         "mode": "markers",
         "name": "rgb(3, 5, 18)",
         "scene": "scene",
         "showlegend": true,
         "type": "scatter3d",
         "x": [
          4,
          4,
          4
         ],
         "y": [
          0.25,
          0.5,
          0.75
         ],
         "z": [
          0.0120532512664794,
          0.0220808982849121,
          0.0280764102935791
         ]
        },
        {
         "hovertemplate": "color=rgb(3, 5, 19)<br>Numero de nós=%{x}<br>k/N ratio=%{y}<br>Result Time=%{z}<extra></extra>",
         "legendgroup": "rgb(3, 5, 19)",
         "marker": {
          "color": "rgb(115, 63, 112)",
          "symbol": "circle"
         },
         "mode": "markers",
         "name": "rgb(3, 5, 19)",
         "scene": "scene",
         "showlegend": true,
         "type": "scatter3d",
         "x": [
          8,
          8,
          8,
          8,
          8,
          8,
          8
         ],
         "y": [
          0.125,
          0.25,
          0.375,
          0.5,
          0.625,
          0.75,
          0.875
         ],
         "z": [
          0.0119674205780029,
          0.015970230102539,
          0.0150120258331298,
          0.0154962539672851,
          0.0205075740814209,
          0.0323798656463623,
          0.0252602100372314
         ]
        },
        {
         "hovertemplate": "color=rgb(4, 6, 19)<br>Numero de nós=%{x}<br>k/N ratio=%{y}<br>Result Time=%{z}<extra></extra>",
         "legendgroup": "rgb(4, 6, 19)",
         "marker": {
          "color": "rgb(160, 58, 99)",
          "symbol": "circle"
         },
         "mode": "markers",
         "name": "rgb(4, 6, 19)",
         "scene": "scene",
         "showlegend": true,
         "type": "scatter3d",
         "x": [
          16,
          16,
          16,
          16,
          16,
          16,
          16,
          16,
          16,
          16,
          16,
          16,
          16,
          16,
          16,
          32,
          32,
          32,
          32,
          32,
          32,
          32,
          32,
          32,
          32,
          32,
          32,
          32,
          32,
          32,
          32,
          32,
          32,
          32,
          32,
          32,
          32,
          32,
          32,
          32,
          32,
          32,
          32,
          32,
          32,
          32
         ],
         "y": [
          0.062,
          0.125,
          0.188,
          0.25,
          0.312,
          0.375,
          0.438,
          0.5,
          0.562,
          0.625,
          0.688,
          0.75,
          0.812,
          0.875,
          0.938,
          0.031,
          0.062,
          0.094,
          0.125,
          0.156,
          0.188,
          0.219,
          0.25,
          0.281,
          0.312,
          0.344,
          0.375,
          0.406,
          0.438,
          0.469,
          0.5,
          0.531,
          0.562,
          0.594,
          0.625,
          0.656,
          0.688,
          0.719,
          0.75,
          0.781,
          0.812,
          0.844,
          0.875,
          0.906,
          0.938,
          0.969
         ],
         "z": [
          0.0093772411346435,
          0.0123848915100097,
          0.0135228633880615,
          0.0134198665618896,
          0.0146276950836181,
          0.0156733989715576,
          0.0117220878601074,
          0.0125136375427246,
          0.0340743064880371,
          0.0319383144378662,
          0.052966833114624,
          0.0500416755676269,
          0.0540394783020019,
          0.0334205627441406,
          0.0413599014282226,
          0.0347805023193359,
          0.0417797565460205,
          0.0320470333099365,
          0.0139563083648681,
          0.0309920310974121,
          0.0200657844543457,
          0.0177168846130371,
          0.016495943069458,
          0.019197940826416,
          0.0122039318084716,
          0.0194759368896484,
          0.019014835357666,
          0.0159032344818115,
          0.0122840404510498,
          0.0152790546417236,
          0.0189244747161865,
          0.324021577835083,
          0.2478017807006836,
          0.2062611579895019,
          0.07102632522583,
          0.075404405593872,
          0.1938076019287109,
          0.133223295211792,
          0.0729293823242187,
          0.0808823108673095,
          0.0672690868377685,
          0.0853362083435058,
          0.080268383026123,
          0.2474524974822998,
          0.0884814262390136,
          0.0298547744750976
         ]
        },
        {
         "hovertemplate": "color=rgb(4, 6, 20)<br>Numero de nós=%{x}<br>k/N ratio=%{y}<br>Result Time=%{z}<extra></extra>",
         "legendgroup": "rgb(4, 6, 20)",
         "marker": {
          "color": "rgb(211, 95, 43)",
          "symbol": "circle"
         },
         "mode": "markers",
         "name": "rgb(4, 6, 20)",
         "scene": "scene",
         "showlegend": true,
         "type": "scatter3d",
         "x": [
          64,
          64,
          64,
          64,
          64,
          64,
          64,
          64,
          64,
          64,
          64,
          64,
          64,
          64,
          64,
          64,
          64,
          64,
          64,
          64,
          64,
          128,
          128,
          128,
          128,
          128,
          128,
          128,
          128,
          128,
          128,
          128,
          128,
          128,
          128,
          128,
          128,
          128,
          128,
          128,
          128,
          128
         ],
         "y": [
          0.047,
          0.094,
          0.141,
          0.188,
          0.234,
          0.281,
          0.328,
          0.375,
          0.422,
          0.469,
          0.516,
          0.562,
          0.609,
          0.656,
          0.703,
          0.75,
          0.797,
          0.844,
          0.891,
          0.938,
          0.984,
          0.047,
          0.094,
          0.141,
          0.188,
          0.234,
          0.281,
          0.328,
          0.375,
          0.422,
          0.469,
          0.516,
          0.562,
          0.609,
          0.656,
          0.703,
          0.75,
          0.797,
          0.844,
          0.891,
          0.938,
          0.984
         ],
         "z": [
          0.02602219581604,
          0.0225794315338134,
          0.0232501029968261,
          0.0210139751434326,
          0.0293786525726318,
          0.0199556350708007,
          0.022670030593872,
          0.0235416889190673,
          0.0238161087036132,
          0.0234220027923584,
          0.4801080226898193,
          0.4536957740783691,
          0.506669282913208,
          0.5062448978424072,
          0.5515115261077881,
          0.3234868049621582,
          0.3472914695739746,
          0.4941892623901367,
          0.3399660587310791,
          0.1460747718811035,
          0.0323615074157714,
          0.0735542774200439,
          0.0662283897399902,
          0.0687642097473144,
          0.0714714527130127,
          0.0729260444641113,
          0.0691139698028564,
          0.0708081722259521,
          0.0679190158843994,
          0.0704600811004638,
          0.0762145519256591,
          2.718406438827514,
          2.5084421634674072,
          2.5626206398010254,
          2.64286732673645,
          2.5872716903686523,
          2.1571877002716064,
          2.4411799907684326,
          2.3381030559539795,
          2.524247169494629,
          0.699554443359375,
          0.5894153118133545
         ]
        },
        {
         "hovertemplate": "color=rgb(5, 7, 21)<br>Numero de nós=%{x}<br>k/N ratio=%{y}<br>Result Time=%{z}<extra></extra>",
         "legendgroup": "rgb(5, 7, 21)",
         "marker": {
          "color": "rgb(230, 146, 6)",
          "symbol": "circle"
         },
         "mode": "markers",
         "name": "rgb(5, 7, 21)",
         "scene": "scene",
         "showlegend": true,
         "type": "scatter3d",
         "x": [
          256,
          256,
          256,
          256,
          256,
          256,
          256,
          256,
          256,
          256,
          256,
          256,
          256,
          256,
          256,
          256,
          256,
          256,
          256,
          256,
          256,
          512,
          512,
          512,
          512,
          512,
          512,
          512,
          512,
          512,
          512,
          512,
          512,
          512,
          512,
          512,
          512,
          512,
          512,
          512,
          512,
          1024,
          1024,
          1024,
          1024,
          1024,
          1024,
          1024,
          1024,
          1024,
          1024,
          1024,
          1024,
          1024,
          1024,
          1024,
          1024,
          1024,
          1024,
          1024,
          1024
         ],
         "y": [
          0.047,
          0.094,
          0.141,
          0.188,
          0.234,
          0.281,
          0.328,
          0.375,
          0.422,
          0.469,
          0.516,
          0.562,
          0.609,
          0.656,
          0.703,
          0.75,
          0.797,
          0.844,
          0.891,
          0.938,
          0.984,
          0.049,
          0.098,
          0.146,
          0.195,
          0.244,
          0.293,
          0.342,
          0.391,
          0.439,
          0.488,
          0.537,
          0.586,
          0.635,
          0.684,
          0.732,
          0.781,
          0.83,
          0.879,
          0.928,
          0.977,
          0.05,
          0.1,
          0.149,
          0.199,
          0.249,
          0.299,
          0.349,
          0.398,
          0.448,
          0.498,
          0.548,
          0.598,
          0.647,
          0.697,
          0.747,
          0.797,
          0.847,
          0.896,
          0.946,
          0.996
         ],
         "z": [
          0.3178081512451172,
          0.3151154518127441,
          0.3235714435577392,
          0.3149466514587402,
          0.33260178565979,
          0.3112075328826904,
          0.3183493614196777,
          0.4115920066833496,
          0.3359575271606445,
          0.3224928379058838,
          6.739547491073608,
          7.336467504501343,
          6.168259859085083,
          6.585230827331543,
          6.26737380027771,
          5.125148296356201,
          4.891164541244507,
          5.547242164611816,
          5.027224063873291,
          5.206713438034058,
          4.667433738708496,
          41.25222516059876,
          41.98230171203613,
          23.6915922164917,
          46.60402464866638,
          45.64556336402893,
          26.94561195373535,
          48.89659523963928,
          61.17144656181336,
          24.402636528015137,
          48.6750545501709,
          51.3654522895813,
          30.16750431060791,
          30.73392343521118,
          85.445476770401,
          76.10957860946655,
          78.59231781959534,
          73.21135234832764,
          78.510901927948,
          98.51389980316162,
          100.04751586914062,
          255.3093650341034,
          276.718686580658,
          689.6469984054565,
          277.259806394577,
          286.5188739299774,
          288.574499130249,
          1399.0932228565216,
          266.7890067100525,
          981.9297335147858,
          258.7916295528412,
          2677.1781435012817,
          1816.875047206879,
          1571.0638723373413,
          1764.3853471279144,
          1628.263221502304,
          1360.7400159835815,
          1651.0109798908234,
          1842.1082565784452,
          1792.6505944728851,
          1744.3200418949127
         ]
        }
       ],
       "layout": {
        "hovermode": "closest",
        "legend": {
         "borderwidth": 1,
         "title": {
          "font": {
           "size": 12
          },
          "text": "k/N Ratio"
         },
         "tracegroupgap": 0,
         "x": 1,
         "y": 1
        },
        "margin": {
         "b": 50,
         "l": 50,
         "r": 50,
         "t": 50
        },
        "scene": {
         "domain": {
          "x": [
           0,
           1
          ],
          "y": [
           0,
           1
          ]
         },
         "xaxis": {
          "range": [
           0,
           4.5
          ],
          "title": {
           "text": "Número de nós"
          },
          "type": "log"
         },
         "yaxis": {
          "title": {
           "text": "k/N ratio"
          },
          "type": "linear"
         },
         "zaxis": {
          "range": [
           -2.5,
           3.6
          ],
          "title": {
           "text": "Result Time"
          },
          "type": "log"
         }
        },
        "template": {
         "data": {
          "bar": [
           {
            "error_x": {
             "color": "#f2f5fa"
            },
            "error_y": {
             "color": "#f2f5fa"
            },
            "marker": {
             "line": {
              "color": "rgb(17,17,17)",
              "width": 0.5
             },
             "pattern": {
              "fillmode": "overlay",
              "size": 10,
              "solidity": 0.2
             }
            },
            "type": "bar"
           }
          ],
          "barpolar": [
           {
            "marker": {
             "line": {
              "color": "rgb(17,17,17)",
              "width": 0.5
             },
             "pattern": {
              "fillmode": "overlay",
              "size": 10,
              "solidity": 0.2
             }
            },
            "type": "barpolar"
           }
          ],
          "carpet": [
           {
            "aaxis": {
             "endlinecolor": "#A2B1C6",
             "gridcolor": "#506784",
             "linecolor": "#506784",
             "minorgridcolor": "#506784",
             "startlinecolor": "#A2B1C6"
            },
            "baxis": {
             "endlinecolor": "#A2B1C6",
             "gridcolor": "#506784",
             "linecolor": "#506784",
             "minorgridcolor": "#506784",
             "startlinecolor": "#A2B1C6"
            },
            "type": "carpet"
           }
          ],
          "choropleth": [
           {
            "colorbar": {
             "outlinewidth": 0,
             "ticks": ""
            },
            "type": "choropleth"
           }
          ],
          "contour": [
           {
            "colorbar": {
             "outlinewidth": 0,
             "ticks": ""
            },
            "colorscale": [
             [
              0,
              "#0d0887"
             ],
             [
              0.1111111111111111,
              "#46039f"
             ],
             [
              0.2222222222222222,
              "#7201a8"
             ],
             [
              0.3333333333333333,
              "#9c179e"
             ],
             [
              0.4444444444444444,
              "#bd3786"
             ],
             [
              0.5555555555555556,
              "#d8576b"
             ],
             [
              0.6666666666666666,
              "#ed7953"
             ],
             [
              0.7777777777777778,
              "#fb9f3a"
             ],
             [
              0.8888888888888888,
              "#fdca26"
             ],
             [
              1,
              "#f0f921"
             ]
            ],
            "type": "contour"
           }
          ],
          "contourcarpet": [
           {
            "colorbar": {
             "outlinewidth": 0,
             "ticks": ""
            },
            "type": "contourcarpet"
           }
          ],
          "heatmap": [
           {
            "colorbar": {
             "outlinewidth": 0,
             "ticks": ""
            },
            "colorscale": [
             [
              0,
              "#0d0887"
             ],
             [
              0.1111111111111111,
              "#46039f"
             ],
             [
              0.2222222222222222,
              "#7201a8"
             ],
             [
              0.3333333333333333,
              "#9c179e"
             ],
             [
              0.4444444444444444,
              "#bd3786"
             ],
             [
              0.5555555555555556,
              "#d8576b"
             ],
             [
              0.6666666666666666,
              "#ed7953"
             ],
             [
              0.7777777777777778,
              "#fb9f3a"
             ],
             [
              0.8888888888888888,
              "#fdca26"
             ],
             [
              1,
              "#f0f921"
             ]
            ],
            "type": "heatmap"
           }
          ],
          "heatmapgl": [
           {
            "colorbar": {
             "outlinewidth": 0,
             "ticks": ""
            },
            "colorscale": [
             [
              0,
              "#0d0887"
             ],
             [
              0.1111111111111111,
              "#46039f"
             ],
             [
              0.2222222222222222,
              "#7201a8"
             ],
             [
              0.3333333333333333,
              "#9c179e"
             ],
             [
              0.4444444444444444,
              "#bd3786"
             ],
             [
              0.5555555555555556,
              "#d8576b"
             ],
             [
              0.6666666666666666,
              "#ed7953"
             ],
             [
              0.7777777777777778,
              "#fb9f3a"
             ],
             [
              0.8888888888888888,
              "#fdca26"
             ],
             [
              1,
              "#f0f921"
             ]
            ],
            "type": "heatmapgl"
           }
          ],
          "histogram": [
           {
            "marker": {
             "pattern": {
              "fillmode": "overlay",
              "size": 10,
              "solidity": 0.2
             }
            },
            "type": "histogram"
           }
          ],
          "histogram2d": [
           {
            "colorbar": {
             "outlinewidth": 0,
             "ticks": ""
            },
            "colorscale": [
             [
              0,
              "#0d0887"
             ],
             [
              0.1111111111111111,
              "#46039f"
             ],
             [
              0.2222222222222222,
              "#7201a8"
             ],
             [
              0.3333333333333333,
              "#9c179e"
             ],
             [
              0.4444444444444444,
              "#bd3786"
             ],
             [
              0.5555555555555556,
              "#d8576b"
             ],
             [
              0.6666666666666666,
              "#ed7953"
             ],
             [
              0.7777777777777778,
              "#fb9f3a"
             ],
             [
              0.8888888888888888,
              "#fdca26"
             ],
             [
              1,
              "#f0f921"
             ]
            ],
            "type": "histogram2d"
           }
          ],
          "histogram2dcontour": [
           {
            "colorbar": {
             "outlinewidth": 0,
             "ticks": ""
            },
            "colorscale": [
             [
              0,
              "#0d0887"
             ],
             [
              0.1111111111111111,
              "#46039f"
             ],
             [
              0.2222222222222222,
              "#7201a8"
             ],
             [
              0.3333333333333333,
              "#9c179e"
             ],
             [
              0.4444444444444444,
              "#bd3786"
             ],
             [
              0.5555555555555556,
              "#d8576b"
             ],
             [
              0.6666666666666666,
              "#ed7953"
             ],
             [
              0.7777777777777778,
              "#fb9f3a"
             ],
             [
              0.8888888888888888,
              "#fdca26"
             ],
             [
              1,
              "#f0f921"
             ]
            ],
            "type": "histogram2dcontour"
           }
          ],
          "mesh3d": [
           {
            "colorbar": {
             "outlinewidth": 0,
             "ticks": ""
            },
            "type": "mesh3d"
           }
          ],
          "parcoords": [
           {
            "line": {
             "colorbar": {
              "outlinewidth": 0,
              "ticks": ""
             }
            },
            "type": "parcoords"
           }
          ],
          "pie": [
           {
            "automargin": true,
            "type": "pie"
           }
          ],
          "scatter": [
           {
            "marker": {
             "line": {
              "color": "#283442"
             }
            },
            "type": "scatter"
           }
          ],
          "scatter3d": [
           {
            "line": {
             "colorbar": {
              "outlinewidth": 0,
              "ticks": ""
             }
            },
            "marker": {
             "colorbar": {
              "outlinewidth": 0,
              "ticks": ""
             }
            },
            "type": "scatter3d"
           }
          ],
          "scattercarpet": [
           {
            "marker": {
             "colorbar": {
              "outlinewidth": 0,
              "ticks": ""
             }
            },
            "type": "scattercarpet"
           }
          ],
          "scattergeo": [
           {
            "marker": {
             "colorbar": {
              "outlinewidth": 0,
              "ticks": ""
             }
            },
            "type": "scattergeo"
           }
          ],
          "scattergl": [
           {
            "marker": {
             "line": {
              "color": "#283442"
             }
            },
            "type": "scattergl"
           }
          ],
          "scattermapbox": [
           {
            "marker": {
             "colorbar": {
              "outlinewidth": 0,
              "ticks": ""
             }
            },
            "type": "scattermapbox"
           }
          ],
          "scatterpolar": [
           {
            "marker": {
             "colorbar": {
              "outlinewidth": 0,
              "ticks": ""
             }
            },
            "type": "scatterpolar"
           }
          ],
          "scatterpolargl": [
           {
            "marker": {
             "colorbar": {
              "outlinewidth": 0,
              "ticks": ""
             }
            },
            "type": "scatterpolargl"
           }
          ],
          "scatterternary": [
           {
            "marker": {
             "colorbar": {
              "outlinewidth": 0,
              "ticks": ""
             }
            },
            "type": "scatterternary"
           }
          ],
          "surface": [
           {
            "colorbar": {
             "outlinewidth": 0,
             "ticks": ""
            },
            "colorscale": [
             [
              0,
              "#0d0887"
             ],
             [
              0.1111111111111111,
              "#46039f"
             ],
             [
              0.2222222222222222,
              "#7201a8"
             ],
             [
              0.3333333333333333,
              "#9c179e"
             ],
             [
              0.4444444444444444,
              "#bd3786"
             ],
             [
              0.5555555555555556,
              "#d8576b"
             ],
             [
              0.6666666666666666,
              "#ed7953"
             ],
             [
              0.7777777777777778,
              "#fb9f3a"
             ],
             [
              0.8888888888888888,
              "#fdca26"
             ],
             [
              1,
              "#f0f921"
             ]
            ],
            "type": "surface"
           }
          ],
          "table": [
           {
            "cells": {
             "fill": {
              "color": "#506784"
             },
             "line": {
              "color": "rgb(17,17,17)"
             }
            },
            "header": {
             "fill": {
              "color": "#2a3f5f"
             },
             "line": {
              "color": "rgb(17,17,17)"
             }
            },
            "type": "table"
           }
          ]
         },
         "layout": {
          "annotationdefaults": {
           "arrowcolor": "#f2f5fa",
           "arrowhead": 0,
           "arrowwidth": 1
          },
          "autotypenumbers": "strict",
          "coloraxis": {
           "colorbar": {
            "outlinewidth": 0,
            "ticks": ""
           }
          },
          "colorscale": {
           "diverging": [
            [
             0,
             "#8e0152"
            ],
            [
             0.1,
             "#c51b7d"
            ],
            [
             0.2,
             "#de77ae"
            ],
            [
             0.3,
             "#f1b6da"
            ],
            [
             0.4,
             "#fde0ef"
            ],
            [
             0.5,
             "#f7f7f7"
            ],
            [
             0.6,
             "#e6f5d0"
            ],
            [
             0.7,
             "#b8e186"
            ],
            [
             0.8,
             "#7fbc41"
            ],
            [
             0.9,
             "#4d9221"
            ],
            [
             1,
             "#276419"
            ]
           ],
           "sequential": [
            [
             0,
             "#0d0887"
            ],
            [
             0.1111111111111111,
             "#46039f"
            ],
            [
             0.2222222222222222,
             "#7201a8"
            ],
            [
             0.3333333333333333,
             "#9c179e"
            ],
            [
             0.4444444444444444,
             "#bd3786"
            ],
            [
             0.5555555555555556,
             "#d8576b"
            ],
            [
             0.6666666666666666,
             "#ed7953"
            ],
            [
             0.7777777777777778,
             "#fb9f3a"
            ],
            [
             0.8888888888888888,
             "#fdca26"
            ],
            [
             1,
             "#f0f921"
            ]
           ],
           "sequentialminus": [
            [
             0,
             "#0d0887"
            ],
            [
             0.1111111111111111,
             "#46039f"
            ],
            [
             0.2222222222222222,
             "#7201a8"
            ],
            [
             0.3333333333333333,
             "#9c179e"
            ],
            [
             0.4444444444444444,
             "#bd3786"
            ],
            [
             0.5555555555555556,
             "#d8576b"
            ],
            [
             0.6666666666666666,
             "#ed7953"
            ],
            [
             0.7777777777777778,
             "#fb9f3a"
            ],
            [
             0.8888888888888888,
             "#fdca26"
            ],
            [
             1,
             "#f0f921"
            ]
           ]
          },
          "colorway": [
           "#636efa",
           "#EF553B",
           "#00cc96",
           "#ab63fa",
           "#FFA15A",
           "#19d3f3",
           "#FF6692",
           "#B6E880",
           "#FF97FF",
           "#FECB52"
          ],
          "font": {
           "color": "#f2f5fa"
          },
          "geo": {
           "bgcolor": "rgb(17,17,17)",
           "lakecolor": "rgb(17,17,17)",
           "landcolor": "rgb(17,17,17)",
           "showlakes": true,
           "showland": true,
           "subunitcolor": "#506784"
          },
          "hoverlabel": {
           "align": "left"
          },
          "hovermode": "closest",
          "mapbox": {
           "style": "dark"
          },
          "paper_bgcolor": "rgb(17,17,17)",
          "plot_bgcolor": "rgb(17,17,17)",
          "polar": {
           "angularaxis": {
            "gridcolor": "#506784",
            "linecolor": "#506784",
            "ticks": ""
           },
           "bgcolor": "rgb(17,17,17)",
           "radialaxis": {
            "gridcolor": "#506784",
            "linecolor": "#506784",
            "ticks": ""
           }
          },
          "scene": {
           "xaxis": {
            "backgroundcolor": "rgb(17,17,17)",
            "gridcolor": "#506784",
            "gridwidth": 2,
            "linecolor": "#506784",
            "showbackground": true,
            "ticks": "",
            "zerolinecolor": "#C8D4E3"
           },
           "yaxis": {
            "backgroundcolor": "rgb(17,17,17)",
            "gridcolor": "#506784",
            "gridwidth": 2,
            "linecolor": "#506784",
            "showbackground": true,
            "ticks": "",
            "zerolinecolor": "#C8D4E3"
           },
           "zaxis": {
            "backgroundcolor": "rgb(17,17,17)",
            "gridcolor": "#506784",
            "gridwidth": 2,
            "linecolor": "#506784",
            "showbackground": true,
            "ticks": "",
            "zerolinecolor": "#C8D4E3"
           }
          },
          "shapedefaults": {
           "line": {
            "color": "#f2f5fa"
           }
          },
          "sliderdefaults": {
           "bgcolor": "#C8D4E3",
           "bordercolor": "rgb(17,17,17)",
           "borderwidth": 1,
           "tickwidth": 0
          },
          "ternary": {
           "aaxis": {
            "gridcolor": "#506784",
            "linecolor": "#506784",
            "ticks": ""
           },
           "baxis": {
            "gridcolor": "#506784",
            "linecolor": "#506784",
            "ticks": ""
           },
           "bgcolor": "rgb(17,17,17)",
           "caxis": {
            "gridcolor": "#506784",
            "linecolor": "#506784",
            "ticks": ""
           }
          },
          "title": {
           "x": 0.05
          },
          "updatemenudefaults": {
           "bgcolor": "#506784",
           "borderwidth": 0
          },
          "xaxis": {
           "automargin": true,
           "gridcolor": "#283442",
           "linecolor": "#506784",
           "ticks": "",
           "title": {
            "standoff": 15
           },
           "zerolinecolor": "#283442",
           "zerolinewidth": 2
          },
          "yaxis": {
           "automargin": true,
           "gridcolor": "#283442",
           "linecolor": "#506784",
           "ticks": "",
           "title": {
            "standoff": 15
           },
           "zerolinecolor": "#283442",
           "zerolinewidth": 2
          }
         }
        },
        "title": {
         "text": "bipartite graphs Max Happy Set - Result time vs K and N",
         "x": 0.5,
         "xanchor": "center"
        }
       }
      }
     },
     "metadata": {},
     "output_type": "display_data"
    },
    {
     "data": {
      "application/vnd.plotly.v1+json": {
       "config": {
        "plotlyServerURL": "https://plot.ly"
       },
       "data": [
        {
         "hovertemplate": "color=rgb(3, 5, 18)<br>Numero de nós=%{x}<br>k/N ratio=%{y}<br>Result Time=%{z}<extra></extra>",
         "legendgroup": "rgb(3, 5, 18)",
         "marker": {
          "color": "rgb(102, 102, 102)",
          "symbol": "circle"
         },
         "mode": "markers",
         "name": "rgb(3, 5, 18)",
         "scene": "scene",
         "showlegend": true,
         "type": "scatter3d",
         "x": [
          4,
          4,
          4
         ],
         "y": [
          0.25,
          0.5,
          0.75
         ],
         "z": [
          0.0207002162933349,
          0.0252714157104492,
          0.0292255878448486
         ]
        },
        {
         "hovertemplate": "color=rgb(3, 5, 19)<br>Numero de nós=%{x}<br>k/N ratio=%{y}<br>Result Time=%{z}<extra></extra>",
         "legendgroup": "rgb(3, 5, 19)",
         "marker": {
          "color": "rgb(115, 63, 112)",
          "symbol": "circle"
         },
         "mode": "markers",
         "name": "rgb(3, 5, 19)",
         "scene": "scene",
         "showlegend": true,
         "type": "scatter3d",
         "x": [
          8,
          8,
          8,
          8,
          8,
          8,
          8
         ],
         "y": [
          0.125,
          0.25,
          0.375,
          0.5,
          0.625,
          0.75,
          0.875
         ],
         "z": [
          0.0227541923522949,
          0.0264503955841064,
          0.0544331073760986,
          0.0929596424102783,
          0.0482964515686035,
          0.0554828643798828,
          0.0498104095458984
         ]
        },
        {
         "hovertemplate": "color=rgb(4, 6, 19)<br>Numero de nós=%{x}<br>k/N ratio=%{y}<br>Result Time=%{z}<extra></extra>",
         "legendgroup": "rgb(4, 6, 19)",
         "marker": {
          "color": "rgb(160, 58, 99)",
          "symbol": "circle"
         },
         "mode": "markers",
         "name": "rgb(4, 6, 19)",
         "scene": "scene",
         "showlegend": true,
         "type": "scatter3d",
         "x": [
          16,
          16,
          16,
          16,
          16,
          16,
          16,
          16,
          16,
          16,
          16,
          16,
          16,
          16,
          16,
          32,
          32,
          32,
          32,
          32,
          32,
          32,
          32,
          32,
          32,
          32,
          32,
          32,
          32,
          32,
          32,
          32,
          32,
          32,
          32,
          32,
          32,
          32,
          32,
          32,
          32,
          32,
          32,
          32,
          32,
          32
         ],
         "y": [
          0.062,
          0.125,
          0.188,
          0.25,
          0.312,
          0.375,
          0.438,
          0.5,
          0.562,
          0.625,
          0.688,
          0.75,
          0.812,
          0.875,
          0.938,
          0.031,
          0.062,
          0.094,
          0.125,
          0.156,
          0.188,
          0.219,
          0.25,
          0.281,
          0.312,
          0.344,
          0.375,
          0.406,
          0.438,
          0.469,
          0.5,
          0.531,
          0.562,
          0.594,
          0.625,
          0.656,
          0.688,
          0.719,
          0.75,
          0.781,
          0.812,
          0.844,
          0.875,
          0.906,
          0.938,
          0.969
         ],
         "z": [
          0.0212776660919189,
          0.0262243747711181,
          0.0449752807617187,
          0.0581464767456054,
          0.0507161617279052,
          0.0715363025665283,
          0.1032321453094482,
          0.1104795932769775,
          0.1734938621520996,
          0.0998580455780029,
          0.0703237056732177,
          0.0830609798431396,
          0.0530273914337158,
          0.0615224838256835,
          0.0478489398956298,
          0.0219383239746093,
          0.0287508964538574,
          0.0739920139312744,
          0.0833833217620849,
          0.1654255390167236,
          0.0614681243896484,
          0.1067488193511962,
          0.0663440227508544,
          0.0740649700164794,
          0.1270134449005127,
          0.0686349868774414,
          0.1166005134582519,
          0.1905989646911621,
          0.079667329788208,
          0.0889880657196044,
          0.0866072177886962,
          0.1465034484863281,
          0.1260063648223877,
          0.1950588226318359,
          0.0973773002624511,
          0.2303979396820068,
          0.1794459819793701,
          0.1842591762542724,
          0.1051070690155029,
          0.1525321006774902,
          0.0990834236145019,
          0.1560194492340088,
          0.055363655090332,
          0.1102960109710693,
          0.0743229389190673,
          0.0571937561035156
         ]
        },
        {
         "hovertemplate": "color=rgb(4, 6, 20)<br>Numero de nós=%{x}<br>k/N ratio=%{y}<br>Result Time=%{z}<extra></extra>",
         "legendgroup": "rgb(4, 6, 20)",
         "marker": {
          "color": "rgb(211, 95, 43)",
          "symbol": "circle"
         },
         "mode": "markers",
         "name": "rgb(4, 6, 20)",
         "scene": "scene",
         "showlegend": true,
         "type": "scatter3d",
         "x": [
          64,
          64,
          64,
          64,
          64,
          64,
          64,
          64,
          64,
          64,
          64,
          64,
          64,
          64,
          64,
          64,
          64,
          64,
          64,
          64,
          64,
          128,
          128,
          128,
          128,
          128,
          128,
          128,
          128,
          128,
          128,
          128,
          128,
          128,
          128,
          128,
          128,
          128,
          128,
          128,
          128,
          128
         ],
         "y": [
          0.047,
          0.094,
          0.141,
          0.188,
          0.234,
          0.281,
          0.328,
          0.375,
          0.422,
          0.469,
          0.516,
          0.562,
          0.609,
          0.656,
          0.703,
          0.75,
          0.797,
          0.844,
          0.891,
          0.938,
          0.984,
          0.047,
          0.094,
          0.141,
          0.188,
          0.234,
          0.281,
          0.328,
          0.375,
          0.422,
          0.469,
          0.516,
          0.562,
          0.609,
          0.656,
          0.703,
          0.75,
          0.797,
          0.844,
          0.891,
          0.938,
          0.984
         ],
         "z": [
          0.0728261470794677,
          0.1161632537841796,
          0.2929921150207519,
          0.1648321151733398,
          0.2331991195678711,
          0.2089834213256836,
          0.3071696758270263,
          0.1812787055969238,
          0.3646249771118164,
          0.575753927230835,
          0.4475855827331543,
          0.1491696834564209,
          0.5268211364746094,
          0.3317511081695556,
          0.2585225105285644,
          0.2012574672698974,
          0.2768518924713135,
          0.3030648231506347,
          0.267958402633667,
          0.1521079540252685,
          0.0726430416107177,
          0.2716457843780517,
          0.3758609294891357,
          0.7332358360290527,
          0.3932039737701416,
          0.5311610698699951,
          0.8808097839355469,
          1.512312412261963,
          1.3442604541778564,
          1.1786324977874756,
          1.003695011138916,
          1.89267897605896,
          1.5851237773895264,
          1.460569143295288,
          1.93042516708374,
          1.0883688926696775,
          1.7524986267089844,
          2.2263343334198,
          1.1638448238372805,
          0.8317375183105469,
          0.3076040744781494,
          0.1389257907867431
         ]
        },
        {
         "hovertemplate": "color=rgb(5, 7, 21)<br>Numero de nós=%{x}<br>k/N ratio=%{y}<br>Result Time=%{z}<extra></extra>",
         "legendgroup": "rgb(5, 7, 21)",
         "marker": {
          "color": "rgb(230, 146, 6)",
          "symbol": "circle"
         },
         "mode": "markers",
         "name": "rgb(5, 7, 21)",
         "scene": "scene",
         "showlegend": true,
         "type": "scatter3d",
         "x": [
          256,
          256,
          256,
          256,
          256,
          256,
          256,
          256,
          256,
          256,
          256,
          256,
          256,
          256,
          256,
          256,
          256,
          256,
          256,
          256,
          256,
          512,
          512,
          512,
          512,
          512
         ],
         "y": [
          0.047,
          0.094,
          0.141,
          0.188,
          0.234,
          0.281,
          0.328,
          0.375,
          0.422,
          0.469,
          0.516,
          0.562,
          0.609,
          0.656,
          0.703,
          0.75,
          0.797,
          0.844,
          0.891,
          0.938,
          0.984,
          0.049,
          0.098,
          0.146,
          0.195,
          0.244
         ],
         "z": [
          0.586618185043335,
          1.6657187938690186,
          2.707058906555176,
          11.34749698638916,
          33.415871381759644,
          55.56354784965515,
          92.3996753692627,
          161.99935698509216,
          122.65637183189392,
          168.75224590301514,
          187.60320353508,
          437.5920999050141,
          138.4300925731659,
          116.17384576797484,
          147.0241198539734,
          108.39002060890198,
          68.06760954856873,
          51.04061126708984,
          40.02915096282959,
          24.036319971084595,
          0.7437870502471924,
          61.45748925209045,
          84.85893487930298,
          505.3063781261444,
          1960.7814366817477,
          1049.771686077118
         ]
        }
       ],
       "layout": {
        "hovermode": "closest",
        "legend": {
         "borderwidth": 1,
         "title": {
          "font": {
           "size": 12
          },
          "text": "k/N Ratio"
         },
         "tracegroupgap": 0,
         "x": 1,
         "y": 1
        },
        "margin": {
         "b": 50,
         "l": 50,
         "r": 50,
         "t": 50
        },
        "scene": {
         "domain": {
          "x": [
           0,
           1
          ],
          "y": [
           0,
           1
          ]
         },
         "xaxis": {
          "range": [
           0,
           4.5
          ],
          "title": {
           "text": "Número de nós"
          },
          "type": "log"
         },
         "yaxis": {
          "title": {
           "text": "k/N ratio"
          },
          "type": "linear"
         },
         "zaxis": {
          "range": [
           -2.5,
           3.6
          ],
          "title": {
           "text": "Result Time"
          },
          "type": "log"
         }
        },
        "template": {
         "data": {
          "bar": [
           {
            "error_x": {
             "color": "#f2f5fa"
            },
            "error_y": {
             "color": "#f2f5fa"
            },
            "marker": {
             "line": {
              "color": "rgb(17,17,17)",
              "width": 0.5
             },
             "pattern": {
              "fillmode": "overlay",
              "size": 10,
              "solidity": 0.2
             }
            },
            "type": "bar"
           }
          ],
          "barpolar": [
           {
            "marker": {
             "line": {
              "color": "rgb(17,17,17)",
              "width": 0.5
             },
             "pattern": {
              "fillmode": "overlay",
              "size": 10,
              "solidity": 0.2
             }
            },
            "type": "barpolar"
           }
          ],
          "carpet": [
           {
            "aaxis": {
             "endlinecolor": "#A2B1C6",
             "gridcolor": "#506784",
             "linecolor": "#506784",
             "minorgridcolor": "#506784",
             "startlinecolor": "#A2B1C6"
            },
            "baxis": {
             "endlinecolor": "#A2B1C6",
             "gridcolor": "#506784",
             "linecolor": "#506784",
             "minorgridcolor": "#506784",
             "startlinecolor": "#A2B1C6"
            },
            "type": "carpet"
           }
          ],
          "choropleth": [
           {
            "colorbar": {
             "outlinewidth": 0,
             "ticks": ""
            },
            "type": "choropleth"
           }
          ],
          "contour": [
           {
            "colorbar": {
             "outlinewidth": 0,
             "ticks": ""
            },
            "colorscale": [
             [
              0,
              "#0d0887"
             ],
             [
              0.1111111111111111,
              "#46039f"
             ],
             [
              0.2222222222222222,
              "#7201a8"
             ],
             [
              0.3333333333333333,
              "#9c179e"
             ],
             [
              0.4444444444444444,
              "#bd3786"
             ],
             [
              0.5555555555555556,
              "#d8576b"
             ],
             [
              0.6666666666666666,
              "#ed7953"
             ],
             [
              0.7777777777777778,
              "#fb9f3a"
             ],
             [
              0.8888888888888888,
              "#fdca26"
             ],
             [
              1,
              "#f0f921"
             ]
            ],
            "type": "contour"
           }
          ],
          "contourcarpet": [
           {
            "colorbar": {
             "outlinewidth": 0,
             "ticks": ""
            },
            "type": "contourcarpet"
           }
          ],
          "heatmap": [
           {
            "colorbar": {
             "outlinewidth": 0,
             "ticks": ""
            },
            "colorscale": [
             [
              0,
              "#0d0887"
             ],
             [
              0.1111111111111111,
              "#46039f"
             ],
             [
              0.2222222222222222,
              "#7201a8"
             ],
             [
              0.3333333333333333,
              "#9c179e"
             ],
             [
              0.4444444444444444,
              "#bd3786"
             ],
             [
              0.5555555555555556,
              "#d8576b"
             ],
             [
              0.6666666666666666,
              "#ed7953"
             ],
             [
              0.7777777777777778,
              "#fb9f3a"
             ],
             [
              0.8888888888888888,
              "#fdca26"
             ],
             [
              1,
              "#f0f921"
             ]
            ],
            "type": "heatmap"
           }
          ],
          "heatmapgl": [
           {
            "colorbar": {
             "outlinewidth": 0,
             "ticks": ""
            },
            "colorscale": [
             [
              0,
              "#0d0887"
             ],
             [
              0.1111111111111111,
              "#46039f"
             ],
             [
              0.2222222222222222,
              "#7201a8"
             ],
             [
              0.3333333333333333,
              "#9c179e"
             ],
             [
              0.4444444444444444,
              "#bd3786"
             ],
             [
              0.5555555555555556,
              "#d8576b"
             ],
             [
              0.6666666666666666,
              "#ed7953"
             ],
             [
              0.7777777777777778,
              "#fb9f3a"
             ],
             [
              0.8888888888888888,
              "#fdca26"
             ],
             [
              1,
              "#f0f921"
             ]
            ],
            "type": "heatmapgl"
           }
          ],
          "histogram": [
           {
            "marker": {
             "pattern": {
              "fillmode": "overlay",
              "size": 10,
              "solidity": 0.2
             }
            },
            "type": "histogram"
           }
          ],
          "histogram2d": [
           {
            "colorbar": {
             "outlinewidth": 0,
             "ticks": ""
            },
            "colorscale": [
             [
              0,
              "#0d0887"
             ],
             [
              0.1111111111111111,
              "#46039f"
             ],
             [
              0.2222222222222222,
              "#7201a8"
             ],
             [
              0.3333333333333333,
              "#9c179e"
             ],
             [
              0.4444444444444444,
              "#bd3786"
             ],
             [
              0.5555555555555556,
              "#d8576b"
             ],
             [
              0.6666666666666666,
              "#ed7953"
             ],
             [
              0.7777777777777778,
              "#fb9f3a"
             ],
             [
              0.8888888888888888,
              "#fdca26"
             ],
             [
              1,
              "#f0f921"
             ]
            ],
            "type": "histogram2d"
           }
          ],
          "histogram2dcontour": [
           {
            "colorbar": {
             "outlinewidth": 0,
             "ticks": ""
            },
            "colorscale": [
             [
              0,
              "#0d0887"
             ],
             [
              0.1111111111111111,
              "#46039f"
             ],
             [
              0.2222222222222222,
              "#7201a8"
             ],
             [
              0.3333333333333333,
              "#9c179e"
             ],
             [
              0.4444444444444444,
              "#bd3786"
             ],
             [
              0.5555555555555556,
              "#d8576b"
             ],
             [
              0.6666666666666666,
              "#ed7953"
             ],
             [
              0.7777777777777778,
              "#fb9f3a"
             ],
             [
              0.8888888888888888,
              "#fdca26"
             ],
             [
              1,
              "#f0f921"
             ]
            ],
            "type": "histogram2dcontour"
           }
          ],
          "mesh3d": [
           {
            "colorbar": {
             "outlinewidth": 0,
             "ticks": ""
            },
            "type": "mesh3d"
           }
          ],
          "parcoords": [
           {
            "line": {
             "colorbar": {
              "outlinewidth": 0,
              "ticks": ""
             }
            },
            "type": "parcoords"
           }
          ],
          "pie": [
           {
            "automargin": true,
            "type": "pie"
           }
          ],
          "scatter": [
           {
            "marker": {
             "line": {
              "color": "#283442"
             }
            },
            "type": "scatter"
           }
          ],
          "scatter3d": [
           {
            "line": {
             "colorbar": {
              "outlinewidth": 0,
              "ticks": ""
             }
            },
            "marker": {
             "colorbar": {
              "outlinewidth": 0,
              "ticks": ""
             }
            },
            "type": "scatter3d"
           }
          ],
          "scattercarpet": [
           {
            "marker": {
             "colorbar": {
              "outlinewidth": 0,
              "ticks": ""
             }
            },
            "type": "scattercarpet"
           }
          ],
          "scattergeo": [
           {
            "marker": {
             "colorbar": {
              "outlinewidth": 0,
              "ticks": ""
             }
            },
            "type": "scattergeo"
           }
          ],
          "scattergl": [
           {
            "marker": {
             "line": {
              "color": "#283442"
             }
            },
            "type": "scattergl"
           }
          ],
          "scattermapbox": [
           {
            "marker": {
             "colorbar": {
              "outlinewidth": 0,
              "ticks": ""
             }
            },
            "type": "scattermapbox"
           }
          ],
          "scatterpolar": [
           {
            "marker": {
             "colorbar": {
              "outlinewidth": 0,
              "ticks": ""
             }
            },
            "type": "scatterpolar"
           }
          ],
          "scatterpolargl": [
           {
            "marker": {
             "colorbar": {
              "outlinewidth": 0,
              "ticks": ""
             }
            },
            "type": "scatterpolargl"
           }
          ],
          "scatterternary": [
           {
            "marker": {
             "colorbar": {
              "outlinewidth": 0,
              "ticks": ""
             }
            },
            "type": "scatterternary"
           }
          ],
          "surface": [
           {
            "colorbar": {
             "outlinewidth": 0,
             "ticks": ""
            },
            "colorscale": [
             [
              0,
              "#0d0887"
             ],
             [
              0.1111111111111111,
              "#46039f"
             ],
             [
              0.2222222222222222,
              "#7201a8"
             ],
             [
              0.3333333333333333,
              "#9c179e"
             ],
             [
              0.4444444444444444,
              "#bd3786"
             ],
             [
              0.5555555555555556,
              "#d8576b"
             ],
             [
              0.6666666666666666,
              "#ed7953"
             ],
             [
              0.7777777777777778,
              "#fb9f3a"
             ],
             [
              0.8888888888888888,
              "#fdca26"
             ],
             [
              1,
              "#f0f921"
             ]
            ],
            "type": "surface"
           }
          ],
          "table": [
           {
            "cells": {
             "fill": {
              "color": "#506784"
             },
             "line": {
              "color": "rgb(17,17,17)"
             }
            },
            "header": {
             "fill": {
              "color": "#2a3f5f"
             },
             "line": {
              "color": "rgb(17,17,17)"
             }
            },
            "type": "table"
           }
          ]
         },
         "layout": {
          "annotationdefaults": {
           "arrowcolor": "#f2f5fa",
           "arrowhead": 0,
           "arrowwidth": 1
          },
          "autotypenumbers": "strict",
          "coloraxis": {
           "colorbar": {
            "outlinewidth": 0,
            "ticks": ""
           }
          },
          "colorscale": {
           "diverging": [
            [
             0,
             "#8e0152"
            ],
            [
             0.1,
             "#c51b7d"
            ],
            [
             0.2,
             "#de77ae"
            ],
            [
             0.3,
             "#f1b6da"
            ],
            [
             0.4,
             "#fde0ef"
            ],
            [
             0.5,
             "#f7f7f7"
            ],
            [
             0.6,
             "#e6f5d0"
            ],
            [
             0.7,
             "#b8e186"
            ],
            [
             0.8,
             "#7fbc41"
            ],
            [
             0.9,
             "#4d9221"
            ],
            [
             1,
             "#276419"
            ]
           ],
           "sequential": [
            [
             0,
             "#0d0887"
            ],
            [
             0.1111111111111111,
             "#46039f"
            ],
            [
             0.2222222222222222,
             "#7201a8"
            ],
            [
             0.3333333333333333,
             "#9c179e"
            ],
            [
             0.4444444444444444,
             "#bd3786"
            ],
            [
             0.5555555555555556,
             "#d8576b"
            ],
            [
             0.6666666666666666,
             "#ed7953"
            ],
            [
             0.7777777777777778,
             "#fb9f3a"
            ],
            [
             0.8888888888888888,
             "#fdca26"
            ],
            [
             1,
             "#f0f921"
            ]
           ],
           "sequentialminus": [
            [
             0,
             "#0d0887"
            ],
            [
             0.1111111111111111,
             "#46039f"
            ],
            [
             0.2222222222222222,
             "#7201a8"
            ],
            [
             0.3333333333333333,
             "#9c179e"
            ],
            [
             0.4444444444444444,
             "#bd3786"
            ],
            [
             0.5555555555555556,
             "#d8576b"
            ],
            [
             0.6666666666666666,
             "#ed7953"
            ],
            [
             0.7777777777777778,
             "#fb9f3a"
            ],
            [
             0.8888888888888888,
             "#fdca26"
            ],
            [
             1,
             "#f0f921"
            ]
           ]
          },
          "colorway": [
           "#636efa",
           "#EF553B",
           "#00cc96",
           "#ab63fa",
           "#FFA15A",
           "#19d3f3",
           "#FF6692",
           "#B6E880",
           "#FF97FF",
           "#FECB52"
          ],
          "font": {
           "color": "#f2f5fa"
          },
          "geo": {
           "bgcolor": "rgb(17,17,17)",
           "lakecolor": "rgb(17,17,17)",
           "landcolor": "rgb(17,17,17)",
           "showlakes": true,
           "showland": true,
           "subunitcolor": "#506784"
          },
          "hoverlabel": {
           "align": "left"
          },
          "hovermode": "closest",
          "mapbox": {
           "style": "dark"
          },
          "paper_bgcolor": "rgb(17,17,17)",
          "plot_bgcolor": "rgb(17,17,17)",
          "polar": {
           "angularaxis": {
            "gridcolor": "#506784",
            "linecolor": "#506784",
            "ticks": ""
           },
           "bgcolor": "rgb(17,17,17)",
           "radialaxis": {
            "gridcolor": "#506784",
            "linecolor": "#506784",
            "ticks": ""
           }
          },
          "scene": {
           "xaxis": {
            "backgroundcolor": "rgb(17,17,17)",
            "gridcolor": "#506784",
            "gridwidth": 2,
            "linecolor": "#506784",
            "showbackground": true,
            "ticks": "",
            "zerolinecolor": "#C8D4E3"
           },
           "yaxis": {
            "backgroundcolor": "rgb(17,17,17)",
            "gridcolor": "#506784",
            "gridwidth": 2,
            "linecolor": "#506784",
            "showbackground": true,
            "ticks": "",
            "zerolinecolor": "#C8D4E3"
           },
           "zaxis": {
            "backgroundcolor": "rgb(17,17,17)",
            "gridcolor": "#506784",
            "gridwidth": 2,
            "linecolor": "#506784",
            "showbackground": true,
            "ticks": "",
            "zerolinecolor": "#C8D4E3"
           }
          },
          "shapedefaults": {
           "line": {
            "color": "#f2f5fa"
           }
          },
          "sliderdefaults": {
           "bgcolor": "#C8D4E3",
           "bordercolor": "rgb(17,17,17)",
           "borderwidth": 1,
           "tickwidth": 0
          },
          "ternary": {
           "aaxis": {
            "gridcolor": "#506784",
            "linecolor": "#506784",
            "ticks": ""
           },
           "baxis": {
            "gridcolor": "#506784",
            "linecolor": "#506784",
            "ticks": ""
           },
           "bgcolor": "rgb(17,17,17)",
           "caxis": {
            "gridcolor": "#506784",
            "linecolor": "#506784",
            "ticks": ""
           }
          },
          "title": {
           "x": 0.05
          },
          "updatemenudefaults": {
           "bgcolor": "#506784",
           "borderwidth": 0
          },
          "xaxis": {
           "automargin": true,
           "gridcolor": "#283442",
           "linecolor": "#506784",
           "ticks": "",
           "title": {
            "standoff": 15
           },
           "zerolinecolor": "#283442",
           "zerolinewidth": 2
          },
          "yaxis": {
           "automargin": true,
           "gridcolor": "#283442",
           "linecolor": "#506784",
           "ticks": "",
           "title": {
            "standoff": 15
           },
           "zerolinecolor": "#283442",
           "zerolinewidth": 2
          }
         }
        },
        "title": {
         "text": "BA graphs Max Happy Set - Result time vs K and N",
         "x": 0.5,
         "xanchor": "center"
        }
       }
      }
     },
     "metadata": {},
     "output_type": "display_data"
    },
    {
     "data": {
      "application/vnd.plotly.v1+json": {
       "config": {
        "plotlyServerURL": "https://plot.ly"
       },
       "data": [
        {
         "hovertemplate": "color=rgb(3, 5, 18)<br>Numero de nós=%{x}<br>k/N ratio=%{y}<br>Result Time=%{z}<extra></extra>",
         "legendgroup": "rgb(3, 5, 18)",
         "marker": {
          "color": "rgb(102, 102, 102)",
          "symbol": "circle"
         },
         "mode": "markers",
         "name": "rgb(3, 5, 18)",
         "scene": "scene",
         "showlegend": true,
         "type": "scatter3d",
         "x": [
          4,
          4,
          4
         ],
         "y": [
          0.25,
          0.5,
          0.75
         ],
         "z": [
          0.0148398876190185,
          0.0311536788940429,
          0.041407823562622
         ]
        },
        {
         "hovertemplate": "color=rgb(3, 5, 19)<br>Numero de nós=%{x}<br>k/N ratio=%{y}<br>Result Time=%{z}<extra></extra>",
         "legendgroup": "rgb(3, 5, 19)",
         "marker": {
          "color": "rgb(115, 63, 112)",
          "symbol": "circle"
         },
         "mode": "markers",
         "name": "rgb(3, 5, 19)",
         "scene": "scene",
         "showlegend": true,
         "type": "scatter3d",
         "x": [
          8,
          8,
          8,
          8,
          8,
          8,
          8
         ],
         "y": [
          0.125,
          0.25,
          0.375,
          0.5,
          0.625,
          0.75,
          0.875
         ],
         "z": [
          0.0117006301879882,
          0.0138092041015625,
          0.0236787796020507,
          0.0344302654266357,
          0.0333280563354492,
          0.0323247909545898,
          0.0271732807159423
         ]
        },
        {
         "hovertemplate": "color=rgb(4, 6, 19)<br>Numero de nós=%{x}<br>k/N ratio=%{y}<br>Result Time=%{z}<extra></extra>",
         "legendgroup": "rgb(4, 6, 19)",
         "marker": {
          "color": "rgb(160, 58, 99)",
          "symbol": "circle"
         },
         "mode": "markers",
         "name": "rgb(4, 6, 19)",
         "scene": "scene",
         "showlegend": true,
         "type": "scatter3d",
         "x": [
          16,
          16,
          16,
          16,
          16,
          16,
          16,
          16,
          16,
          16,
          16,
          16,
          16,
          16,
          16,
          32,
          32,
          32,
          32,
          32,
          32,
          32,
          32,
          32,
          32,
          32,
          32,
          32,
          32,
          32,
          32,
          32,
          32,
          32,
          32,
          32,
          32,
          32,
          32,
          32,
          32,
          32,
          32,
          32,
          32,
          32
         ],
         "y": [
          0.062,
          0.125,
          0.188,
          0.25,
          0.312,
          0.375,
          0.438,
          0.5,
          0.562,
          0.625,
          0.688,
          0.75,
          0.812,
          0.875,
          0.938,
          0.031,
          0.062,
          0.094,
          0.125,
          0.156,
          0.188,
          0.219,
          0.25,
          0.281,
          0.312,
          0.344,
          0.375,
          0.406,
          0.438,
          0.469,
          0.5,
          0.531,
          0.562,
          0.594,
          0.625,
          0.656,
          0.688,
          0.719,
          0.75,
          0.781,
          0.812,
          0.844,
          0.875,
          0.906,
          0.938,
          0.969
         ],
         "z": [
          0.0477669239044189,
          0.0194170475006103,
          0.0594913959503173,
          0.0381491184234619,
          0.0817804336547851,
          0.0759961605072021,
          0.0631618499755859,
          0.0407736301422119,
          0.0624094009399414,
          0.0405805110931396,
          0.0622217655181884,
          0.0399794578552246,
          0.0322785377502441,
          0.0536634922027587,
          0.0491540431976318,
          0.0226657390594482,
          0.0289053916931152,
          0.0683150291442871,
          0.0802791118621826,
          0.0610551834106445,
          0.0504224300384521,
          0.0576374530792236,
          0.0467085838317871,
          0.0575010776519775,
          0.0543618202209472,
          0.0451171398162841,
          0.0469474792480468,
          0.0560121536254882,
          0.0460236072540283,
          0.053781509399414,
          0.0361192226409912,
          0.0403480529785156,
          0.0431809425354003,
          0.0510809421539306,
          0.0823104381561279,
          0.0720462799072265,
          0.0537507534027099,
          0.0533943176269531,
          0.0312199592590332,
          0.0401606559753418,
          0.0403387546539306,
          0.0406222343444824,
          0.0438845157623291,
          0.0397670269012451,
          0.0507004261016845,
          0.0400445461273193
         ]
        },
        {
         "hovertemplate": "color=rgb(4, 6, 20)<br>Numero de nós=%{x}<br>k/N ratio=%{y}<br>Result Time=%{z}<extra></extra>",
         "legendgroup": "rgb(4, 6, 20)",
         "marker": {
          "color": "rgb(211, 95, 43)",
          "symbol": "circle"
         },
         "mode": "markers",
         "name": "rgb(4, 6, 20)",
         "scene": "scene",
         "showlegend": true,
         "type": "scatter3d",
         "x": [
          64,
          64,
          64,
          64,
          64,
          64,
          64,
          64,
          64,
          64,
          64,
          64,
          64,
          64,
          64,
          64,
          64,
          64,
          64,
          64,
          64,
          128,
          128,
          128,
          128,
          128,
          128,
          128,
          128,
          128,
          128,
          128,
          128,
          128,
          128,
          128,
          128,
          128,
          128,
          128,
          128,
          128
         ],
         "y": [
          0.047,
          0.094,
          0.141,
          0.188,
          0.234,
          0.281,
          0.328,
          0.375,
          0.422,
          0.469,
          0.516,
          0.562,
          0.609,
          0.656,
          0.703,
          0.75,
          0.797,
          0.844,
          0.891,
          0.938,
          0.984,
          0.047,
          0.094,
          0.141,
          0.188,
          0.234,
          0.281,
          0.328,
          0.375,
          0.422,
          0.469,
          0.516,
          0.562,
          0.609,
          0.656,
          0.703,
          0.75,
          0.797,
          0.844,
          0.891,
          0.938,
          0.984
         ],
         "z": [
          0.06217622756958,
          0.0638899803161621,
          0.0612664222717285,
          0.0643973350524902,
          0.0658960342407226,
          0.0598466396331787,
          0.0700814723968505,
          0.0761563777923584,
          0.0601589679718017,
          0.0556857585906982,
          0.0596809387207031,
          0.0526955127716064,
          0.0734498500823974,
          0.0723326206207275,
          0.0532636642456054,
          0.0566956996917724,
          0.0584874153137207,
          0.0588898658752441,
          0.0532183647155761,
          0.0523662567138671,
          0.0452172756195068,
          0.1274502277374267,
          0.0928401947021484,
          0.0976934432983398,
          0.092874526977539,
          0.136063814163208,
          0.1178767681121826,
          0.1066739559173584,
          0.0889904499053955,
          0.1008772850036621,
          0.1066694259643554,
          0.0951640605926513,
          0.1000745296478271,
          0.1256728172302246,
          0.0930187702178955,
          0.0888993740081787,
          0.2045056819915771,
          0.120530366897583,
          0.1065919399261474,
          0.1142685413360595,
          0.1108651161193847,
          0.0941166877746582
         ]
        },
        {
         "hovertemplate": "color=rgb(5, 7, 21)<br>Numero de nós=%{x}<br>k/N ratio=%{y}<br>Result Time=%{z}<extra></extra>",
         "legendgroup": "rgb(5, 7, 21)",
         "marker": {
          "color": "rgb(230, 146, 6)",
          "symbol": "circle"
         },
         "mode": "markers",
         "name": "rgb(5, 7, 21)",
         "scene": "scene",
         "showlegend": true,
         "type": "scatter3d",
         "x": [
          256,
          256,
          256,
          256,
          256,
          256,
          256,
          256,
          256,
          256,
          256,
          256,
          256,
          256,
          256,
          256,
          256,
          256,
          256,
          256,
          256,
          512,
          512,
          512,
          512,
          512,
          512,
          512,
          512,
          512,
          512,
          512,
          512,
          512,
          512,
          512,
          512,
          512,
          512,
          512,
          512,
          1024,
          1024,
          1024,
          1024,
          1024,
          1024,
          1024,
          1024,
          1024,
          1024,
          1024,
          1024,
          1024,
          1024,
          1024,
          1024,
          1024,
          1024,
          1024,
          1024
         ],
         "y": [
          0.047,
          0.094,
          0.141,
          0.188,
          0.234,
          0.281,
          0.328,
          0.375,
          0.422,
          0.469,
          0.516,
          0.562,
          0.609,
          0.656,
          0.703,
          0.75,
          0.797,
          0.844,
          0.891,
          0.938,
          0.984,
          0.049,
          0.098,
          0.146,
          0.195,
          0.244,
          0.293,
          0.342,
          0.391,
          0.439,
          0.488,
          0.537,
          0.586,
          0.635,
          0.684,
          0.732,
          0.781,
          0.83,
          0.879,
          0.928,
          0.977,
          0.05,
          0.1,
          0.149,
          0.199,
          0.249,
          0.299,
          0.349,
          0.398,
          0.448,
          0.498,
          0.548,
          0.598,
          0.647,
          0.697,
          0.747,
          0.797,
          0.847,
          0.896,
          0.946,
          0.996
         ],
         "z": [
          0.2588558197021484,
          0.298370361328125,
          0.308978796005249,
          0.263697862625122,
          0.3719542026519775,
          0.2754459381103515,
          0.290703535079956,
          0.2988829612731933,
          0.297330379486084,
          0.2645199298858642,
          0.4225289821624756,
          0.3362383842468261,
          0.2626540660858154,
          0.2525107860565185,
          0.2662904262542724,
          0.2666995525360107,
          0.2692294120788574,
          0.2645409107208252,
          0.2447361946105957,
          0.256387710571289,
          0.3638291358947754,
          7.890265226364136,
          7.751024007797241,
          8.366673469543457,
          9.176089525222778,
          8.513476848602295,
          8.692968845367432,
          10.335232019424438,
          8.753413438796997,
          8.4010591506958,
          7.406193733215332,
          2.941166877746582,
          2.9660134315490723,
          2.854383945465088,
          3.2119686603546143,
          2.7297122478485107,
          3.1516189575195312,
          3.4350807666778564,
          2.9867310523986816,
          3.3457343578338623,
          2.8163888454437256,
          56.63236808776856,
          65.4463562965393,
          72.92703628540039,
          62.358120918273926,
          88.93939924240112,
          76.49503540992737,
          73.08146262168884,
          74.87362265586853,
          84.78718042373657,
          84.21076846122742,
          48.00541567802429,
          49.82867455482483,
          41.98076343536377,
          50.09220314025879,
          43.79040503501892,
          49.95380663871765,
          48.19186687469482,
          43.23733425140381,
          44.27640628814697,
          46.358964681625366
         ]
        },
        {
         "hovertemplate": "color=rgb(5, 7, 22)<br>Numero de nós=%{x}<br>k/N ratio=%{y}<br>Result Time=%{z}<extra></extra>",
         "legendgroup": "rgb(5, 7, 22)",
         "marker": {
          "color": "rgb(169, 174, 44)",
          "symbol": "circle"
         },
         "mode": "markers",
         "name": "rgb(5, 7, 22)",
         "scene": "scene",
         "showlegend": true,
         "type": "scatter3d",
         "x": [
          2048,
          2048,
          2048,
          2048,
          2048,
          2048,
          2048,
          2048,
          2048,
          2048,
          2048,
          2048,
          2048,
          2048,
          2048
         ],
         "y": [
          0.05,
          0.1,
          0.149,
          0.199,
          0.249,
          0.299,
          0.349,
          0.398,
          0.448,
          0.498,
          0.548,
          0.598,
          0.647,
          0.697,
          0.747
         ],
         "z": [
          612.6575074195862,
          671.6328585147858,
          736.9894075393677,
          698.543785572052,
          701.2389740943909,
          581.2646169662476,
          608.2348508834839,
          612.0476565361023,
          569.5587377548218,
          592.2895288467407,
          472.49415826797485,
          481.3622033596039,
          539.1715431213379,
          514.229914188385,
          497.2411613464356
         ]
        }
       ],
       "layout": {
        "hovermode": "closest",
        "legend": {
         "borderwidth": 1,
         "title": {
          "font": {
           "size": 12
          },
          "text": "k/N Ratio"
         },
         "tracegroupgap": 0,
         "x": 1,
         "y": 1
        },
        "margin": {
         "b": 50,
         "l": 50,
         "r": 50,
         "t": 50
        },
        "scene": {
         "domain": {
          "x": [
           0,
           1
          ],
          "y": [
           0,
           1
          ]
         },
         "xaxis": {
          "range": [
           0,
           4.5
          ],
          "title": {
           "text": "Número de nós"
          },
          "type": "log"
         },
         "yaxis": {
          "title": {
           "text": "k/N ratio"
          },
          "type": "linear"
         },
         "zaxis": {
          "range": [
           -2.5,
           3.6
          ],
          "title": {
           "text": "Result Time"
          },
          "type": "log"
         }
        },
        "template": {
         "data": {
          "bar": [
           {
            "error_x": {
             "color": "#f2f5fa"
            },
            "error_y": {
             "color": "#f2f5fa"
            },
            "marker": {
             "line": {
              "color": "rgb(17,17,17)",
              "width": 0.5
             },
             "pattern": {
              "fillmode": "overlay",
              "size": 10,
              "solidity": 0.2
             }
            },
            "type": "bar"
           }
          ],
          "barpolar": [
           {
            "marker": {
             "line": {
              "color": "rgb(17,17,17)",
              "width": 0.5
             },
             "pattern": {
              "fillmode": "overlay",
              "size": 10,
              "solidity": 0.2
             }
            },
            "type": "barpolar"
           }
          ],
          "carpet": [
           {
            "aaxis": {
             "endlinecolor": "#A2B1C6",
             "gridcolor": "#506784",
             "linecolor": "#506784",
             "minorgridcolor": "#506784",
             "startlinecolor": "#A2B1C6"
            },
            "baxis": {
             "endlinecolor": "#A2B1C6",
             "gridcolor": "#506784",
             "linecolor": "#506784",
             "minorgridcolor": "#506784",
             "startlinecolor": "#A2B1C6"
            },
            "type": "carpet"
           }
          ],
          "choropleth": [
           {
            "colorbar": {
             "outlinewidth": 0,
             "ticks": ""
            },
            "type": "choropleth"
           }
          ],
          "contour": [
           {
            "colorbar": {
             "outlinewidth": 0,
             "ticks": ""
            },
            "colorscale": [
             [
              0,
              "#0d0887"
             ],
             [
              0.1111111111111111,
              "#46039f"
             ],
             [
              0.2222222222222222,
              "#7201a8"
             ],
             [
              0.3333333333333333,
              "#9c179e"
             ],
             [
              0.4444444444444444,
              "#bd3786"
             ],
             [
              0.5555555555555556,
              "#d8576b"
             ],
             [
              0.6666666666666666,
              "#ed7953"
             ],
             [
              0.7777777777777778,
              "#fb9f3a"
             ],
             [
              0.8888888888888888,
              "#fdca26"
             ],
             [
              1,
              "#f0f921"
             ]
            ],
            "type": "contour"
           }
          ],
          "contourcarpet": [
           {
            "colorbar": {
             "outlinewidth": 0,
             "ticks": ""
            },
            "type": "contourcarpet"
           }
          ],
          "heatmap": [
           {
            "colorbar": {
             "outlinewidth": 0,
             "ticks": ""
            },
            "colorscale": [
             [
              0,
              "#0d0887"
             ],
             [
              0.1111111111111111,
              "#46039f"
             ],
             [
              0.2222222222222222,
              "#7201a8"
             ],
             [
              0.3333333333333333,
              "#9c179e"
             ],
             [
              0.4444444444444444,
              "#bd3786"
             ],
             [
              0.5555555555555556,
              "#d8576b"
             ],
             [
              0.6666666666666666,
              "#ed7953"
             ],
             [
              0.7777777777777778,
              "#fb9f3a"
             ],
             [
              0.8888888888888888,
              "#fdca26"
             ],
             [
              1,
              "#f0f921"
             ]
            ],
            "type": "heatmap"
           }
          ],
          "heatmapgl": [
           {
            "colorbar": {
             "outlinewidth": 0,
             "ticks": ""
            },
            "colorscale": [
             [
              0,
              "#0d0887"
             ],
             [
              0.1111111111111111,
              "#46039f"
             ],
             [
              0.2222222222222222,
              "#7201a8"
             ],
             [
              0.3333333333333333,
              "#9c179e"
             ],
             [
              0.4444444444444444,
              "#bd3786"
             ],
             [
              0.5555555555555556,
              "#d8576b"
             ],
             [
              0.6666666666666666,
              "#ed7953"
             ],
             [
              0.7777777777777778,
              "#fb9f3a"
             ],
             [
              0.8888888888888888,
              "#fdca26"
             ],
             [
              1,
              "#f0f921"
             ]
            ],
            "type": "heatmapgl"
           }
          ],
          "histogram": [
           {
            "marker": {
             "pattern": {
              "fillmode": "overlay",
              "size": 10,
              "solidity": 0.2
             }
            },
            "type": "histogram"
           }
          ],
          "histogram2d": [
           {
            "colorbar": {
             "outlinewidth": 0,
             "ticks": ""
            },
            "colorscale": [
             [
              0,
              "#0d0887"
             ],
             [
              0.1111111111111111,
              "#46039f"
             ],
             [
              0.2222222222222222,
              "#7201a8"
             ],
             [
              0.3333333333333333,
              "#9c179e"
             ],
             [
              0.4444444444444444,
              "#bd3786"
             ],
             [
              0.5555555555555556,
              "#d8576b"
             ],
             [
              0.6666666666666666,
              "#ed7953"
             ],
             [
              0.7777777777777778,
              "#fb9f3a"
             ],
             [
              0.8888888888888888,
              "#fdca26"
             ],
             [
              1,
              "#f0f921"
             ]
            ],
            "type": "histogram2d"
           }
          ],
          "histogram2dcontour": [
           {
            "colorbar": {
             "outlinewidth": 0,
             "ticks": ""
            },
            "colorscale": [
             [
              0,
              "#0d0887"
             ],
             [
              0.1111111111111111,
              "#46039f"
             ],
             [
              0.2222222222222222,
              "#7201a8"
             ],
             [
              0.3333333333333333,
              "#9c179e"
             ],
             [
              0.4444444444444444,
              "#bd3786"
             ],
             [
              0.5555555555555556,
              "#d8576b"
             ],
             [
              0.6666666666666666,
              "#ed7953"
             ],
             [
              0.7777777777777778,
              "#fb9f3a"
             ],
             [
              0.8888888888888888,
              "#fdca26"
             ],
             [
              1,
              "#f0f921"
             ]
            ],
            "type": "histogram2dcontour"
           }
          ],
          "mesh3d": [
           {
            "colorbar": {
             "outlinewidth": 0,
             "ticks": ""
            },
            "type": "mesh3d"
           }
          ],
          "parcoords": [
           {
            "line": {
             "colorbar": {
              "outlinewidth": 0,
              "ticks": ""
             }
            },
            "type": "parcoords"
           }
          ],
          "pie": [
           {
            "automargin": true,
            "type": "pie"
           }
          ],
          "scatter": [
           {
            "marker": {
             "line": {
              "color": "#283442"
             }
            },
            "type": "scatter"
           }
          ],
          "scatter3d": [
           {
            "line": {
             "colorbar": {
              "outlinewidth": 0,
              "ticks": ""
             }
            },
            "marker": {
             "colorbar": {
              "outlinewidth": 0,
              "ticks": ""
             }
            },
            "type": "scatter3d"
           }
          ],
          "scattercarpet": [
           {
            "marker": {
             "colorbar": {
              "outlinewidth": 0,
              "ticks": ""
             }
            },
            "type": "scattercarpet"
           }
          ],
          "scattergeo": [
           {
            "marker": {
             "colorbar": {
              "outlinewidth": 0,
              "ticks": ""
             }
            },
            "type": "scattergeo"
           }
          ],
          "scattergl": [
           {
            "marker": {
             "line": {
              "color": "#283442"
             }
            },
            "type": "scattergl"
           }
          ],
          "scattermapbox": [
           {
            "marker": {
             "colorbar": {
              "outlinewidth": 0,
              "ticks": ""
             }
            },
            "type": "scattermapbox"
           }
          ],
          "scatterpolar": [
           {
            "marker": {
             "colorbar": {
              "outlinewidth": 0,
              "ticks": ""
             }
            },
            "type": "scatterpolar"
           }
          ],
          "scatterpolargl": [
           {
            "marker": {
             "colorbar": {
              "outlinewidth": 0,
              "ticks": ""
             }
            },
            "type": "scatterpolargl"
           }
          ],
          "scatterternary": [
           {
            "marker": {
             "colorbar": {
              "outlinewidth": 0,
              "ticks": ""
             }
            },
            "type": "scatterternary"
           }
          ],
          "surface": [
           {
            "colorbar": {
             "outlinewidth": 0,
             "ticks": ""
            },
            "colorscale": [
             [
              0,
              "#0d0887"
             ],
             [
              0.1111111111111111,
              "#46039f"
             ],
             [
              0.2222222222222222,
              "#7201a8"
             ],
             [
              0.3333333333333333,
              "#9c179e"
             ],
             [
              0.4444444444444444,
              "#bd3786"
             ],
             [
              0.5555555555555556,
              "#d8576b"
             ],
             [
              0.6666666666666666,
              "#ed7953"
             ],
             [
              0.7777777777777778,
              "#fb9f3a"
             ],
             [
              0.8888888888888888,
              "#fdca26"
             ],
             [
              1,
              "#f0f921"
             ]
            ],
            "type": "surface"
           }
          ],
          "table": [
           {
            "cells": {
             "fill": {
              "color": "#506784"
             },
             "line": {
              "color": "rgb(17,17,17)"
             }
            },
            "header": {
             "fill": {
              "color": "#2a3f5f"
             },
             "line": {
              "color": "rgb(17,17,17)"
             }
            },
            "type": "table"
           }
          ]
         },
         "layout": {
          "annotationdefaults": {
           "arrowcolor": "#f2f5fa",
           "arrowhead": 0,
           "arrowwidth": 1
          },
          "autotypenumbers": "strict",
          "coloraxis": {
           "colorbar": {
            "outlinewidth": 0,
            "ticks": ""
           }
          },
          "colorscale": {
           "diverging": [
            [
             0,
             "#8e0152"
            ],
            [
             0.1,
             "#c51b7d"
            ],
            [
             0.2,
             "#de77ae"
            ],
            [
             0.3,
             "#f1b6da"
            ],
            [
             0.4,
             "#fde0ef"
            ],
            [
             0.5,
             "#f7f7f7"
            ],
            [
             0.6,
             "#e6f5d0"
            ],
            [
             0.7,
             "#b8e186"
            ],
            [
             0.8,
             "#7fbc41"
            ],
            [
             0.9,
             "#4d9221"
            ],
            [
             1,
             "#276419"
            ]
           ],
           "sequential": [
            [
             0,
             "#0d0887"
            ],
            [
             0.1111111111111111,
             "#46039f"
            ],
            [
             0.2222222222222222,
             "#7201a8"
            ],
            [
             0.3333333333333333,
             "#9c179e"
            ],
            [
             0.4444444444444444,
             "#bd3786"
            ],
            [
             0.5555555555555556,
             "#d8576b"
            ],
            [
             0.6666666666666666,
             "#ed7953"
            ],
            [
             0.7777777777777778,
             "#fb9f3a"
            ],
            [
             0.8888888888888888,
             "#fdca26"
            ],
            [
             1,
             "#f0f921"
            ]
           ],
           "sequentialminus": [
            [
             0,
             "#0d0887"
            ],
            [
             0.1111111111111111,
             "#46039f"
            ],
            [
             0.2222222222222222,
             "#7201a8"
            ],
            [
             0.3333333333333333,
             "#9c179e"
            ],
            [
             0.4444444444444444,
             "#bd3786"
            ],
            [
             0.5555555555555556,
             "#d8576b"
            ],
            [
             0.6666666666666666,
             "#ed7953"
            ],
            [
             0.7777777777777778,
             "#fb9f3a"
            ],
            [
             0.8888888888888888,
             "#fdca26"
            ],
            [
             1,
             "#f0f921"
            ]
           ]
          },
          "colorway": [
           "#636efa",
           "#EF553B",
           "#00cc96",
           "#ab63fa",
           "#FFA15A",
           "#19d3f3",
           "#FF6692",
           "#B6E880",
           "#FF97FF",
           "#FECB52"
          ],
          "font": {
           "color": "#f2f5fa"
          },
          "geo": {
           "bgcolor": "rgb(17,17,17)",
           "lakecolor": "rgb(17,17,17)",
           "landcolor": "rgb(17,17,17)",
           "showlakes": true,
           "showland": true,
           "subunitcolor": "#506784"
          },
          "hoverlabel": {
           "align": "left"
          },
          "hovermode": "closest",
          "mapbox": {
           "style": "dark"
          },
          "paper_bgcolor": "rgb(17,17,17)",
          "plot_bgcolor": "rgb(17,17,17)",
          "polar": {
           "angularaxis": {
            "gridcolor": "#506784",
            "linecolor": "#506784",
            "ticks": ""
           },
           "bgcolor": "rgb(17,17,17)",
           "radialaxis": {
            "gridcolor": "#506784",
            "linecolor": "#506784",
            "ticks": ""
           }
          },
          "scene": {
           "xaxis": {
            "backgroundcolor": "rgb(17,17,17)",
            "gridcolor": "#506784",
            "gridwidth": 2,
            "linecolor": "#506784",
            "showbackground": true,
            "ticks": "",
            "zerolinecolor": "#C8D4E3"
           },
           "yaxis": {
            "backgroundcolor": "rgb(17,17,17)",
            "gridcolor": "#506784",
            "gridwidth": 2,
            "linecolor": "#506784",
            "showbackground": true,
            "ticks": "",
            "zerolinecolor": "#C8D4E3"
           },
           "zaxis": {
            "backgroundcolor": "rgb(17,17,17)",
            "gridcolor": "#506784",
            "gridwidth": 2,
            "linecolor": "#506784",
            "showbackground": true,
            "ticks": "",
            "zerolinecolor": "#C8D4E3"
           }
          },
          "shapedefaults": {
           "line": {
            "color": "#f2f5fa"
           }
          },
          "sliderdefaults": {
           "bgcolor": "#C8D4E3",
           "bordercolor": "rgb(17,17,17)",
           "borderwidth": 1,
           "tickwidth": 0
          },
          "ternary": {
           "aaxis": {
            "gridcolor": "#506784",
            "linecolor": "#506784",
            "ticks": ""
           },
           "baxis": {
            "gridcolor": "#506784",
            "linecolor": "#506784",
            "ticks": ""
           },
           "bgcolor": "rgb(17,17,17)",
           "caxis": {
            "gridcolor": "#506784",
            "linecolor": "#506784",
            "ticks": ""
           }
          },
          "title": {
           "x": 0.05
          },
          "updatemenudefaults": {
           "bgcolor": "#506784",
           "borderwidth": 0
          },
          "xaxis": {
           "automargin": true,
           "gridcolor": "#283442",
           "linecolor": "#506784",
           "ticks": "",
           "title": {
            "standoff": 15
           },
           "zerolinecolor": "#283442",
           "zerolinewidth": 2
          },
          "yaxis": {
           "automargin": true,
           "gridcolor": "#283442",
           "linecolor": "#506784",
           "ticks": "",
           "title": {
            "standoff": 15
           },
           "zerolinecolor": "#283442",
           "zerolinewidth": 2
          }
         }
        },
        "title": {
         "text": "lollipop graphs Max Happy Set - Result time vs K and N",
         "x": 0.5,
         "xanchor": "center"
        }
       }
      }
     },
     "metadata": {},
     "output_type": "display_data"
    }
   ],
   "source": [
    "# GraphsResults3()\n",
    "# # GraphsResults4()\n",
    "# # GraphsResults4_1()\n",
    "# GraphsResults5()\n",
    "# GraphsResults6p7()\n",
    "# GraphsResults6p7_1()\n",
    "# GraphsResults6p7_2()\n",
    "GraphsResults6p7_2()\n",
    "# GraphsResults6p7_4('cubic')\n",
    "# GraphsResults6p7_5()"
   ]
  },
  {
   "cell_type": "code",
   "execution_count": null,
   "metadata": {},
   "outputs": [],
   "source": []
  },
  {
   "cell_type": "code",
   "execution_count": null,
   "metadata": {},
   "outputs": [],
   "source": []
  }
 ],
 "metadata": {
  "kernelspec": {
   "display_name": "Python 3",
   "language": "python",
   "name": "python3"
  },
  "language_info": {
   "codemirror_mode": {
    "name": "ipython",
    "version": 3
   },
   "file_extension": ".py",
   "mimetype": "text/x-python",
   "name": "python",
   "nbconvert_exporter": "python",
   "pygments_lexer": "ipython3",
   "version": "3.10.12"
  }
 },
 "nbformat": 4,
 "nbformat_minor": 2
}
