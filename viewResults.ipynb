{
 "cells": [
  {
   "cell_type": "code",
   "execution_count": 39,
   "metadata": {},
   "outputs": [],
   "source": [
    "import pandas as pd\n",
    "# import numpy as np\n",
    "import pandas as pd\n",
    "import matplotlib.pyplot as plt\n",
    "import seaborn as sns\n",
    "import plotly.express as px"
   ]
  },
  {
   "cell_type": "code",
   "execution_count": 40,
   "metadata": {},
   "outputs": [
    {
     "data": {
      "text/html": [
       "<div>\n",
       "<style scoped>\n",
       "    .dataframe tbody tr th:only-of-type {\n",
       "        vertical-align: middle;\n",
       "    }\n",
       "\n",
       "    .dataframe tbody tr th {\n",
       "        vertical-align: top;\n",
       "    }\n",
       "\n",
       "    .dataframe thead th {\n",
       "        text-align: right;\n",
       "    }\n",
       "</style>\n",
       "<table border=\"1\" class=\"dataframe\">\n",
       "  <thead>\n",
       "    <tr style=\"text-align: right;\">\n",
       "      <th></th>\n",
       "      <th>Unnamed: 0</th>\n",
       "      <th>n</th>\n",
       "      <th>k</th>\n",
       "      <th>status</th>\n",
       "      <th>best_solution</th>\n",
       "      <th>best_bound</th>\n",
       "      <th>linear_relaxation</th>\n",
       "      <th>extra_params</th>\n",
       "      <th>result_ticks</th>\n",
       "      <th>result_time</th>\n",
       "    </tr>\n",
       "  </thead>\n",
       "  <tbody>\n",
       "    <tr>\n",
       "      <th>count</th>\n",
       "      <td>76.000000</td>\n",
       "      <td>76.000000</td>\n",
       "      <td>76.000000</td>\n",
       "      <td>76.0</td>\n",
       "      <td>76.000000</td>\n",
       "      <td>76.000000</td>\n",
       "      <td>0.0</td>\n",
       "      <td>0.0</td>\n",
       "      <td>76.000000</td>\n",
       "      <td>76.000000</td>\n",
       "    </tr>\n",
       "    <tr>\n",
       "      <th>mean</th>\n",
       "      <td>37.500000</td>\n",
       "      <td>107.263158</td>\n",
       "      <td>40.223684</td>\n",
       "      <td>101.0</td>\n",
       "      <td>27.855263</td>\n",
       "      <td>27.855263</td>\n",
       "      <td>NaN</td>\n",
       "      <td>NaN</td>\n",
       "      <td>27.855263</td>\n",
       "      <td>3.360889</td>\n",
       "    </tr>\n",
       "    <tr>\n",
       "      <th>std</th>\n",
       "      <td>22.083176</td>\n",
       "      <td>144.785576</td>\n",
       "      <td>58.801496</td>\n",
       "      <td>0.0</td>\n",
       "      <td>51.117043</td>\n",
       "      <td>51.117043</td>\n",
       "      <td>NaN</td>\n",
       "      <td>NaN</td>\n",
       "      <td>51.117043</td>\n",
       "      <td>19.912119</td>\n",
       "    </tr>\n",
       "    <tr>\n",
       "      <th>min</th>\n",
       "      <td>0.000000</td>\n",
       "      <td>4.000000</td>\n",
       "      <td>1.000000</td>\n",
       "      <td>101.0</td>\n",
       "      <td>0.000000</td>\n",
       "      <td>0.000000</td>\n",
       "      <td>NaN</td>\n",
       "      <td>NaN</td>\n",
       "      <td>0.000000</td>\n",
       "      <td>0.010630</td>\n",
       "    </tr>\n",
       "    <tr>\n",
       "      <th>25%</th>\n",
       "      <td>18.750000</td>\n",
       "      <td>8.000000</td>\n",
       "      <td>4.000000</td>\n",
       "      <td>101.0</td>\n",
       "      <td>0.000000</td>\n",
       "      <td>0.000000</td>\n",
       "      <td>NaN</td>\n",
       "      <td>NaN</td>\n",
       "      <td>0.000000</td>\n",
       "      <td>0.042735</td>\n",
       "    </tr>\n",
       "    <tr>\n",
       "      <th>50%</th>\n",
       "      <td>37.500000</td>\n",
       "      <td>32.000000</td>\n",
       "      <td>16.000000</td>\n",
       "      <td>101.0</td>\n",
       "      <td>4.500000</td>\n",
       "      <td>4.500000</td>\n",
       "      <td>NaN</td>\n",
       "      <td>NaN</td>\n",
       "      <td>4.500000</td>\n",
       "      <td>0.063872</td>\n",
       "    </tr>\n",
       "    <tr>\n",
       "      <th>75%</th>\n",
       "      <td>56.250000</td>\n",
       "      <td>128.000000</td>\n",
       "      <td>64.000000</td>\n",
       "      <td>101.0</td>\n",
       "      <td>31.000000</td>\n",
       "      <td>31.000000</td>\n",
       "      <td>NaN</td>\n",
       "      <td>NaN</td>\n",
       "      <td>31.000000</td>\n",
       "      <td>0.111915</td>\n",
       "    </tr>\n",
       "    <tr>\n",
       "      <th>max</th>\n",
       "      <td>75.000000</td>\n",
       "      <td>512.000000</td>\n",
       "      <td>256.000000</td>\n",
       "      <td>101.0</td>\n",
       "      <td>255.000000</td>\n",
       "      <td>255.000000</td>\n",
       "      <td>NaN</td>\n",
       "      <td>NaN</td>\n",
       "      <td>255.000000</td>\n",
       "      <td>169.332265</td>\n",
       "    </tr>\n",
       "  </tbody>\n",
       "</table>\n",
       "</div>"
      ],
      "text/plain": [
       "       Unnamed: 0           n           k  status  best_solution  best_bound  \\\n",
       "count   76.000000   76.000000   76.000000    76.0      76.000000   76.000000   \n",
       "mean    37.500000  107.263158   40.223684   101.0      27.855263   27.855263   \n",
       "std     22.083176  144.785576   58.801496     0.0      51.117043   51.117043   \n",
       "min      0.000000    4.000000    1.000000   101.0       0.000000    0.000000   \n",
       "25%     18.750000    8.000000    4.000000   101.0       0.000000    0.000000   \n",
       "50%     37.500000   32.000000   16.000000   101.0       4.500000    4.500000   \n",
       "75%     56.250000  128.000000   64.000000   101.0      31.000000   31.000000   \n",
       "max     75.000000  512.000000  256.000000   101.0     255.000000  255.000000   \n",
       "\n",
       "       linear_relaxation  extra_params  result_ticks  result_time  \n",
       "count                0.0           0.0     76.000000    76.000000  \n",
       "mean                 NaN           NaN     27.855263     3.360889  \n",
       "std                  NaN           NaN     51.117043    19.912119  \n",
       "min                  NaN           NaN      0.000000     0.010630  \n",
       "25%                  NaN           NaN      0.000000     0.042735  \n",
       "50%                  NaN           NaN      4.500000     0.063872  \n",
       "75%                  NaN           NaN     31.000000     0.111915  \n",
       "max                  NaN           NaN    255.000000   169.332265  "
      ]
     },
     "execution_count": 40,
     "metadata": {},
     "output_type": "execute_result"
    }
   ],
   "source": [
    "df = pd.read_csv(r'./results.csv')\n",
    "df.describe()"
   ]
  },
  {
   "cell_type": "code",
   "execution_count": 41,
   "metadata": {},
   "outputs": [
    {
     "data": {
      "text/html": [
       "<div>\n",
       "<style scoped>\n",
       "    .dataframe tbody tr th:only-of-type {\n",
       "        vertical-align: middle;\n",
       "    }\n",
       "\n",
       "    .dataframe tbody tr th {\n",
       "        vertical-align: top;\n",
       "    }\n",
       "\n",
       "    .dataframe thead th {\n",
       "        text-align: right;\n",
       "    }\n",
       "</style>\n",
       "<table border=\"1\" class=\"dataframe\">\n",
       "  <thead>\n",
       "    <tr style=\"text-align: right;\">\n",
       "      <th></th>\n",
       "      <th>Unnamed: 0</th>\n",
       "      <th>id</th>\n",
       "      <th>graph_class</th>\n",
       "      <th>n</th>\n",
       "      <th>k</th>\n",
       "      <th>status</th>\n",
       "      <th>best_solution</th>\n",
       "      <th>best_bound</th>\n",
       "      <th>linear_relaxation</th>\n",
       "      <th>extra_params</th>\n",
       "      <th>result_ticks</th>\n",
       "      <th>result_time</th>\n",
       "    </tr>\n",
       "  </thead>\n",
       "  <tbody>\n",
       "    <tr>\n",
       "      <th>22</th>\n",
       "      <td>22</td>\n",
       "      <td>graphs/bipartite/bipartite_128.txt_64</td>\n",
       "      <td>bipartite</td>\n",
       "      <td>128</td>\n",
       "      <td>64</td>\n",
       "      <td>101</td>\n",
       "      <td>0.0</td>\n",
       "      <td>0.0</td>\n",
       "      <td>NaN</td>\n",
       "      <td>NaN</td>\n",
       "      <td>0.0</td>\n",
       "      <td>0.208661</td>\n",
       "    </tr>\n",
       "    <tr>\n",
       "      <th>23</th>\n",
       "      <td>23</td>\n",
       "      <td>graphs/bipartite/bipartite_128.txt_32</td>\n",
       "      <td>bipartite</td>\n",
       "      <td>128</td>\n",
       "      <td>32</td>\n",
       "      <td>101</td>\n",
       "      <td>0.0</td>\n",
       "      <td>0.0</td>\n",
       "      <td>NaN</td>\n",
       "      <td>NaN</td>\n",
       "      <td>0.0</td>\n",
       "      <td>0.136903</td>\n",
       "    </tr>\n",
       "    <tr>\n",
       "      <th>24</th>\n",
       "      <td>24</td>\n",
       "      <td>graphs/star/star_256.txt_128</td>\n",
       "      <td>star</td>\n",
       "      <td>256</td>\n",
       "      <td>128</td>\n",
       "      <td>101</td>\n",
       "      <td>127.0</td>\n",
       "      <td>127.0</td>\n",
       "      <td>NaN</td>\n",
       "      <td>NaN</td>\n",
       "      <td>127.0</td>\n",
       "      <td>0.100224</td>\n",
       "    </tr>\n",
       "    <tr>\n",
       "      <th>25</th>\n",
       "      <td>25</td>\n",
       "      <td>graphs/star/star_256.txt_64</td>\n",
       "      <td>star</td>\n",
       "      <td>256</td>\n",
       "      <td>64</td>\n",
       "      <td>101</td>\n",
       "      <td>63.0</td>\n",
       "      <td>63.0</td>\n",
       "      <td>NaN</td>\n",
       "      <td>NaN</td>\n",
       "      <td>63.0</td>\n",
       "      <td>0.135648</td>\n",
       "    </tr>\n",
       "    <tr>\n",
       "      <th>26</th>\n",
       "      <td>26</td>\n",
       "      <td>graphs/bipartite/bipartite_256.txt_128</td>\n",
       "      <td>bipartite</td>\n",
       "      <td>256</td>\n",
       "      <td>128</td>\n",
       "      <td>101</td>\n",
       "      <td>0.0</td>\n",
       "      <td>0.0</td>\n",
       "      <td>NaN</td>\n",
       "      <td>NaN</td>\n",
       "      <td>0.0</td>\n",
       "      <td>0.447237</td>\n",
       "    </tr>\n",
       "    <tr>\n",
       "      <th>27</th>\n",
       "      <td>27</td>\n",
       "      <td>graphs/bipartite/bipartite_256.txt_64</td>\n",
       "      <td>bipartite</td>\n",
       "      <td>256</td>\n",
       "      <td>64</td>\n",
       "      <td>101</td>\n",
       "      <td>0.0</td>\n",
       "      <td>0.0</td>\n",
       "      <td>NaN</td>\n",
       "      <td>NaN</td>\n",
       "      <td>0.0</td>\n",
       "      <td>0.460493</td>\n",
       "    </tr>\n",
       "    <tr>\n",
       "      <th>28</th>\n",
       "      <td>28</td>\n",
       "      <td>graphs/star/star_512.txt_256</td>\n",
       "      <td>star</td>\n",
       "      <td>512</td>\n",
       "      <td>256</td>\n",
       "      <td>101</td>\n",
       "      <td>255.0</td>\n",
       "      <td>255.0</td>\n",
       "      <td>NaN</td>\n",
       "      <td>NaN</td>\n",
       "      <td>255.0</td>\n",
       "      <td>0.168491</td>\n",
       "    </tr>\n",
       "    <tr>\n",
       "      <th>29</th>\n",
       "      <td>29</td>\n",
       "      <td>graphs/star/star_512.txt_128</td>\n",
       "      <td>star</td>\n",
       "      <td>512</td>\n",
       "      <td>128</td>\n",
       "      <td>101</td>\n",
       "      <td>127.0</td>\n",
       "      <td>127.0</td>\n",
       "      <td>NaN</td>\n",
       "      <td>NaN</td>\n",
       "      <td>127.0</td>\n",
       "      <td>0.157542</td>\n",
       "    </tr>\n",
       "    <tr>\n",
       "      <th>30</th>\n",
       "      <td>30</td>\n",
       "      <td>graphs/bipartite/bipartite_512.txt_256</td>\n",
       "      <td>bipartite</td>\n",
       "      <td>512</td>\n",
       "      <td>256</td>\n",
       "      <td>101</td>\n",
       "      <td>0.0</td>\n",
       "      <td>0.0</td>\n",
       "      <td>NaN</td>\n",
       "      <td>NaN</td>\n",
       "      <td>0.0</td>\n",
       "      <td>38.320962</td>\n",
       "    </tr>\n",
       "    <tr>\n",
       "      <th>31</th>\n",
       "      <td>31</td>\n",
       "      <td>graphs/bipartite/bipartite_512.txt_128</td>\n",
       "      <td>bipartite</td>\n",
       "      <td>512</td>\n",
       "      <td>128</td>\n",
       "      <td>101</td>\n",
       "      <td>0.0</td>\n",
       "      <td>0.0</td>\n",
       "      <td>NaN</td>\n",
       "      <td>NaN</td>\n",
       "      <td>0.0</td>\n",
       "      <td>31.679982</td>\n",
       "    </tr>\n",
       "    <tr>\n",
       "      <th>32</th>\n",
       "      <td>32</td>\n",
       "      <td>graphs/star/star_1024.txt_512</td>\n",
       "      <td>star</td>\n",
       "      <td>1024</td>\n",
       "      <td>512</td>\n",
       "      <td>101</td>\n",
       "      <td>511.0</td>\n",
       "      <td>511.0</td>\n",
       "      <td>NaN</td>\n",
       "      <td>NaN</td>\n",
       "      <td>511.0</td>\n",
       "      <td>0.216387</td>\n",
       "    </tr>\n",
       "    <tr>\n",
       "      <th>33</th>\n",
       "      <td>33</td>\n",
       "      <td>graphs/star/star_1024.txt_256</td>\n",
       "      <td>star</td>\n",
       "      <td>1024</td>\n",
       "      <td>256</td>\n",
       "      <td>101</td>\n",
       "      <td>255.0</td>\n",
       "      <td>255.0</td>\n",
       "      <td>NaN</td>\n",
       "      <td>NaN</td>\n",
       "      <td>255.0</td>\n",
       "      <td>0.212488</td>\n",
       "    </tr>\n",
       "    <tr>\n",
       "      <th>34</th>\n",
       "      <td>34</td>\n",
       "      <td>graphs/star/star_2048.txt_1024</td>\n",
       "      <td>star</td>\n",
       "      <td>2048</td>\n",
       "      <td>1024</td>\n",
       "      <td>101</td>\n",
       "      <td>1023.0</td>\n",
       "      <td>1023.0</td>\n",
       "      <td>NaN</td>\n",
       "      <td>NaN</td>\n",
       "      <td>1023.0</td>\n",
       "      <td>0.624224</td>\n",
       "    </tr>\n",
       "    <tr>\n",
       "      <th>35</th>\n",
       "      <td>35</td>\n",
       "      <td>graphs/star/star_2048.txt_512</td>\n",
       "      <td>star</td>\n",
       "      <td>2048</td>\n",
       "      <td>512</td>\n",
       "      <td>101</td>\n",
       "      <td>511.0</td>\n",
       "      <td>511.0</td>\n",
       "      <td>NaN</td>\n",
       "      <td>NaN</td>\n",
       "      <td>511.0</td>\n",
       "      <td>0.616628</td>\n",
       "    </tr>\n",
       "    <tr>\n",
       "      <th>36</th>\n",
       "      <td>36</td>\n",
       "      <td>graphs/star/star_4096.txt_2048</td>\n",
       "      <td>star</td>\n",
       "      <td>4096</td>\n",
       "      <td>2048</td>\n",
       "      <td>101</td>\n",
       "      <td>2047.0</td>\n",
       "      <td>2047.0</td>\n",
       "      <td>NaN</td>\n",
       "      <td>NaN</td>\n",
       "      <td>2047.0</td>\n",
       "      <td>2.901621</td>\n",
       "    </tr>\n",
       "    <tr>\n",
       "      <th>37</th>\n",
       "      <td>37</td>\n",
       "      <td>graphs/star/star_4096.txt_1024</td>\n",
       "      <td>star</td>\n",
       "      <td>4096</td>\n",
       "      <td>1024</td>\n",
       "      <td>101</td>\n",
       "      <td>1023.0</td>\n",
       "      <td>1023.0</td>\n",
       "      <td>NaN</td>\n",
       "      <td>NaN</td>\n",
       "      <td>1023.0</td>\n",
       "      <td>2.236898</td>\n",
       "    </tr>\n",
       "    <tr>\n",
       "      <th>38</th>\n",
       "      <td>38</td>\n",
       "      <td>graphs/star/star_8192.txt_4096</td>\n",
       "      <td>star</td>\n",
       "      <td>8192</td>\n",
       "      <td>4096</td>\n",
       "      <td>101</td>\n",
       "      <td>4095.0</td>\n",
       "      <td>4095.0</td>\n",
       "      <td>NaN</td>\n",
       "      <td>NaN</td>\n",
       "      <td>4095.0</td>\n",
       "      <td>8.037655</td>\n",
       "    </tr>\n",
       "    <tr>\n",
       "      <th>39</th>\n",
       "      <td>39</td>\n",
       "      <td>graphs/star/star_8192.txt_2048</td>\n",
       "      <td>star</td>\n",
       "      <td>8192</td>\n",
       "      <td>2048</td>\n",
       "      <td>101</td>\n",
       "      <td>2047.0</td>\n",
       "      <td>2047.0</td>\n",
       "      <td>NaN</td>\n",
       "      <td>NaN</td>\n",
       "      <td>2047.0</td>\n",
       "      <td>9.719139</td>\n",
       "    </tr>\n",
       "    <tr>\n",
       "      <th>40</th>\n",
       "      <td>40</td>\n",
       "      <td>graphs/star/star_16384.txt_8192</td>\n",
       "      <td>star</td>\n",
       "      <td>16384</td>\n",
       "      <td>8192</td>\n",
       "      <td>101</td>\n",
       "      <td>8191.0</td>\n",
       "      <td>8191.0</td>\n",
       "      <td>NaN</td>\n",
       "      <td>NaN</td>\n",
       "      <td>8191.0</td>\n",
       "      <td>45.807510</td>\n",
       "    </tr>\n",
       "    <tr>\n",
       "      <th>41</th>\n",
       "      <td>41</td>\n",
       "      <td>graphs/star/star_16384.txt_4096</td>\n",
       "      <td>star</td>\n",
       "      <td>16384</td>\n",
       "      <td>4096</td>\n",
       "      <td>101</td>\n",
       "      <td>4095.0</td>\n",
       "      <td>4095.0</td>\n",
       "      <td>NaN</td>\n",
       "      <td>NaN</td>\n",
       "      <td>4095.0</td>\n",
       "      <td>39.968886</td>\n",
       "    </tr>\n",
       "  </tbody>\n",
       "</table>\n",
       "</div>"
      ],
      "text/plain": [
       "    Unnamed: 0                                      id graph_class      n  \\\n",
       "22          22   graphs/bipartite/bipartite_128.txt_64   bipartite    128   \n",
       "23          23   graphs/bipartite/bipartite_128.txt_32   bipartite    128   \n",
       "24          24            graphs/star/star_256.txt_128        star    256   \n",
       "25          25             graphs/star/star_256.txt_64        star    256   \n",
       "26          26  graphs/bipartite/bipartite_256.txt_128   bipartite    256   \n",
       "27          27   graphs/bipartite/bipartite_256.txt_64   bipartite    256   \n",
       "28          28            graphs/star/star_512.txt_256        star    512   \n",
       "29          29            graphs/star/star_512.txt_128        star    512   \n",
       "30          30  graphs/bipartite/bipartite_512.txt_256   bipartite    512   \n",
       "31          31  graphs/bipartite/bipartite_512.txt_128   bipartite    512   \n",
       "32          32           graphs/star/star_1024.txt_512        star   1024   \n",
       "33          33           graphs/star/star_1024.txt_256        star   1024   \n",
       "34          34          graphs/star/star_2048.txt_1024        star   2048   \n",
       "35          35           graphs/star/star_2048.txt_512        star   2048   \n",
       "36          36          graphs/star/star_4096.txt_2048        star   4096   \n",
       "37          37          graphs/star/star_4096.txt_1024        star   4096   \n",
       "38          38          graphs/star/star_8192.txt_4096        star   8192   \n",
       "39          39          graphs/star/star_8192.txt_2048        star   8192   \n",
       "40          40         graphs/star/star_16384.txt_8192        star  16384   \n",
       "41          41         graphs/star/star_16384.txt_4096        star  16384   \n",
       "\n",
       "       k  status  best_solution  best_bound  linear_relaxation  extra_params  \\\n",
       "22    64     101            0.0         0.0                NaN           NaN   \n",
       "23    32     101            0.0         0.0                NaN           NaN   \n",
       "24   128     101          127.0       127.0                NaN           NaN   \n",
       "25    64     101           63.0        63.0                NaN           NaN   \n",
       "26   128     101            0.0         0.0                NaN           NaN   \n",
       "27    64     101            0.0         0.0                NaN           NaN   \n",
       "28   256     101          255.0       255.0                NaN           NaN   \n",
       "29   128     101          127.0       127.0                NaN           NaN   \n",
       "30   256     101            0.0         0.0                NaN           NaN   \n",
       "31   128     101            0.0         0.0                NaN           NaN   \n",
       "32   512     101          511.0       511.0                NaN           NaN   \n",
       "33   256     101          255.0       255.0                NaN           NaN   \n",
       "34  1024     101         1023.0      1023.0                NaN           NaN   \n",
       "35   512     101          511.0       511.0                NaN           NaN   \n",
       "36  2048     101         2047.0      2047.0                NaN           NaN   \n",
       "37  1024     101         1023.0      1023.0                NaN           NaN   \n",
       "38  4096     101         4095.0      4095.0                NaN           NaN   \n",
       "39  2048     101         2047.0      2047.0                NaN           NaN   \n",
       "40  8192     101         8191.0      8191.0                NaN           NaN   \n",
       "41  4096     101         4095.0      4095.0                NaN           NaN   \n",
       "\n",
       "    result_ticks  result_time  \n",
       "22           0.0     0.208661  \n",
       "23           0.0     0.136903  \n",
       "24         127.0     0.100224  \n",
       "25          63.0     0.135648  \n",
       "26           0.0     0.447237  \n",
       "27           0.0     0.460493  \n",
       "28         255.0     0.168491  \n",
       "29         127.0     0.157542  \n",
       "30           0.0    38.320962  \n",
       "31           0.0    31.679982  \n",
       "32         511.0     0.216387  \n",
       "33         255.0     0.212488  \n",
       "34        1023.0     0.624224  \n",
       "35         511.0     0.616628  \n",
       "36        2047.0     2.901621  \n",
       "37        1023.0     2.236898  \n",
       "38        4095.0     8.037655  \n",
       "39        2047.0     9.719139  \n",
       "40        8191.0    45.807510  \n",
       "41        4095.0    39.968886  "
      ]
     },
     "execution_count": 41,
     "metadata": {},
     "output_type": "execute_result"
    }
   ],
   "source": [
    "results.tail(20)"
   ]
  },
  {
   "cell_type": "code",
   "execution_count": 56,
   "metadata": {},
   "outputs": [
    {
     "data": {
      "image/png": "[encoded data removed]",
      "text/plain": [
       "<Figure size 1400x600 with 1 Axes>"
      ]
     },
     "metadata": {},
     "output_type": "display_data"
    }
   ],
   "source": [
    "\n",
    "# Plot result_time vs N\n",
    "plt.figure(figsize=(14, 6))\n",
    "sns.scatterplot(data=df, x='n', y='result_time', hue='k', style=\"graph_class\")\n",
    "plt.title('Result time vs N and Class')\n",
    "plt.xlabel('Numero de nós')\n",
    "plt.ylabel('Result Time')\n",
    "plt.legend(title='k',bbox_to_anchor=(1.05, 1), loc='upper left', borderaxespad=0.)\n",
    "plt.show()"
   ]
  },
  {
   "cell_type": "code",
   "execution_count": 55,
   "metadata": {},
   "outputs": [
    {
     "data": {
      "image/png": "[encoded data removed]",
      "text/plain": [
       "<Figure size 1400x600 with 1 Axes>"
      ]
     },
     "metadata": {},
     "output_type": "display_data"
    }
   ],
   "source": [
    "\n",
    "# Plot result_time vs N\n",
    "plt.figure(figsize=(14, 6))\n",
    "sns.scatterplot(data=df[:59], x='n', y='result_time', hue='k', style=\"graph_class\")\n",
    "plt.title('Result time vs N and Class')\n",
    "plt.xlabel('Numero de nós')\n",
    "plt.ylabel('Result Time')\n",
    "plt.legend(title='k')\n",
    "plt.show()"
   ]
  },
  {
   "cell_type": "code",
   "execution_count": 49,
   "metadata": {},
   "outputs": [
    {
     "data": {
      "image/png": "[encoded data removed]",
      "text/plain": [
       "<Figure size 1400x600 with 1 Axes>"
      ]
     },
     "metadata": {},
     "output_type": "display_data"
    }
   ],
   "source": [
    "\n",
    "# Plot result_time vs k\n",
    "plt.figure(figsize=(14, 6))\n",
    "sns.barplot(data=df, x='n', y='result_time', hue='k')\n",
    "plt.title('Result time vs N and Class')\n",
    "plt.xlabel('Numero de nós')\n",
    "plt.ylabel('Result Time')\n",
    "plt.legend(title='k')\n",
    "plt.show()"
   ]
  },
  {
   "cell_type": "code",
   "execution_count": 44,
   "metadata": {},
   "outputs": [
    {
     "data": {
      "application/vnd.plotly.v1+json": {
       "config": {
        "plotlyServerURL": "https://plot.ly"
       },
       "data": [
        {
         "customdata": [
          [
           "star",
           101
          ],
          [
           "star",
           101
          ],
          [
           "star",
           101
          ],
          [
           "star",
           101
          ],
          [
           "star",
           101
          ],
          [
           "star",
           101
          ],
          [
           "star",
           101
          ],
          [
           "star",
           101
          ],
          [
           "star",
           101
          ],
          [
           "star",
           101
          ],
          [
           "star",
           101
          ],
          [
           "star",
           101
          ],
          [
           "star",
           101
          ],
          [
           "star",
           101
          ],
          [
           "star",
           101
          ],
          [
           "star",
           101
          ]
         ],
         "hovertemplate": "graph_class=%{customdata[0]}<br>status=%{customdata[1]}<br>n=%{x}<br>Result Time=%{y}<extra></extra>",
         "legendgroup": "star, 101",
         "marker": {
          "color": "#636efa",
          "symbol": "circle"
         },
         "mode": "markers",
         "name": "star, 101",
         "orientation": "v",
         "showlegend": true,
         "type": "scatter",
         "x": [
          4,
          4,
          8,
          8,
          16,
          16,
          32,
          32,
          64,
          64,
          128,
          128,
          256,
          256,
          512,
          512
         ],
         "xaxis": "x",
         "y": [
          0.0333166122436523,
          0.0153770446777343,
          0.0534367561340332,
          0.0669989585876464,
          0.0429556369781494,
          0.0435810089111328,
          0.0711855888366699,
          0.0549530982971191,
          0.0461647510528564,
          0.0466644763946533,
          0.0513746738433837,
          0.0514585971832275,
          0.0805070400238037,
          0.0732901096343994,
          0.1100566387176513,
          0.1174895763397216
         ],
         "yaxis": "y"
        },
        {
         "customdata": [
          [
           "cubic",
           101
          ],
          [
           "cubic",
           101
          ],
          [
           "cubic",
           101
          ],
          [
           "cubic",
           101
          ],
          [
           "cubic",
           101
          ],
          [
           "cubic",
           101
          ],
          [
           "cubic",
           101
          ],
          [
           "cubic",
           101
          ],
          [
           "cubic",
           101
          ],
          [
           "cubic",
           101
          ],
          [
           "cubic",
           101
          ],
          [
           "cubic",
           101
          ],
          [
           "cubic",
           101
          ],
          [
           "cubic",
           101
          ],
          [
           "cubic",
           101
          ],
          [
           "cubic",
           101
          ]
         ],
         "hovertemplate": "graph_class=%{customdata[0]}<br>status=%{customdata[1]}<br>n=%{x}<br>Result Time=%{y}<extra></extra>",
         "legendgroup": "cubic, 101",
         "marker": {
          "color": "#EF553B",
          "symbol": "circle"
         },
         "mode": "markers",
         "name": "cubic, 101",
         "orientation": "v",
         "showlegend": true,
         "type": "scatter",
         "x": [
          4,
          4,
          8,
          8,
          16,
          16,
          32,
          32,
          64,
          64,
          128,
          128,
          256,
          256,
          512,
          512
         ],
         "xaxis": "x",
         "y": [
          0.0177617073059082,
          0.010629653930664,
          0.0657291412353515,
          0.0253026485443115,
          0.0552372932434082,
          0.0488319396972656,
          0.0950846672058105,
          0.0723412036895752,
          0.1013679504394531,
          0.1239919662475586,
          0.1745805740356445,
          0.1698260307312011,
          0.2911543846130371,
          0.506411075592041,
          1.8563079833984373,
          0.6394224166870117
         ],
         "yaxis": "y"
        },
        {
         "customdata": [
          [
           "bipartite",
           101
          ],
          [
           "bipartite",
           101
          ],
          [
           "bipartite",
           101
          ],
          [
           "bipartite",
           101
          ],
          [
           "bipartite",
           101
          ],
          [
           "bipartite",
           101
          ],
          [
           "bipartite",
           101
          ],
          [
           "bipartite",
           101
          ],
          [
           "bipartite",
           101
          ],
          [
           "bipartite",
           101
          ],
          [
           "bipartite",
           101
          ],
          [
           "bipartite",
           101
          ],
          [
           "bipartite",
           101
          ],
          [
           "bipartite",
           101
          ],
          [
           "bipartite",
           101
          ],
          [
           "bipartite",
           101
          ]
         ],
         "hovertemplate": "graph_class=%{customdata[0]}<br>status=%{customdata[1]}<br>n=%{x}<br>Result Time=%{y}<extra></extra>",
         "legendgroup": "bipartite, 101",
         "marker": {
          "color": "#00cc96",
          "symbol": "circle"
         },
         "mode": "markers",
         "name": "bipartite, 101",
         "orientation": "v",
         "showlegend": true,
         "type": "scatter",
         "x": [
          4,
          4,
          8,
          8,
          16,
          16,
          32,
          32,
          64,
          64,
          128,
          128,
          256,
          256,
          512,
          512
         ],
         "xaxis": "x",
         "y": [
          0.0213522911071777,
          0.0167691707611084,
          0.0207619667053222,
          0.0249655246734619,
          0.0224380493164062,
          0.0257115364074707,
          0.0229015350341796,
          0.0238823890686035,
          0.0420727729797363,
          0.0632784366607666,
          0.0787100791931152,
          0.0999751091003418,
          0.3357024192810058,
          0.3495717048645019,
          26.196348667144772,
          24.68542718887329
         ],
         "yaxis": "y"
        },
        {
         "customdata": [
          [
           "BA",
           101
          ],
          [
           "BA",
           101
          ],
          [
           "BA",
           101
          ],
          [
           "BA",
           101
          ],
          [
           "BA",
           101
          ],
          [
           "BA",
           101
          ],
          [
           "BA",
           101
          ],
          [
           "BA",
           101
          ],
          [
           "BA",
           101
          ],
          [
           "BA",
           101
          ],
          [
           "BA",
           101
          ],
          [
           "BA",
           101
          ],
          [
           "BA",
           101
          ],
          [
           "BA",
           101
          ]
         ],
         "hovertemplate": "graph_class=%{customdata[0]}<br>status=%{customdata[1]}<br>n=%{x}<br>Result Time=%{y}<extra></extra>",
         "legendgroup": "BA, 101",
         "marker": {
          "color": "#ab63fa",
          "symbol": "circle"
         },
         "mode": "markers",
         "name": "BA, 101",
         "orientation": "v",
         "showlegend": true,
         "type": "scatter",
         "x": [
          4,
          4,
          8,
          8,
          16,
          16,
          32,
          32,
          64,
          64,
          128,
          128,
          256,
          256
         ],
         "xaxis": "x",
         "y": [
          0.0241868495941162,
          0.0150551795959472,
          0.0504851341247558,
          0.0258023738861084,
          0.0612545013427734,
          0.0601861476898193,
          0.0816171169281005,
          0.0657136440277099,
          0.2524163722991943,
          0.1069462299346923,
          1.4292702674865725,
          0.5533945560455322,
          169.33226466178894,
          24.881664514541622
         ],
         "yaxis": "y"
        },
        {
         "customdata": [
          [
           "lollipop",
           101
          ],
          [
           "lollipop",
           101
          ],
          [
           "lollipop",
           101
          ],
          [
           "lollipop",
           101
          ],
          [
           "lollipop",
           101
          ],
          [
           "lollipop",
           101
          ],
          [
           "lollipop",
           101
          ],
          [
           "lollipop",
           101
          ],
          [
           "lollipop",
           101
          ],
          [
           "lollipop",
           101
          ],
          [
           "lollipop",
           101
          ],
          [
           "lollipop",
           101
          ],
          [
           "lollipop",
           101
          ],
          [
           "lollipop",
           101
          ]
         ],
         "hovertemplate": "graph_class=%{customdata[0]}<br>status=%{customdata[1]}<br>n=%{x}<br>Result Time=%{y}<extra></extra>",
         "legendgroup": "lollipop, 101",
         "marker": {
          "color": "#FFA15A",
          "symbol": "circle"
         },
         "mode": "markers",
         "name": "lollipop, 101",
         "orientation": "v",
         "showlegend": true,
         "type": "scatter",
         "x": [
          4,
          4,
          8,
          8,
          16,
          16,
          32,
          32,
          64,
          64,
          128,
          128,
          256,
          256
         ],
         "xaxis": "x",
         "y": [
          0.0850117206573486,
          0.0201470851898193,
          0.044945478439331,
          0.0199241638183593,
          0.0552527904510498,
          0.0774679183959961,
          0.0482730865478515,
          0.0538685321807861,
          0.0458347797393798,
          0.0644652843475341,
          0.1067328453063964,
          0.1035907268524169,
          0.2551789283752441,
          0.2639760971069336
         ],
         "yaxis": "y"
        }
       ],
       "layout": {
        "legend": {
         "title": {
          "text": "graph_class, status"
         },
         "tracegroupgap": 0
        },
        "template": {
         "data": {
          "bar": [
           {
            "error_x": {
             "color": "#2a3f5f"
            },
            "error_y": {
             "color": "#2a3f5f"
            },
            "marker": {
             "line": {
              "color": "#E5ECF6",
              "width": 0.5
             },
             "pattern": {
              "fillmode": "overlay",
              "size": 10,
              "solidity": 0.2
             }
            },
            "type": "bar"
           }
          ],
          "barpolar": [
           {
            "marker": {
             "line": {
              "color": "#E5ECF6",
              "width": 0.5
             },
             "pattern": {
              "fillmode": "overlay",
              "size": 10,
              "solidity": 0.2
             }
            },
            "type": "barpolar"
           }
          ],
          "carpet": [
           {
            "aaxis": {
             "endlinecolor": "#2a3f5f",
             "gridcolor": "white",
             "linecolor": "white",
             "minorgridcolor": "white",
             "startlinecolor": "#2a3f5f"
            },
            "baxis": {
             "endlinecolor": "#2a3f5f",
             "gridcolor": "white",
             "linecolor": "white",
             "minorgridcolor": "white",
             "startlinecolor": "#2a3f5f"
            },
            "type": "carpet"
           }
          ],
          "choropleth": [
           {
            "colorbar": {
             "outlinewidth": 0,
             "ticks": ""
            },
            "type": "choropleth"
           }
          ],
          "contour": [
           {
            "colorbar": {
             "outlinewidth": 0,
             "ticks": ""
            },
            "colorscale": [
             [
              0,
              "#0d0887"
             ],
             [
              0.1111111111111111,
              "#46039f"
             ],
             [
              0.2222222222222222,
              "#7201a8"
             ],
             [
              0.3333333333333333,
              "#9c179e"
             ],
             [
              0.4444444444444444,
              "#bd3786"
             ],
             [
              0.5555555555555556,
              "#d8576b"
             ],
             [
              0.6666666666666666,
              "#ed7953"
             ],
             [
              0.7777777777777778,
              "#fb9f3a"
             ],
             [
              0.8888888888888888,
              "#fdca26"
             ],
             [
              1,
              "#f0f921"
             ]
            ],
            "type": "contour"
           }
          ],
          "contourcarpet": [
           {
            "colorbar": {
             "outlinewidth": 0,
             "ticks": ""
            },
            "type": "contourcarpet"
           }
          ],
          "heatmap": [
           {
            "colorbar": {
             "outlinewidth": 0,
             "ticks": ""
            },
            "colorscale": [
             [
              0,
              "#0d0887"
             ],
             [
              0.1111111111111111,
              "#46039f"
             ],
             [
              0.2222222222222222,
              "#7201a8"
             ],
             [
              0.3333333333333333,
              "#9c179e"
             ],
             [
              0.4444444444444444,
              "#bd3786"
             ],
             [
              0.5555555555555556,
              "#d8576b"
             ],
             [
              0.6666666666666666,
              "#ed7953"
             ],
             [
              0.7777777777777778,
              "#fb9f3a"
             ],
             [
              0.8888888888888888,
              "#fdca26"
             ],
             [
              1,
              "#f0f921"
             ]
            ],
            "type": "heatmap"
           }
          ],
          "heatmapgl": [
           {
            "colorbar": {
             "outlinewidth": 0,
             "ticks": ""
            },
            "colorscale": [
             [
              0,
              "#0d0887"
             ],
             [
              0.1111111111111111,
              "#46039f"
             ],
             [
              0.2222222222222222,
              "#7201a8"
             ],
             [
              0.3333333333333333,
              "#9c179e"
             ],
             [
              0.4444444444444444,
              "#bd3786"
             ],
             [
              0.5555555555555556,
              "#d8576b"
             ],
             [
              0.6666666666666666,
              "#ed7953"
             ],
             [
              0.7777777777777778,
              "#fb9f3a"
             ],
             [
              0.8888888888888888,
              "#fdca26"
             ],
             [
              1,
              "#f0f921"
             ]
            ],
            "type": "heatmapgl"
           }
          ],
          "histogram": [
           {
            "marker": {
             "pattern": {
              "fillmode": "overlay",
              "size": 10,
              "solidity": 0.2
             }
            },
            "type": "histogram"
           }
          ],
          "histogram2d": [
           {
            "colorbar": {
             "outlinewidth": 0,
             "ticks": ""
            },
            "colorscale": [
             [
              0,
              "#0d0887"
             ],
             [
              0.1111111111111111,
              "#46039f"
             ],
             [
              0.2222222222222222,
              "#7201a8"
             ],
             [
              0.3333333333333333,
              "#9c179e"
             ],
             [
              0.4444444444444444,
              "#bd3786"
             ],
             [
              0.5555555555555556,
              "#d8576b"
             ],
             [
              0.6666666666666666,
              "#ed7953"
             ],
             [
              0.7777777777777778,
              "#fb9f3a"
             ],
             [
              0.8888888888888888,
              "#fdca26"
             ],
             [
              1,
              "#f0f921"
             ]
            ],
            "type": "histogram2d"
           }
          ],
          "histogram2dcontour": [
           {
            "colorbar": {
             "outlinewidth": 0,
             "ticks": ""
            },
            "colorscale": [
             [
              0,
              "#0d0887"
             ],
             [
              0.1111111111111111,
              "#46039f"
             ],
             [
              0.2222222222222222,
              "#7201a8"
             ],
             [
              0.3333333333333333,
              "#9c179e"
             ],
             [
              0.4444444444444444,
              "#bd3786"
             ],
             [
              0.5555555555555556,
              "#d8576b"
             ],
             [
              0.6666666666666666,
              "#ed7953"
             ],
             [
              0.7777777777777778,
              "#fb9f3a"
             ],
             [
              0.8888888888888888,
              "#fdca26"
             ],
             [
              1,
              "#f0f921"
             ]
            ],
            "type": "histogram2dcontour"
           }
          ],
          "mesh3d": [
           {
            "colorbar": {
             "outlinewidth": 0,
             "ticks": ""
            },
            "type": "mesh3d"
           }
          ],
          "parcoords": [
           {
            "line": {
             "colorbar": {
              "outlinewidth": 0,
              "ticks": ""
             }
            },
            "type": "parcoords"
           }
          ],
          "pie": [
           {
            "automargin": true,
            "type": "pie"
           }
          ],
          "scatter": [
           {
            "fillpattern": {
             "fillmode": "overlay",
             "size": 10,
             "solidity": 0.2
            },
            "type": "scatter"
           }
          ],
          "scatter3d": [
           {
            "line": {
             "colorbar": {
              "outlinewidth": 0,
              "ticks": ""
             }
            },
            "marker": {
             "colorbar": {
              "outlinewidth": 0,
              "ticks": ""
             }
            },
            "type": "scatter3d"
           }
          ],
          "scattercarpet": [
           {
            "marker": {
             "colorbar": {
              "outlinewidth": 0,
              "ticks": ""
             }
            },
            "type": "scattercarpet"
           }
          ],
          "scattergeo": [
           {
            "marker": {
             "colorbar": {
              "outlinewidth": 0,
              "ticks": ""
             }
            },
            "type": "scattergeo"
           }
          ],
          "scattergl": [
           {
            "marker": {
             "colorbar": {
              "outlinewidth": 0,
              "ticks": ""
             }
            },
            "type": "scattergl"
           }
          ],
          "scattermapbox": [
           {
            "marker": {
             "colorbar": {
              "outlinewidth": 0,
              "ticks": ""
             }
            },
            "type": "scattermapbox"
           }
          ],
          "scatterpolar": [
           {
            "marker": {
             "colorbar": {
              "outlinewidth": 0,
              "ticks": ""
             }
            },
            "type": "scatterpolar"
           }
          ],
          "scatterpolargl": [
           {
            "marker": {
             "colorbar": {
              "outlinewidth": 0,
              "ticks": ""
             }
            },
            "type": "scatterpolargl"
           }
          ],
          "scatterternary": [
           {
            "marker": {
             "colorbar": {
              "outlinewidth": 0,
              "ticks": ""
             }
            },
            "type": "scatterternary"
           }
          ],
          "surface": [
           {
            "colorbar": {
             "outlinewidth": 0,
             "ticks": ""
            },
            "colorscale": [
             [
              0,
              "#0d0887"
             ],
             [
              0.1111111111111111,
              "#46039f"
             ],
             [
              0.2222222222222222,
              "#7201a8"
             ],
             [
              0.3333333333333333,
              "#9c179e"
             ],
             [
              0.4444444444444444,
              "#bd3786"
             ],
             [
              0.5555555555555556,
              "#d8576b"
             ],
             [
              0.6666666666666666,
              "#ed7953"
             ],
             [
              0.7777777777777778,
              "#fb9f3a"
             ],
             [
              0.8888888888888888,
              "#fdca26"
             ],
             [
              1,
              "#f0f921"
             ]
            ],
            "type": "surface"
           }
          ],
          "table": [
           {
            "cells": {
             "fill": {
              "color": "#EBF0F8"
             },
             "line": {
              "color": "white"
             }
            },
            "header": {
             "fill": {
              "color": "#C8D4E3"
             },
             "line": {
              "color": "white"
             }
            },
            "type": "table"
           }
          ]
         },
         "layout": {
          "annotationdefaults": {
           "arrowcolor": "#2a3f5f",
           "arrowhead": 0,
           "arrowwidth": 1
          },
          "autotypenumbers": "strict",
          "coloraxis": {
           "colorbar": {
            "outlinewidth": 0,
            "ticks": ""
           }
          },
          "colorscale": {
           "diverging": [
            [
             0,
             "#8e0152"
            ],
            [
             0.1,
             "#c51b7d"
            ],
            [
             0.2,
             "#de77ae"
            ],
            [
             0.3,
             "#f1b6da"
            ],
            [
             0.4,
             "#fde0ef"
            ],
            [
             0.5,
             "#f7f7f7"
            ],
            [
             0.6,
             "#e6f5d0"
            ],
            [
             0.7,
             "#b8e186"
            ],
            [
             0.8,
             "#7fbc41"
            ],
            [
             0.9,
             "#4d9221"
            ],
            [
             1,
             "#276419"
            ]
           ],
           "sequential": [
            [
             0,
             "#0d0887"
            ],
            [
             0.1111111111111111,
             "#46039f"
            ],
            [
             0.2222222222222222,
             "#7201a8"
            ],
            [
             0.3333333333333333,
             "#9c179e"
            ],
            [
             0.4444444444444444,
             "#bd3786"
            ],
            [
             0.5555555555555556,
             "#d8576b"
            ],
            [
             0.6666666666666666,
             "#ed7953"
            ],
            [
             0.7777777777777778,
             "#fb9f3a"
            ],
            [
             0.8888888888888888,
             "#fdca26"
            ],
            [
             1,
             "#f0f921"
            ]
           ],
           "sequentialminus": [
            [
             0,
             "#0d0887"
            ],
            [
             0.1111111111111111,
             "#46039f"
            ],
            [
             0.2222222222222222,
             "#7201a8"
            ],
            [
             0.3333333333333333,
             "#9c179e"
            ],
            [
             0.4444444444444444,
             "#bd3786"
            ],
            [
             0.5555555555555556,
             "#d8576b"
            ],
            [
             0.6666666666666666,
             "#ed7953"
            ],
            [
             0.7777777777777778,
             "#fb9f3a"
            ],
            [
             0.8888888888888888,
             "#fdca26"
            ],
            [
             1,
             "#f0f921"
            ]
           ]
          },
          "colorway": [
           "#636efa",
           "#EF553B",
           "#00cc96",
           "#ab63fa",
           "#FFA15A",
           "#19d3f3",
           "#FF6692",
           "#B6E880",
           "#FF97FF",
           "#FECB52"
          ],
          "font": {
           "color": "#2a3f5f"
          },
          "geo": {
           "bgcolor": "white",
           "lakecolor": "white",
           "landcolor": "#E5ECF6",
           "showlakes": true,
           "showland": true,
           "subunitcolor": "white"
          },
          "hoverlabel": {
           "align": "left"
          },
          "hovermode": "closest",
          "mapbox": {
           "style": "light"
          },
          "paper_bgcolor": "white",
          "plot_bgcolor": "#E5ECF6",
          "polar": {
           "angularaxis": {
            "gridcolor": "white",
            "linecolor": "white",
            "ticks": ""
           },
           "bgcolor": "#E5ECF6",
           "radialaxis": {
            "gridcolor": "white",
            "linecolor": "white",
            "ticks": ""
           }
          },
          "scene": {
           "xaxis": {
            "backgroundcolor": "#E5ECF6",
            "gridcolor": "white",
            "gridwidth": 2,
            "linecolor": "white",
            "showbackground": true,
            "ticks": "",
            "zerolinecolor": "white"
           },
           "yaxis": {
            "backgroundcolor": "#E5ECF6",
            "gridcolor": "white",
            "gridwidth": 2,
            "linecolor": "white",
            "showbackground": true,
            "ticks": "",
            "zerolinecolor": "white"
           },
           "zaxis": {
            "backgroundcolor": "#E5ECF6",
            "gridcolor": "white",
            "gridwidth": 2,
            "linecolor": "white",
            "showbackground": true,
            "ticks": "",
            "zerolinecolor": "white"
           }
          },
          "shapedefaults": {
           "line": {
            "color": "#2a3f5f"
           }
          },
          "ternary": {
           "aaxis": {
            "gridcolor": "white",
            "linecolor": "white",
            "ticks": ""
           },
           "baxis": {
            "gridcolor": "white",
            "linecolor": "white",
            "ticks": ""
           },
           "bgcolor": "#E5ECF6",
           "caxis": {
            "gridcolor": "white",
            "linecolor": "white",
            "ticks": ""
           }
          },
          "title": {
           "x": 0.05
          },
          "xaxis": {
           "automargin": true,
           "gridcolor": "white",
           "linecolor": "white",
           "ticks": "",
           "title": {
            "standoff": 15
           },
           "zerolinecolor": "white",
           "zerolinewidth": 2
          },
          "yaxis": {
           "automargin": true,
           "gridcolor": "white",
           "linecolor": "white",
           "ticks": "",
           "title": {
            "standoff": 15
           },
           "zerolinecolor": "white",
           "zerolinewidth": 2
          }
         }
        },
        "title": {
         "text": "Result Time vs n"
        },
        "xaxis": {
         "anchor": "y",
         "domain": [
          0,
          1
         ],
         "title": {
          "text": "n"
         }
        },
        "yaxis": {
         "anchor": "x",
         "domain": [
          0,
          1
         ],
         "title": {
          "text": "Result Time"
         }
        }
       }
      }
     },
     "metadata": {},
     "output_type": "display_data"
    }
   ],
   "source": [
    "# Scatter plot result_time vs n\n",
    "fig = px.scatter(df, x='n', y='result_time', color='graph_class', symbol='status',\n",
    "                 title='Result Time vs n', labels={'n': 'n', 'result_time': 'Result Time'},\n",
    "                 hover_data=['graph_class', 'status'])\n",
    "fig.show()"
   ]
  },
  {
   "cell_type": "code",
   "execution_count": 26,
   "metadata": {},
   "outputs": [
    {
     "data": {
      "application/vnd.plotly.v1+json": {
       "config": {
        "plotlyServerURL": "https://plot.ly"
       },
       "data": [
        {
         "customdata": [
          [
           "star",
           101
          ],
          [
           "star",
           101
          ],
          [
           "star",
           101
          ],
          [
           "star",
           101
          ],
          [
           "star",
           101
          ],
          [
           "star",
           101
          ],
          [
           "star",
           101
          ],
          [
           "star",
           101
          ],
          [
           "star",
           101
          ],
          [
           "star",
           101
          ],
          [
           "star",
           101
          ],
          [
           "star",
           101
          ],
          [
           "star",
           101
          ],
          [
           "star",
           101
          ],
          [
           "star",
           101
          ],
          [
           "star",
           101
          ],
          [
           "star",
           101
          ],
          [
           "star",
           101
          ],
          [
           "star",
           101
          ],
          [
           "star",
           101
          ],
          [
           "star",
           101
          ],
          [
           "star",
           101
          ],
          [
           "star",
           101
          ],
          [
           "star",
           101
          ],
          [
           "star",
           101
          ],
          [
           "star",
           101
          ]
         ],
         "hovertemplate": "graph_class=%{customdata[0]}<br>status=%{customdata[1]}<br>k=%{x}<br>Result Time=%{y}<extra></extra>",
         "legendgroup": "star, 101",
         "marker": {
          "color": "#636efa",
          "symbol": "circle"
         },
         "mode": "markers",
         "name": "star, 101",
         "orientation": "v",
         "showlegend": true,
         "type": "scatter",
         "x": [
          2,
          1,
          4,
          2,
          8,
          4,
          16,
          8,
          32,
          16,
          64,
          32,
          128,
          64,
          256,
          128,
          512,
          256,
          1024,
          512,
          2048,
          1024,
          4096,
          2048,
          8192,
          4096
         ],
         "xaxis": "x",
         "y": [
          0.0877869129180908,
          0.0238285064697265,
          0.0893394947052002,
          0.0742392539978027,
          0.0807862281799316,
          0.0703496932983398,
          0.1400039196014404,
          0.0974533557891845,
          0.1006767749786377,
          0.0892271995544433,
          0.1017916202545166,
          0.1474149227142334,
          0.100224494934082,
          0.1356480121612548,
          0.1684911251068115,
          0.1575417518615722,
          0.2163870334625244,
          0.2124876976013183,
          0.6242239475250244,
          0.6166279315948486,
          2.9016213417053223,
          2.2368979454040527,
          8.037655115127563,
          9.719138860702516,
          45.80750989913941,
          39.968886375427246
         ],
         "yaxis": "y"
        },
        {
         "customdata": [
          [
           "bipartite",
           101
          ],
          [
           "bipartite",
           101
          ],
          [
           "bipartite",
           101
          ],
          [
           "bipartite",
           101
          ],
          [
           "bipartite",
           101
          ],
          [
           "bipartite",
           101
          ],
          [
           "bipartite",
           101
          ],
          [
           "bipartite",
           101
          ],
          [
           "bipartite",
           101
          ],
          [
           "bipartite",
           101
          ],
          [
           "bipartite",
           101
          ],
          [
           "bipartite",
           101
          ],
          [
           "bipartite",
           101
          ],
          [
           "bipartite",
           101
          ],
          [
           "bipartite",
           101
          ],
          [
           "bipartite",
           101
          ]
         ],
         "hovertemplate": "graph_class=%{customdata[0]}<br>status=%{customdata[1]}<br>k=%{x}<br>Result Time=%{y}<extra></extra>",
         "legendgroup": "bipartite, 101",
         "marker": {
          "color": "#EF553B",
          "symbol": "circle"
         },
         "mode": "markers",
         "name": "bipartite, 101",
         "orientation": "v",
         "showlegend": true,
         "type": "scatter",
         "x": [
          2,
          1,
          4,
          2,
          8,
          4,
          16,
          8,
          32,
          16,
          64,
          32,
          128,
          64,
          256,
          128
         ],
         "xaxis": "x",
         "y": [
          0.0430748462677001,
          0.049560546875,
          0.041576862335205,
          0.0363304615020751,
          0.0450072288513183,
          0.0482771396636962,
          0.0973803997039794,
          0.1037096977233886,
          0.0588588714599609,
          0.0618786811828613,
          0.2086610794067382,
          0.1369028091430664,
          0.4472372531890869,
          0.4604928493499756,
          38.32096219062805,
          31.67998242378235
         ],
         "yaxis": "y"
        }
       ],
       "layout": {
        "legend": {
         "title": {
          "text": "graph_class, status"
         },
         "tracegroupgap": 0
        },
        "template": {
         "data": {
          "bar": [
           {
            "error_x": {
             "color": "#2a3f5f"
            },
            "error_y": {
             "color": "#2a3f5f"
            },
            "marker": {
             "line": {
              "color": "#E5ECF6",
              "width": 0.5
             },
             "pattern": {
              "fillmode": "overlay",
              "size": 10,
              "solidity": 0.2
             }
            },
            "type": "bar"
           }
          ],
          "barpolar": [
           {
            "marker": {
             "line": {
              "color": "#E5ECF6",
              "width": 0.5
             },
             "pattern": {
              "fillmode": "overlay",
              "size": 10,
              "solidity": 0.2
             }
            },
            "type": "barpolar"
           }
          ],
          "carpet": [
           {
            "aaxis": {
             "endlinecolor": "#2a3f5f",
             "gridcolor": "white",
             "linecolor": "white",
             "minorgridcolor": "white",
             "startlinecolor": "#2a3f5f"
            },
            "baxis": {
             "endlinecolor": "#2a3f5f",
             "gridcolor": "white",
             "linecolor": "white",
             "minorgridcolor": "white",
             "startlinecolor": "#2a3f5f"
            },
            "type": "carpet"
           }
          ],
          "choropleth": [
           {
            "colorbar": {
             "outlinewidth": 0,
             "ticks": ""
            },
            "type": "choropleth"
           }
          ],
          "contour": [
           {
            "colorbar": {
             "outlinewidth": 0,
             "ticks": ""
            },
            "colorscale": [
             [
              0,
              "#0d0887"
             ],
             [
              0.1111111111111111,
              "#46039f"
             ],
             [
              0.2222222222222222,
              "#7201a8"
             ],
             [
              0.3333333333333333,
              "#9c179e"
             ],
             [
              0.4444444444444444,
              "#bd3786"
             ],
             [
              0.5555555555555556,
              "#d8576b"
             ],
             [
              0.6666666666666666,
              "#ed7953"
             ],
             [
              0.7777777777777778,
              "#fb9f3a"
             ],
             [
              0.8888888888888888,
              "#fdca26"
             ],
             [
              1,
              "#f0f921"
             ]
            ],
            "type": "contour"
           }
          ],
          "contourcarpet": [
           {
            "colorbar": {
             "outlinewidth": 0,
             "ticks": ""
            },
            "type": "contourcarpet"
           }
          ],
          "heatmap": [
           {
            "colorbar": {
             "outlinewidth": 0,
             "ticks": ""
            },
            "colorscale": [
             [
              0,
              "#0d0887"
             ],
             [
              0.1111111111111111,
              "#46039f"
             ],
             [
              0.2222222222222222,
              "#7201a8"
             ],
             [
              0.3333333333333333,
              "#9c179e"
             ],
             [
              0.4444444444444444,
              "#bd3786"
             ],
             [
              0.5555555555555556,
              "#d8576b"
             ],
             [
              0.6666666666666666,
              "#ed7953"
             ],
             [
              0.7777777777777778,
              "#fb9f3a"
             ],
             [
              0.8888888888888888,
              "#fdca26"
             ],
             [
              1,
              "#f0f921"
             ]
            ],
            "type": "heatmap"
           }
          ],
          "heatmapgl": [
           {
            "colorbar": {
             "outlinewidth": 0,
             "ticks": ""
            },
            "colorscale": [
             [
              0,
              "#0d0887"
             ],
             [
              0.1111111111111111,
              "#46039f"
             ],
             [
              0.2222222222222222,
              "#7201a8"
             ],
             [
              0.3333333333333333,
              "#9c179e"
             ],
             [
              0.4444444444444444,
              "#bd3786"
             ],
             [
              0.5555555555555556,
              "#d8576b"
             ],
             [
              0.6666666666666666,
              "#ed7953"
             ],
             [
              0.7777777777777778,
              "#fb9f3a"
             ],
             [
              0.8888888888888888,
              "#fdca26"
             ],
             [
              1,
              "#f0f921"
             ]
            ],
            "type": "heatmapgl"
           }
          ],
          "histogram": [
           {
            "marker": {
             "pattern": {
              "fillmode": "overlay",
              "size": 10,
              "solidity": 0.2
             }
            },
            "type": "histogram"
           }
          ],
          "histogram2d": [
           {
            "colorbar": {
             "outlinewidth": 0,
             "ticks": ""
            },
            "colorscale": [
             [
              0,
              "#0d0887"
             ],
             [
              0.1111111111111111,
              "#46039f"
             ],
             [
              0.2222222222222222,
              "#7201a8"
             ],
             [
              0.3333333333333333,
              "#9c179e"
             ],
             [
              0.4444444444444444,
              "#bd3786"
             ],
             [
              0.5555555555555556,
              "#d8576b"
             ],
             [
              0.6666666666666666,
              "#ed7953"
             ],
             [
              0.7777777777777778,
              "#fb9f3a"
             ],
             [
              0.8888888888888888,
              "#fdca26"
             ],
             [
              1,
              "#f0f921"
             ]
            ],
            "type": "histogram2d"
           }
          ],
          "histogram2dcontour": [
           {
            "colorbar": {
             "outlinewidth": 0,
             "ticks": ""
            },
            "colorscale": [
             [
              0,
              "#0d0887"
             ],
             [
              0.1111111111111111,
              "#46039f"
             ],
             [
              0.2222222222222222,
              "#7201a8"
             ],
             [
              0.3333333333333333,
              "#9c179e"
             ],
             [
              0.4444444444444444,
              "#bd3786"
             ],
             [
              0.5555555555555556,
              "#d8576b"
             ],
             [
              0.6666666666666666,
              "#ed7953"
             ],
             [
              0.7777777777777778,
              "#fb9f3a"
             ],
             [
              0.8888888888888888,
              "#fdca26"
             ],
             [
              1,
              "#f0f921"
             ]
            ],
            "type": "histogram2dcontour"
           }
          ],
          "mesh3d": [
           {
            "colorbar": {
             "outlinewidth": 0,
             "ticks": ""
            },
            "type": "mesh3d"
           }
          ],
          "parcoords": [
           {
            "line": {
             "colorbar": {
              "outlinewidth": 0,
              "ticks": ""
             }
            },
            "type": "parcoords"
           }
          ],
          "pie": [
           {
            "automargin": true,
            "type": "pie"
           }
          ],
          "scatter": [
           {
            "fillpattern": {
             "fillmode": "overlay",
             "size": 10,
             "solidity": 0.2
            },
            "type": "scatter"
           }
          ],
          "scatter3d": [
           {
            "line": {
             "colorbar": {
              "outlinewidth": 0,
              "ticks": ""
             }
            },
            "marker": {
             "colorbar": {
              "outlinewidth": 0,
              "ticks": ""
             }
            },
            "type": "scatter3d"
           }
          ],
          "scattercarpet": [
           {
            "marker": {
             "colorbar": {
              "outlinewidth": 0,
              "ticks": ""
             }
            },
            "type": "scattercarpet"
           }
          ],
          "scattergeo": [
           {
            "marker": {
             "colorbar": {
              "outlinewidth": 0,
              "ticks": ""
             }
            },
            "type": "scattergeo"
           }
          ],
          "scattergl": [
           {
            "marker": {
             "colorbar": {
              "outlinewidth": 0,
              "ticks": ""
             }
            },
            "type": "scattergl"
           }
          ],
          "scattermapbox": [
           {
            "marker": {
             "colorbar": {
              "outlinewidth": 0,
              "ticks": ""
             }
            },
            "type": "scattermapbox"
           }
          ],
          "scatterpolar": [
           {
            "marker": {
             "colorbar": {
              "outlinewidth": 0,
              "ticks": ""
             }
            },
            "type": "scatterpolar"
           }
          ],
          "scatterpolargl": [
           {
            "marker": {
             "colorbar": {
              "outlinewidth": 0,
              "ticks": ""
             }
            },
            "type": "scatterpolargl"
           }
          ],
          "scatterternary": [
           {
            "marker": {
             "colorbar": {
              "outlinewidth": 0,
              "ticks": ""
             }
            },
            "type": "scatterternary"
           }
          ],
          "surface": [
           {
            "colorbar": {
             "outlinewidth": 0,
             "ticks": ""
            },
            "colorscale": [
             [
              0,
              "#0d0887"
             ],
             [
              0.1111111111111111,
              "#46039f"
             ],
             [
              0.2222222222222222,
              "#7201a8"
             ],
             [
              0.3333333333333333,
              "#9c179e"
             ],
             [
              0.4444444444444444,
              "#bd3786"
             ],
             [
              0.5555555555555556,
              "#d8576b"
             ],
             [
              0.6666666666666666,
              "#ed7953"
             ],
             [
              0.7777777777777778,
              "#fb9f3a"
             ],
             [
              0.8888888888888888,
              "#fdca26"
             ],
             [
              1,
              "#f0f921"
             ]
            ],
            "type": "surface"
           }
          ],
          "table": [
           {
            "cells": {
             "fill": {
              "color": "#EBF0F8"
             },
             "line": {
              "color": "white"
             }
            },
            "header": {
             "fill": {
              "color": "#C8D4E3"
             },
             "line": {
              "color": "white"
             }
            },
            "type": "table"
           }
          ]
         },
         "layout": {
          "annotationdefaults": {
           "arrowcolor": "#2a3f5f",
           "arrowhead": 0,
           "arrowwidth": 1
          },
          "autotypenumbers": "strict",
          "coloraxis": {
           "colorbar": {
            "outlinewidth": 0,
            "ticks": ""
           }
          },
          "colorscale": {
           "diverging": [
            [
             0,
             "#8e0152"
            ],
            [
             0.1,
             "#c51b7d"
            ],
            [
             0.2,
             "#de77ae"
            ],
            [
             0.3,
             "#f1b6da"
            ],
            [
             0.4,
             "#fde0ef"
            ],
            [
             0.5,
             "#f7f7f7"
            ],
            [
             0.6,
             "#e6f5d0"
            ],
            [
             0.7,
             "#b8e186"
            ],
            [
             0.8,
             "#7fbc41"
            ],
            [
             0.9,
             "#4d9221"
            ],
            [
             1,
             "#276419"
            ]
           ],
           "sequential": [
            [
             0,
             "#0d0887"
            ],
            [
             0.1111111111111111,
             "#46039f"
            ],
            [
             0.2222222222222222,
             "#7201a8"
            ],
            [
             0.3333333333333333,
             "#9c179e"
            ],
            [
             0.4444444444444444,
             "#bd3786"
            ],
            [
             0.5555555555555556,
             "#d8576b"
            ],
            [
             0.6666666666666666,
             "#ed7953"
            ],
            [
             0.7777777777777778,
             "#fb9f3a"
            ],
            [
             0.8888888888888888,
             "#fdca26"
            ],
            [
             1,
             "#f0f921"
            ]
           ],
           "sequentialminus": [
            [
             0,
             "#0d0887"
            ],
            [
             0.1111111111111111,
             "#46039f"
            ],
            [
             0.2222222222222222,
             "#7201a8"
            ],
            [
             0.3333333333333333,
             "#9c179e"
            ],
            [
             0.4444444444444444,
             "#bd3786"
            ],
            [
             0.5555555555555556,
             "#d8576b"
            ],
            [
             0.6666666666666666,
             "#ed7953"
            ],
            [
             0.7777777777777778,
             "#fb9f3a"
            ],
            [
             0.8888888888888888,
             "#fdca26"
            ],
            [
             1,
             "#f0f921"
            ]
           ]
          },
          "colorway": [
           "#636efa",
           "#EF553B",
           "#00cc96",
           "#ab63fa",
           "#FFA15A",
           "#19d3f3",
           "#FF6692",
           "#B6E880",
           "#FF97FF",
           "#FECB52"
          ],
          "font": {
           "color": "#2a3f5f"
          },
          "geo": {
           "bgcolor": "white",
           "lakecolor": "white",
           "landcolor": "#E5ECF6",
           "showlakes": true,
           "showland": true,
           "subunitcolor": "white"
          },
          "hoverlabel": {
           "align": "left"
          },
          "hovermode": "closest",
          "mapbox": {
           "style": "light"
          },
          "paper_bgcolor": "white",
          "plot_bgcolor": "#E5ECF6",
          "polar": {
           "angularaxis": {
            "gridcolor": "white",
            "linecolor": "white",
            "ticks": ""
           },
           "bgcolor": "#E5ECF6",
           "radialaxis": {
            "gridcolor": "white",
            "linecolor": "white",
            "ticks": ""
           }
          },
          "scene": {
           "xaxis": {
            "backgroundcolor": "#E5ECF6",
            "gridcolor": "white",
            "gridwidth": 2,
            "linecolor": "white",
            "showbackground": true,
            "ticks": "",
            "zerolinecolor": "white"
           },
           "yaxis": {
            "backgroundcolor": "#E5ECF6",
            "gridcolor": "white",
            "gridwidth": 2,
            "linecolor": "white",
            "showbackground": true,
            "ticks": "",
            "zerolinecolor": "white"
           },
           "zaxis": {
            "backgroundcolor": "#E5ECF6",
            "gridcolor": "white",
            "gridwidth": 2,
            "linecolor": "white",
            "showbackground": true,
            "ticks": "",
            "zerolinecolor": "white"
           }
          },
          "shapedefaults": {
           "line": {
            "color": "#2a3f5f"
           }
          },
          "ternary": {
           "aaxis": {
            "gridcolor": "white",
            "linecolor": "white",
            "ticks": ""
           },
           "baxis": {
            "gridcolor": "white",
            "linecolor": "white",
            "ticks": ""
           },
           "bgcolor": "#E5ECF6",
           "caxis": {
            "gridcolor": "white",
            "linecolor": "white",
            "ticks": ""
           }
          },
          "title": {
           "x": 0.05
          },
          "xaxis": {
           "automargin": true,
           "gridcolor": "white",
           "linecolor": "white",
           "ticks": "",
           "title": {
            "standoff": 15
           },
           "zerolinecolor": "white",
           "zerolinewidth": 2
          },
          "yaxis": {
           "automargin": true,
           "gridcolor": "white",
           "linecolor": "white",
           "ticks": "",
           "title": {
            "standoff": 15
           },
           "zerolinecolor": "white",
           "zerolinewidth": 2
          }
         }
        },
        "title": {
         "text": "Result Time vs k"
        },
        "xaxis": {
         "anchor": "y",
         "domain": [
          0,
          1
         ],
         "title": {
          "text": "k"
         }
        },
        "yaxis": {
         "anchor": "x",
         "domain": [
          0,
          1
         ],
         "title": {
          "text": "Result Time"
         }
        }
       }
      }
     },
     "metadata": {},
     "output_type": "display_data"
    }
   ],
   "source": [
    "\n",
    "# Scatter plot result_time vs k\n",
    "fig = px.scatter(df, x='k', y='result_time', color='graph_class', symbol='status',\n",
    "                 title='Result Time vs k', labels={'k': 'k', 'result_time': 'Result Time'},\n",
    "                 hover_data=['graph_class', 'status'])\n",
    "fig.show()"
   ]
  },
  {
   "cell_type": "code",
   "execution_count": 58,
   "metadata": {},
   "outputs": [
    {
     "data": {
      "image/png": "[encoded data removed]",
      "text/plain": [
       "<Figure size 1400x600 with 1 Axes>"
      ]
     },
     "metadata": {},
     "output_type": "display_data"
    }
   ],
   "source": [
    "df2 = pd.read_csv(r'./results2.csv')\n",
    "\n",
    "# Plot result_time vs N\n",
    "plt.figure(figsize=(14, 6))\n",
    "sns.scatterplot(data=df2, x='n', y='result_time', hue='k', style=\"graph_class\")\n",
    "plt.title('Result time vs N and Class')\n",
    "plt.xlabel('Numero de nós')\n",
    "plt.ylabel('Result Time')\n",
    "plt.legend(title='K/Graph Class',bbox_to_anchor=(1.05, 1), loc='upper left', borderaxespad=0.)\n",
    "plt.show()"
   ]
  },
  {
   "cell_type": "code",
   "execution_count": null,
   "metadata": {},
   "outputs": [],
   "source": []
  }
 ],
 "metadata": {
  "kernelspec": {
   "display_name": "Python 3",
   "language": "python",
   "name": "python3"
  },
  "language_info": {
   "codemirror_mode": {
    "name": "ipython",
    "version": 3
   },
   "file_extension": ".py",
   "mimetype": "text/x-python",
   "name": "python",
   "nbconvert_exporter": "python",
   "pygments_lexer": "ipython3",
   "version": "3.10.12"
  }
 },
 "nbformat": 4,
 "nbformat_minor": 2
}
