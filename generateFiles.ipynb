{
 "cells": [
  {
   "cell_type": "code",
   "execution_count": 4,
   "metadata": {},
   "outputs": [],
   "source": [
    "import itertools\n",
    "import random\n",
    "import networkx as nx\n",
    "import numpy as np\n",
    "from random import choice\n",
    "from more_itertools import random_product\n",
    "\n",
    "directory = \"/home/cliente/Code/UFRJ/HappySet-IC\""
   ]
  },
  {
   "cell_type": "code",
   "execution_count": 5,
   "metadata": {},
   "outputs": [],
   "source": [
    "def rand_sample(all):\n",
    "    sample = choice(all)\n",
    "    all.remove(sample)\n",
    "    return sample"
   ]
  },
  {
   "cell_type": "code",
   "execution_count": 6,
   "metadata": {},
   "outputs": [],
   "source": [
    "def generateStarGraphs():\n",
    "    for n in range(1,16):\n",
    "        f = open(f\"{directory}/inputs/star/star_\" + str(2**n) + \".txt\", \"w\") \n",
    "        f.write(str(2**n) + \" \" + str(2**n - 1) + \"\\n\")    # Write inside file \n",
    "        for e in range(1, 2**n):\n",
    "            # print(\"2**n:\", 2**n, \"e:\", e)\n",
    "            f.write(\"0 \" + str(e) + \"\\n\")    # Write inside file \n",
    "        f.write(\"end\")\n",
    "        f.close() "
   ]
  },
  {
   "cell_type": "code",
   "execution_count": 15,
   "metadata": {},
   "outputs": [],
   "source": [
    "def generateMoreBipartiteGraphs():\n",
    "    for n in range(2,800, 15):\n",
    "        f = open(f\"{directory}/inputs/bipartite/bipartite_\" + str(n) + \".txt\", \"w\")\n",
    "        set_A_size = int(n/2)\n",
    "        set_B_size = n - set_A_size\n",
    "        num_edges = set_A_size * set_B_size\n",
    "        f.write(f\"{n} {num_edges}\\n\")\n",
    "        set_A = range(set_A_size)\n",
    "        set_B = range(set_A_size, n)\n",
    "        # Write all edges. Each vertex in set A connects to every vertex in set B\n",
    "        for a, b in itertools.product(set_A, set_B):\n",
    "            f.write(f\"{a} {b}\\n\")\n",
    "        f.write(\"end\")\n",
    "        f.close()"
   ]
  },
  {
   "cell_type": "code",
   "execution_count": 23,
   "metadata": {},
   "outputs": [],
   "source": [
    "def generateMoreRandomBipartiteGraphs(prob):\n",
    "    for n in range(2,800, 15):\n",
    "        f = open(f\"{directory}/inputs/bipartite/bipartite_{prob}_\" + str(n) + \".txt\", \"w\")\n",
    "        set_A_size = int(n/2)\n",
    "        set_B_size = n - set_A_size\n",
    "        num_edges = set_A_size * set_B_size\n",
    "        f.write(f\"{n} {num_edges}\\n\")\n",
    "        set_A = range(set_A_size)\n",
    "        set_B = range(set_A_size, n)\n",
    "        # Write all edges. Each vertex in set A connects to every vertex in set B\n",
    "        for a, b in itertools.product(set_A, set_B):\n",
    "            if random.random() < prob:\n",
    "                f.write(f\"{a} {b}\\n\")\n",
    "        f.write(\"end\")\n",
    "        f.close()"
   ]
  },
  {
   "cell_type": "code",
   "execution_count": 16,
   "metadata": {},
   "outputs": [],
   "source": [
    "def generateBipartiteGraphs():\n",
    "    for n in range(1,16):\n",
    "        f = open(f\"{directory}/inputs/bipartite/bipartite_\" + str(2**n) + \".txt\", \"w\")\n",
    "        num_vertices = 2**n\n",
    "        set_A_size = 2**(n-1)\n",
    "        set_B_size = 2**(n-1)\n",
    "        num_edges = set_A_size * set_B_size\n",
    "        f.write(f\"{num_vertices} {num_edges}\\n\")\n",
    "        set_A = range(set_A_size)\n",
    "        set_B = range(set_A_size, num_vertices)\n",
    "        # Write all edges. Each vertex in set A connects to every vertex in set B\n",
    "        for a, b in itertools.product(set_A, set_B):\n",
    "            f.write(f\"{a} {b}\\n\")\n",
    "        f.write(\"end\")\n",
    "        f.close()"
   ]
  },
  {
   "cell_type": "code",
   "execution_count": 17,
   "metadata": {},
   "outputs": [],
   "source": [
    "def generateRandomBipartiteGraphs(prob):\n",
    "    for n in range(1, 16):\n",
    "        with open(f\"{directory}/inputs/bipartite_random/bipartite_\" + str(2**n) + \".txt\", \"w\") as f:\n",
    "            num_vertices = 2**n\n",
    "            set_size = 2**(n-1)\n",
    "            p = prob  # Probability of each edge existing\n",
    "            edges = []\n",
    "            set_A = range(set_size)\n",
    "            set_B = range(set_size, num_vertices)\n",
    "            for a, b in itertools.product(set_A, set_B):\n",
    "                if random.random() < p:\n",
    "                    edges.append((a, b))\n",
    "            num_edges = len(edges)\n",
    "            f.write(f\"{num_vertices} {num_edges}\\n\")\n",
    "            for edge in edges:\n",
    "                f.write(f\"{edge[0]} {edge[1]}\\n\")\n",
    "            f.write(\"end\")"
   ]
  },
  {
   "cell_type": "code",
   "execution_count": 18,
   "metadata": {},
   "outputs": [],
   "source": [
    "def generateCubicGraphs():\n",
    "    for n in range(1, 16):\n",
    "        file_path = f\"{directory}/inputs/cubic/cubic_{2**n}.txt\"\n",
    "        with open(file_path, \"w\") as f:\n",
    "            num_vertices = 2**n\n",
    "            num_edges = num_vertices * 3 // 2  # Cubic graph has 3*d/2 edges where d is the number of vertices (approximately)\n",
    "            f.write(f\"{num_vertices} {num_edges}\\n\")\n",
    "            \n",
    "            for i in range(num_vertices):\n",
    "                neighbors = [\n",
    "                    (i, (i - 1) % num_vertices),\n",
    "                    (i, (i + 1) % num_vertices),\n",
    "                    (i, (i + num_vertices // 2) % num_vertices)\n",
    "                ]\n",
    "                \n",
    "                for u, v in neighbors:\n",
    "                    if u < v:  # Ensure each edge is written only once\n",
    "                        f.write(f\"{u} {v}\\n\")\n",
    "            \n",
    "            f.write(\"end\")"
   ]
  },
  {
   "cell_type": "code",
   "execution_count": 19,
   "metadata": {},
   "outputs": [],
   "source": [
    "def generateBAGraphs():\n",
    "    for n in range(2, 16):\n",
    "        num_vertices = 2**n\n",
    "        m = 2  # Number of edges to attach from a new node to existing nodes\n",
    "        G = nx.barabasi_albert_graph(num_vertices, m)\n",
    "        with open(f\"{directory}/inputs/BA/BA_\" + str(num_vertices) + \".txt\", \"w\") as f:\n",
    "            num_edges = G.number_of_edges()\n",
    "            f.write(f\"{num_vertices} {num_edges}\\n\")\n",
    "            for edge in G.edges():\n",
    "                f.write(f\"{edge[0]} {edge[1]}\\n\")\n",
    "            f.write(\"end\")"
   ]
  },
  {
   "cell_type": "code",
   "execution_count": 20,
   "metadata": {},
   "outputs": [],
   "source": [
    "def generateMoreBAGraphs():\n",
    "    for n in range(3, 512, 10):\n",
    "        m = 2  # Number of edges to attach from a new node to existing nodes\n",
    "        G = nx.barabasi_albert_graph(n, m)\n",
    "        with open(f\"{directory}/inputs/BA/BA_\" + str(n) + \".txt\", \"w\") as f:\n",
    "            num_edges = G.number_of_edges()\n",
    "            f.write(f\"{n} {num_edges}\\n\")\n",
    "            for edge in G.edges():\n",
    "                f.write(f\"{edge[0]} {edge[1]}\\n\")\n",
    "            f.write(\"end\")"
   ]
  },
  {
   "cell_type": "code",
   "execution_count": 21,
   "metadata": {},
   "outputs": [],
   "source": [
    "def generateLollipopGraphs():\n",
    "    for n in range(2, 16):\n",
    "        m = 2**(n-1)  # Size of the complete part\n",
    "        t = 2**(n-1)  # Length of the path part\n",
    "        G = nx.lollipop_graph(m, t)\n",
    "        num_vertices = G.number_of_nodes()\n",
    "        with open(f\"{directory}/inputs/lollipop/lollipop_\" + str(num_vertices) + \".txt\", \"w\") as f:\n",
    "            num_edges = G.number_of_edges()\n",
    "            f.write(f\"{num_vertices} {num_edges}\\n\")\n",
    "            for edge in G.edges():\n",
    "                f.write(f\"{edge[0]} {edge[1]}\\n\")\n",
    "            f.write(\"end\")"
   ]
  },
  {
   "cell_type": "markdown",
   "metadata": {},
   "source": [
    "# Main"
   ]
  },
  {
   "cell_type": "code",
   "execution_count": 22,
   "metadata": {},
   "outputs": [
    {
     "name": "stdout",
     "output_type": "stream",
     "text": [
      "Fim.\n"
     ]
    }
   ],
   "source": [
    "graphType = input('Gerar qual grafo?')\n",
    "if graphType == 'star':\n",
    "    generateStarGraphs()\n",
    "if graphType == 'bipartite':\n",
    "    generateBipartiteGraphs()\n",
    "if graphType == 'More bipartite':\n",
    "    generateMoreBipartiteGraphs()\n",
    "if graphType == 'bipartite_rand':\n",
    "    prob = input('Qual Prob aresta?')\n",
    "    generateMoreRandomBipartiteGraphs(prob)\n",
    "if graphType == 'cubic':\n",
    "    generateCubicGraphs()\n",
    "if graphType == 'BA':\n",
    "    generateBAGraphs()\n",
    "if graphType == 'More BA':\n",
    "    generateMoreBAGraphs()   # more granularity up to 512\n",
    "if graphType == 'lollipop': \n",
    "    generateLollipopGraphs()\n",
    "    \n",
    "print('Fim.')"
   ]
  },
  {
   "cell_type": "code",
   "execution_count": null,
   "metadata": {},
   "outputs": [],
   "source": []
  }
 ],
 "metadata": {
  "kernelspec": {
   "display_name": "Python 3",
   "language": "python",
   "name": "python3"
  },
  "language_info": {
   "codemirror_mode": {
    "name": "ipython",
    "version": 3
   },
   "file_extension": ".py",
   "mimetype": "text/x-python",
   "name": "python",
   "nbconvert_exporter": "python",
   "pygments_lexer": "ipython3",
   "version": "3.10.12"
  }
 },
 "nbformat": 4,
 "nbformat_minor": 2
}
